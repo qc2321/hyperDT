{
 "cells": [
  {
   "cell_type": "code",
   "execution_count": 1,
   "metadata": {},
   "outputs": [],
   "source": [
    "%load_ext autoreload\n",
    "%autoreload 2"
   ]
  },
  {
   "cell_type": "code",
   "execution_count": 2,
   "metadata": {},
   "outputs": [
    {
     "name": "stderr",
     "output_type": "stream",
     "text": [
      "INFO: Using numpy backend\n"
     ]
    }
   ],
   "source": [
    "# Set geomstats background\n",
    "# export GEOMSTATS_BACKEND=numpy\n",
    "import os\n",
    "os.environ['GEOMSTATS_BACKEND'] = 'numpy'\n",
    "\n",
    "import numpy as np\n",
    "import hyperdt.benchmarking as benchmarking\n",
    "from hyperdt.product_space_DT import ProductSpace, ProductSpaceDT\n",
    "from hyperdt.forest import ProductSpaceRF\n",
    "from sklearn.tree import DecisionTreeClassifier\n",
    "from sklearn.ensemble import RandomForestClassifier"
   ]
  },
  {
   "cell_type": "code",
   "execution_count": 3,
   "metadata": {},
   "outputs": [],
   "source": [
    "NUM_POINTS = 1000\n",
    "NUM_CLASSES = 4\n",
    "signatures = [\n",
    "    # [(3, -1.)],\n",
    "    # [(3, 1.)],\n",
    "    # [(3, -1.), (4, -.5)],\n",
    "    # [(3, -1.), (4, 1.)],\n",
    "    # [(3, -1.), (4, 1.), (5, 0.)],\n",
    "    # [(3, -1.), (4, -.5), (3, .5), (4, 1.)],\n",
    "    # [(3, -1.), (4, -.5), (3, .5), (4, 1.), (5, 0.)],\n",
    "    [(5,-1), (5,-1)],\n",
    "    [(5, 1), (5, 1)],\n",
    "    [(5, -1), (5, 1)],\n",
    "    [(2,-1), (2,-1), (2,-1), (2,-1), (2,-1)],\n",
    "    [(2, 1), (2, 1), (2, 1), (2, 1), (2, 1)],\n",
    "    [(2, -1), (2, -1), (2, 0), (2, 1), (2, 1)]\n",
    "    # [(10,-1)],\n",
    "    # [(10, 1)],\n",
    "    # [(10, 0)],\n",
    "]\n"
   ]
  },
  {
   "cell_type": "code",
   "execution_count": 4,
   "metadata": {},
   "outputs": [
    {
     "name": "stderr",
     "output_type": "stream",
     "text": [
      "INFO: NumExpr defaulting to 8 threads.\n",
      "100%|██████████| 600/600 [09:04<00:00,  1.10it/s]\n"
     ]
    },
    {
     "data": {
      "text/html": [
       "<div>\n",
       "<style scoped>\n",
       "    .dataframe tbody tr th:only-of-type {\n",
       "        vertical-align: middle;\n",
       "    }\n",
       "\n",
       "    .dataframe tbody tr th {\n",
       "        vertical-align: top;\n",
       "    }\n",
       "\n",
       "    .dataframe thead th {\n",
       "        text-align: right;\n",
       "    }\n",
       "</style>\n",
       "<table border=\"1\" class=\"dataframe\">\n",
       "  <thead>\n",
       "    <tr style=\"text-align: right;\">\n",
       "      <th></th>\n",
       "      <th>seed</th>\n",
       "      <th>signature</th>\n",
       "      <th>psdt_score</th>\n",
       "      <th>dt_score</th>\n",
       "    </tr>\n",
       "  </thead>\n",
       "  <tbody>\n",
       "    <tr>\n",
       "      <th>0</th>\n",
       "      <td>0</td>\n",
       "      <td>[(5, -1), (5, -1)]</td>\n",
       "      <td>[0.97, 0.98, 0.915, 0.925, 0.98, 1.0, 0.995, 0...</td>\n",
       "      <td>[0.95, 0.89, 0.865, 0.835, 0.9, 0.845, 0.985, ...</td>\n",
       "    </tr>\n",
       "    <tr>\n",
       "      <th>1</th>\n",
       "      <td>0</td>\n",
       "      <td>[(5, 1), (5, 1)]</td>\n",
       "      <td>[0.675, 0.54, 0.56, 0.6, 0.51, 0.545, 0.67, 0....</td>\n",
       "      <td>[0.675, 0.535, 0.545, 0.625, 0.535, 0.5, 0.665...</td>\n",
       "    </tr>\n",
       "    <tr>\n",
       "      <th>2</th>\n",
       "      <td>0</td>\n",
       "      <td>[(5, -1), (5, 1)]</td>\n",
       "      <td>[0.97, 0.98, 0.915, 0.925, 0.98, 1.0, 0.995, 0...</td>\n",
       "      <td>[0.95, 0.885, 0.865, 0.835, 0.9, 0.87, 0.985, ...</td>\n",
       "    </tr>\n",
       "    <tr>\n",
       "      <th>3</th>\n",
       "      <td>0</td>\n",
       "      <td>[(2, -1), (2, -1), (2, -1), (2, -1), (2, -1)]</td>\n",
       "      <td>[0.705, 0.955, 0.72, 0.805, 0.6, 0.66, 0.84, 0...</td>\n",
       "      <td>[0.72, 0.935, 0.71, 0.805, 0.615, 0.665, 0.8, ...</td>\n",
       "    </tr>\n",
       "    <tr>\n",
       "      <th>4</th>\n",
       "      <td>0</td>\n",
       "      <td>[(2, 1), (2, 1), (2, 1), (2, 1), (2, 1)]</td>\n",
       "      <td>[0.655, 0.715, 0.49, 0.685, 0.45, 0.575, 0.665...</td>\n",
       "      <td>[0.6, 0.695, 0.495, 0.65, 0.42, 0.6, 0.66, 0.5...</td>\n",
       "    </tr>\n",
       "    <tr>\n",
       "      <th>5</th>\n",
       "      <td>0</td>\n",
       "      <td>[(2, -1), (2, -1), (2, 0), (2, 1), (2, 1)]</td>\n",
       "      <td>[0.77, 0.955, 0.75, 0.805, 0.625, 0.69, 0.84, ...</td>\n",
       "      <td>[0.735, 0.95, 0.735, 0.78, 0.625, 0.65, 0.825,...</td>\n",
       "    </tr>\n",
       "  </tbody>\n",
       "</table>\n",
       "</div>"
      ],
      "text/plain": [
       "   seed                                      signature  \\\n",
       "0     0                             [(5, -1), (5, -1)]   \n",
       "1     0                               [(5, 1), (5, 1)]   \n",
       "2     0                              [(5, -1), (5, 1)]   \n",
       "3     0  [(2, -1), (2, -1), (2, -1), (2, -1), (2, -1)]   \n",
       "4     0       [(2, 1), (2, 1), (2, 1), (2, 1), (2, 1)]   \n",
       "5     0     [(2, -1), (2, -1), (2, 0), (2, 1), (2, 1)]   \n",
       "\n",
       "                                          psdt_score  \\\n",
       "0  [0.97, 0.98, 0.915, 0.925, 0.98, 1.0, 0.995, 0...   \n",
       "1  [0.675, 0.54, 0.56, 0.6, 0.51, 0.545, 0.67, 0....   \n",
       "2  [0.97, 0.98, 0.915, 0.925, 0.98, 1.0, 0.995, 0...   \n",
       "3  [0.705, 0.955, 0.72, 0.805, 0.6, 0.66, 0.84, 0...   \n",
       "4  [0.655, 0.715, 0.49, 0.685, 0.45, 0.575, 0.665...   \n",
       "5  [0.77, 0.955, 0.75, 0.805, 0.625, 0.69, 0.84, ...   \n",
       "\n",
       "                                            dt_score  \n",
       "0  [0.95, 0.89, 0.865, 0.835, 0.9, 0.845, 0.985, ...  \n",
       "1  [0.675, 0.535, 0.545, 0.625, 0.535, 0.5, 0.665...  \n",
       "2  [0.95, 0.885, 0.865, 0.835, 0.9, 0.87, 0.985, ...  \n",
       "3  [0.72, 0.935, 0.71, 0.805, 0.615, 0.665, 0.8, ...  \n",
       "4  [0.6, 0.695, 0.495, 0.65, 0.42, 0.6, 0.66, 0.5...  \n",
       "5  [0.735, 0.95, 0.735, 0.78, 0.625, 0.65, 0.825,...  "
      ]
     },
     "execution_count": 4,
     "metadata": {},
     "output_type": "execute_result"
    }
   ],
   "source": [
    "import pandas as pd\n",
    "from tqdm import tqdm\n",
    "\n",
    "seed = 0\n",
    "results = []\n",
    "\n",
    "rnd_seeds, psdt_scores_by_signature, dt_scores_by_signature = benchmarking.compute_scores_by_signature(\n",
    "    signatures, 1000, NUM_CLASSES, seed=seed, max_depth=3, n_seeds=100)\n",
    "for signature, psdt_score, dt_score in zip(signatures, psdt_scores_by_signature, dt_scores_by_signature):\n",
    "    results.append({\n",
    "        \"seed\": seed,\n",
    "        \"signature\": signature,\n",
    "        \"psdt_score\": psdt_score,\n",
    "        \"dt_score\": dt_score\n",
    "    })\n",
    "\n",
    "results = pd.DataFrame(results)\n",
    "results"
   ]
  },
  {
   "cell_type": "code",
   "execution_count": 5,
   "metadata": {},
   "outputs": [
    {
     "name": "stdout",
     "output_type": "stream",
     "text": [
      "$\\H{5, 1} \\times \\H{5, 1}$ & $93.6 \\pm 1.1$ & $97.3 \\pm 0.5^*$\\\\\n",
      "$\\S{5, 1} \\times \\S{5, 1}$ & $62.2 \\pm 1.6$ & $64.1 \\pm 1.5^*$\\\\\n",
      "$\\H{5, 1} \\times \\S{5, 1}$ & $93.7 \\pm 1.1$ & $97.3 \\pm 0.5^*$\\\\\n",
      "$\\H{2, 1} \\times \\H{2, 1} \\times \\H{2, 1} \\times \\H{2, 1} \\times \\H{2, 1}$ & $76.9 \\pm 1.9$ & $78.6 \\pm 1.9^*$\\\\\n",
      "$\\S{2, 1} \\times \\S{2, 1} \\times \\S{2, 1} \\times \\S{2, 1} \\times \\S{2, 1}$ & $60.4 \\pm 1.9$ & $60.6 \\pm 1.9$\\\\\n",
      "$\\H{2, 1} \\times \\H{2, 1} \\times \\E{2} \\times \\S{2, 1} \\times \\S{2, 1}$ & $78.2 \\pm 1.9$ & $79.5 \\pm 1.9^*$\\\\\n"
     ]
    }
   ],
   "source": [
    "import scipy.stats as stats\n",
    "\n",
    "# for signature, psdt_scores, dt_scores in zip(signatures, psdt_scores_by_signature, dt_scores_by_signature):\n",
    "for signature, (i, row) in zip(signatures, results.iterrows()):\n",
    "    dt_scores = row[\"dt_score\"]\n",
    "    psdt_scores = row[\"psdt_score\"]\n",
    "    s = []\n",
    "    for component in signature:\n",
    "        if component[1] < 0:\n",
    "            s.append(\"\\H{\" + f\"{component[0]}, {-component[1]}\" + \"}\")\n",
    "        elif component[1] == 0:\n",
    "            s.append(\"\\E{\" + f\"{component[0]}\" + \"}\")\n",
    "        else:\n",
    "            s.append(\"\\S{\" + f\"{component[0]}, {component[1]}\" + \"}\")\n",
    "    print(\"$\" + \" \\\\times \".join(s) + \"$\", end=\" & \")\n",
    "    print(f\"${np.mean(dt_scores) * 100:.1f} \\pm {np.std(dt_scores) / np.sqrt(len(dt_scores)) * 1.96 * 100 :.1f}$\", end=\" & \")\n",
    "    print(f\"${np.mean(psdt_scores) * 100:.1f} \\pm {np.std(psdt_scores) / np.sqrt(len(psdt_scores)) * 1.96 * 100 :.1f}\", end=\"\")\n",
    "\n",
    "    t, p = stats.ttest_rel(dt_scores, psdt_scores)\n",
    "    if p < .05:\n",
    "        print(\"^*$\", end=\"\")\n",
    "    else:\n",
    "        print(\"$\", end=\"\")\n",
    "\n",
    "    print(\"\\\\\\\\\")"
   ]
  },
  {
   "cell_type": "code",
   "execution_count": 6,
   "metadata": {},
   "outputs": [
    {
     "name": "stderr",
     "output_type": "stream",
     "text": [
      "  0%|          | 0/120 [00:00<?, ?it/s]"
     ]
    },
    {
     "name": "stderr",
     "output_type": "stream",
     "text": [
      "100%|██████████| 120/120 [12:42<00:00,  6.36s/it]\n"
     ]
    },
    {
     "data": {
      "text/html": [
       "<div>\n",
       "<style scoped>\n",
       "    .dataframe tbody tr th:only-of-type {\n",
       "        vertical-align: middle;\n",
       "    }\n",
       "\n",
       "    .dataframe tbody tr th {\n",
       "        vertical-align: top;\n",
       "    }\n",
       "\n",
       "    .dataframe thead th {\n",
       "        text-align: right;\n",
       "    }\n",
       "</style>\n",
       "<table border=\"1\" class=\"dataframe\">\n",
       "  <thead>\n",
       "    <tr style=\"text-align: right;\">\n",
       "      <th></th>\n",
       "      <th>signature</th>\n",
       "      <th>psdt_score</th>\n",
       "      <th>dt_score</th>\n",
       "    </tr>\n",
       "  </thead>\n",
       "  <tbody>\n",
       "    <tr>\n",
       "      <th>0</th>\n",
       "      <td>[(5, -1), (5, -1)]</td>\n",
       "      <td>[0.97, 0.98, 0.915, 0.95, 0.985, 1.0, 1.0, 0.9...</td>\n",
       "      <td>[0.96, 0.905, 0.875, 0.875, 0.88, 0.855, 0.995...</td>\n",
       "    </tr>\n",
       "    <tr>\n",
       "      <th>1</th>\n",
       "      <td>[(5, 1), (5, 1)]</td>\n",
       "      <td>[0.675, 0.575, 0.585, 0.62, 0.5, 0.575, 0.675,...</td>\n",
       "      <td>[0.675, 0.58, 0.585, 0.63, 0.52, 0.58, 0.67, 0...</td>\n",
       "    </tr>\n",
       "    <tr>\n",
       "      <th>2</th>\n",
       "      <td>[(5, -1), (5, 1)]</td>\n",
       "      <td>[0.97, 0.98, 0.915, 0.95, 0.985, 1.0, 1.0, 0.9...</td>\n",
       "      <td>[0.89, 0.935, 0.895, 0.835, 0.875, 0.845, 0.98...</td>\n",
       "    </tr>\n",
       "    <tr>\n",
       "      <th>3</th>\n",
       "      <td>[(2, -1), (2, -1), (2, -1), (2, -1), (2, -1)]</td>\n",
       "      <td>[0.78, 0.95, 0.725, 0.805, 0.625, 0.735, 0.85,...</td>\n",
       "      <td>[0.745, 0.94, 0.715, 0.79, 0.625, 0.68, 0.775,...</td>\n",
       "    </tr>\n",
       "    <tr>\n",
       "      <th>4</th>\n",
       "      <td>[(2, 1), (2, 1), (2, 1), (2, 1), (2, 1)]</td>\n",
       "      <td>[0.705, 0.7, 0.51, 0.69, 0.49, 0.615, 0.62, 0....</td>\n",
       "      <td>[0.645, 0.725, 0.49, 0.705, 0.465, 0.61, 0.72,...</td>\n",
       "    </tr>\n",
       "    <tr>\n",
       "      <th>5</th>\n",
       "      <td>[(2, -1), (2, -1), (2, 0), (2, 1), (2, 1)]</td>\n",
       "      <td>[0.79, 0.95, 0.735, 0.805, 0.63, 0.74, 0.85, 0...</td>\n",
       "      <td>[0.765, 0.94, 0.73, 0.81, 0.575, 0.71, 0.795, ...</td>\n",
       "    </tr>\n",
       "  </tbody>\n",
       "</table>\n",
       "</div>"
      ],
      "text/plain": [
       "                                       signature  \\\n",
       "0                             [(5, -1), (5, -1)]   \n",
       "1                               [(5, 1), (5, 1)]   \n",
       "2                              [(5, -1), (5, 1)]   \n",
       "3  [(2, -1), (2, -1), (2, -1), (2, -1), (2, -1)]   \n",
       "4       [(2, 1), (2, 1), (2, 1), (2, 1), (2, 1)]   \n",
       "5     [(2, -1), (2, -1), (2, 0), (2, 1), (2, 1)]   \n",
       "\n",
       "                                          psdt_score  \\\n",
       "0  [0.97, 0.98, 0.915, 0.95, 0.985, 1.0, 1.0, 0.9...   \n",
       "1  [0.675, 0.575, 0.585, 0.62, 0.5, 0.575, 0.675,...   \n",
       "2  [0.97, 0.98, 0.915, 0.95, 0.985, 1.0, 1.0, 0.9...   \n",
       "3  [0.78, 0.95, 0.725, 0.805, 0.625, 0.735, 0.85,...   \n",
       "4  [0.705, 0.7, 0.51, 0.69, 0.49, 0.615, 0.62, 0....   \n",
       "5  [0.79, 0.95, 0.735, 0.805, 0.63, 0.74, 0.85, 0...   \n",
       "\n",
       "                                            dt_score  \n",
       "0  [0.96, 0.905, 0.875, 0.875, 0.88, 0.855, 0.995...  \n",
       "1  [0.675, 0.58, 0.585, 0.63, 0.52, 0.58, 0.67, 0...  \n",
       "2  [0.89, 0.935, 0.895, 0.835, 0.875, 0.845, 0.98...  \n",
       "3  [0.745, 0.94, 0.715, 0.79, 0.625, 0.68, 0.775,...  \n",
       "4  [0.645, 0.725, 0.49, 0.705, 0.465, 0.61, 0.72,...  \n",
       "5  [0.765, 0.94, 0.73, 0.81, 0.575, 0.71, 0.795, ...  "
      ]
     },
     "execution_count": 6,
     "metadata": {},
     "output_type": "execute_result"
    }
   ],
   "source": [
    "# RF version\n",
    "import pandas as pd\n",
    "\n",
    "results_rf = []\n",
    "\n",
    "rnd_seeds, psdt_scores_by_signature, dt_scores_by_signature = benchmarking.compute_scores_by_signature(\n",
    "    signatures, 1000, NUM_CLASSES, seed=0, max_depth=3, n_seeds=20, rf=True\n",
    ")\n",
    "for signature, psdt_score, dt_score in zip(signatures, psdt_scores_by_signature, dt_scores_by_signature):\n",
    "    results_rf.append({\"signature\": signature, \"psdt_score\": psdt_score, \"dt_score\": dt_score})\n",
    "\n",
    "results_rf = pd.DataFrame(results_rf)\n",
    "results_rf"
   ]
  },
  {
   "cell_type": "code",
   "execution_count": 7,
   "metadata": {},
   "outputs": [
    {
     "name": "stdout",
     "output_type": "stream",
     "text": [
      "$94.0 \\pm 1.9$ & $98.0 \\pm 1.0^*$\n",
      "$64.5 \\pm 3.4$ & $64.1 \\pm 3.6$\n",
      "$92.5 \\pm 2.1$ & $98.0 \\pm 1.0^*$\n",
      "$81.1 \\pm 4.1$ & $82.0 \\pm 4.1$\n",
      "$62.4 \\pm 4.6$ & $61.2 \\pm 4.2$\n",
      "$81.7 \\pm 4.4$ & $82.7 \\pm 4.0$\n"
     ]
    }
   ],
   "source": [
    "import scipy.stats as stats\n",
    "\n",
    "# for signature, psdt_scores, dt_scores in zip(signatures, psdt_scores_by_signature, dt_scores_by_signature):\n",
    "for signature, (i, row) in zip(signatures, results_rf.iterrows()):\n",
    "    dt_scores = row[\"dt_score\"]\n",
    "    psdt_scores = row[\"psdt_score\"]\n",
    "    s = []\n",
    "    for component in signature:\n",
    "        if component[1] < 0:\n",
    "            s.append(\"\\H{\" + f\"{component[0]}, {-component[1]}\" + \"}\")\n",
    "        elif component[1] == 0:\n",
    "            s.append(\"\\E{\" + f\"{component[0]}\" + \"}\")\n",
    "        else:\n",
    "            s.append(\"\\S{\" + f\"{component[0]}, {component[1]}\" + \"}\")\n",
    "    # print(\"$\" + \" \\\\times \".join(s) + \"$\", end=\" & \")\n",
    "    print(f\"${np.mean(dt_scores) * 100:.1f} \\pm {np.std(dt_scores) / np.sqrt(len(dt_scores)) * 1.96 * 100 :.1f}$\", end=\" & \")\n",
    "    print(f\"${np.mean(psdt_scores) * 100:.1f} \\pm {np.std(psdt_scores) / np.sqrt(len(psdt_scores)) * 1.96 * 100 :.1f}\", end=\"\")\n",
    "\n",
    "    t, p = stats.ttest_rel(dt_scores, psdt_scores)\n",
    "    if p < .05:\n",
    "        print(\"^*$\", end=\"\")\n",
    "    else:\n",
    "        print(\"$\", end=\"\")\n",
    "\n",
    "    # print(\"\\\\\\\\\")\n",
    "    print()"
   ]
  },
  {
   "cell_type": "code",
   "execution_count": null,
   "metadata": {},
   "outputs": [],
   "source": []
  }
 ],
 "metadata": {
  "kernelspec": {
   "display_name": "productDT",
   "language": "python",
   "name": "python3"
  },
  "language_info": {
   "codemirror_mode": {
    "name": "ipython",
    "version": 3
   },
   "file_extension": ".py",
   "mimetype": "text/x-python",
   "name": "python",
   "nbconvert_exporter": "python",
   "pygments_lexer": "ipython3",
   "version": "3.11.7"
  }
 },
 "nbformat": 4,
 "nbformat_minor": 2
}
