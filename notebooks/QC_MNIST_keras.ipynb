{
 "cells": [
  {
   "cell_type": "markdown",
   "metadata": {},
   "source": [
    "## HyperDT vs sklearn with MNIST data"
   ]
  },
  {
   "cell_type": "code",
   "execution_count": null,
   "metadata": {},
   "outputs": [],
   "source": [
    "%load_ext autoreload\n",
    "%autoreload 2"
   ]
  },
  {
   "cell_type": "code",
   "execution_count": null,
   "metadata": {},
   "outputs": [],
   "source": [
    "import numpy as np\n",
    "import matplotlib.pyplot as plt\n",
    "from keras.datasets import mnist\n",
    "from sklearn.tree import DecisionTreeClassifier\n",
    "from sklearn.metrics import accuracy_score\n",
    "from hyperdt.tree import HyperbolicDecisionTreeClassifier"
   ]
  },
  {
   "cell_type": "markdown",
   "metadata": {},
   "source": [
    "### Load MNIST dataset"
   ]
  },
  {
   "cell_type": "code",
   "execution_count": null,
   "metadata": {},
   "outputs": [],
   "source": [
    "(train_X, train_y), (test_X, test_y) = mnist.load_data()\n",
    "print(f'train_X.shape={train_X.shape}, test_X.shape={test_X.shape}')"
   ]
  },
  {
   "cell_type": "code",
   "execution_count": null,
   "metadata": {},
   "outputs": [],
   "source": [
    "# Flatten the images\n",
    "train_X = train_X.reshape(train_X.shape[0], -1).astype(np.float64)\n",
    "test_X = test_X.reshape(test_X.shape[0], -1).astype(np.float64)\n",
    "print(f'train_X.shape={train_X.shape}, test_X.shape={test_X.shape}')"
   ]
  },
  {
   "cell_type": "code",
   "execution_count": null,
   "metadata": {},
   "outputs": [],
   "source": [
    "# Add time dimension as Euclidean distance of all other dimensions\n",
    "K = 1\n",
    "train_x_0 = np.sqrt(np.sum(train_X**2, axis=1) + 1/K).reshape(-1, 1)\n",
    "test_x_0 = np.sqrt(np.sum(test_X**2, axis=1) + 1/K).reshape(-1, 1)\n",
    "train_X_time = np.concatenate([train_x_0, train_X], axis=1)\n",
    "test_X_time = np.concatenate([test_x_0, test_X], axis=1)\n",
    "print(f'train_X_time.shape={train_X_time.shape}, test_X_time.shape={test_X_time.shape}')"
   ]
  },
  {
   "cell_type": "markdown",
   "metadata": {},
   "source": [
    "### sklearn decision tree model in Euclidean space"
   ]
  },
  {
   "cell_type": "code",
   "execution_count": null,
   "metadata": {},
   "outputs": [],
   "source": [
    "# Train decision tree classifier\n",
    "dtc = DecisionTreeClassifier(random_state=42)\n",
    "dtc.fit(train_X, train_y)"
   ]
  },
  {
   "cell_type": "code",
   "execution_count": null,
   "metadata": {},
   "outputs": [],
   "source": [
    "# Predict test set labels\n",
    "pred_y = dtc.predict(test_X)\n",
    "\n",
    "# Compute accuracy\n",
    "accuracy = accuracy_score(test_y, pred_y)\n",
    "print(f\"Accuracy: {accuracy:.2f}\")"
   ]
  },
  {
   "cell_type": "markdown",
   "metadata": {},
   "source": [
    "### HyperDT on augmented MNIST data"
   ]
  },
  {
   "cell_type": "code",
   "execution_count": null,
   "metadata": {},
   "outputs": [],
   "source": [
    "def Minkowski(X):\n",
    "    return np.sum(X[:, 1:]**2, axis=1) - X[:, 0]**2"
   ]
  },
  {
   "cell_type": "code",
   "execution_count": null,
   "metadata": {},
   "outputs": [],
   "source": [
    "# Fit hyperbolic decision tree classifier\n",
    "hdt = HyperbolicDecisionTreeClassifier(timelike_dim=0, max_depth=2)\n",
    "hdt.fit(train_X_time, train_y)\n",
    "\n",
    "# Compute accuracy\n",
    "hdt_score = hdt.score(test_X_time, test_y)\n",
    "print(hdt_score)"
   ]
  },
  {
   "cell_type": "code",
   "execution_count": null,
   "metadata": {},
   "outputs": [],
   "source": []
  }
 ],
 "metadata": {
  "kernelspec": {
   "display_name": "hyperDT",
   "language": "python",
   "name": "python3"
  },
  "language_info": {
   "codemirror_mode": {
    "name": "ipython",
    "version": 3
   },
   "file_extension": ".py",
   "mimetype": "text/x-python",
   "name": "python",
   "nbconvert_exporter": "python",
   "pygments_lexer": "ipython3",
   "version": "3.11.7"
  }
 },
 "nbformat": 4,
 "nbformat_minor": 2
}
