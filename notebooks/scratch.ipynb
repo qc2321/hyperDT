{
 "cells": [
  {
   "cell_type": "code",
   "execution_count": 25,
   "metadata": {},
   "outputs": [
    {
     "name": "stdout",
     "output_type": "stream",
     "text": [
      "The autoreload extension is already loaded. To reload it, use:\n",
      "  %reload_ext autoreload\n"
     ]
    }
   ],
   "source": [
    "%load_ext autoreload\n",
    "%autoreload 2"
   ]
  },
  {
   "cell_type": "code",
   "execution_count": 26,
   "metadata": {},
   "outputs": [
    {
     "data": {
      "text/plain": [
       "array([-1., -1., -1., -1., -1., -1., -1., -1., -1., -1., -1., -1., -1.,\n",
       "       -1., -1., -1., -1., -1., -1., -1., -1., -1., -1., -1., -1., -1.,\n",
       "       -1., -1., -1., -1., -1., -1., -1., -1., -1., -1., -1., -1., -1.,\n",
       "       -1., -1., -1., -1., -1., -1., -1., -1., -1., -1., -1., -1., -1.,\n",
       "       -1., -1., -1., -1., -1., -1., -1., -1., -1., -1., -1., -1., -1.,\n",
       "       -1., -1., -1., -1., -1., -1., -1., -1., -1., -1., -1., -1., -1.,\n",
       "       -1., -1., -1., -1., -1., -1., -1., -1., -1., -1., -1., -1., -1.,\n",
       "       -1., -1., -1., -1., -1., -1., -1., -1., -1.])"
      ]
     },
     "execution_count": 26,
     "metadata": {},
     "output_type": "execute_result"
    }
   ],
   "source": [
    "import numpy as np\n",
    "\n",
    "X = np.random.rand(100, 4)\n",
    "\n",
    "def minkowski(X):\n",
    "    return np.sum(X[:,1:]**2, axis=1) - X[:,0]**2\n",
    "\n",
    "# Compute timelike dim\n",
    "\n",
    "t = np.sqrt(np.sum(X**2, axis=1) + 1)\n",
    "\n",
    "X_t = np.column_stack((t, X))\n",
    "\n",
    "minkowski(X_t)"
   ]
  },
  {
   "cell_type": "code",
   "execution_count": 50,
   "metadata": {},
   "outputs": [
    {
     "name": "stderr",
     "output_type": "stream",
     "text": [
      "/home/phil/mambaforge/envs/hdt/lib/python3.11/site-packages/sklearn/datasets/_openml.py:1002: FutureWarning: The default value of `parser` will change from `'liac-arff'` to `'auto'` in 1.4. You can set `parser='auto'` to silence this warning. Therefore, an `ImportError` will be raised from 1.4 if the dataset is dense and pandas is not installed. Note that the pandas parser may return different data types. See the Notes Section in fetch_openml's API doc for details.\n",
      "  warn(\n"
     ]
    }
   ],
   "source": [
    "# Import mnist, split, standard scale, and run hdt\n",
    "\n",
    "from sklearn.datasets import fetch_openml\n",
    "from sklearn.model_selection import train_test_split\n",
    "# from sklearn.preprocessing import StandardScaler\n",
    "\n",
    "mnist = fetch_openml('mnist_784', version=1)\n",
    "X = mnist.data\n",
    "y = mnist.target\n",
    "y = y.astype(int)\n",
    "\n",
    "X_train, X_test, y_train, y_test = train_test_split(X, y, test_size=0.2, random_state=42)\n",
    "\n",
    "# scaler = StandardScaler()\n",
    "\n",
    "def phi(X):\n",
    "    \"\"\"Prepend 1 to each row\"\"\"\n",
    "    return np.column_stack((np.ones(X.shape[0]), X))"
   ]
  },
  {
   "cell_type": "code",
   "execution_count": 28,
   "metadata": {},
   "outputs": [],
   "source": [
    "# from hyperdt.tree import HyperbolicDecisionTreeClassifier\n",
    "from hyperdt.tree_torch import HyperbolicDecisionTreeClassifier\n",
    "\n",
    "hdt = HyperbolicDecisionTreeClassifier(max_depth=3, skip_hyperboloid_check=True, angle_midpoint_method=\"bisect\")"
   ]
  },
  {
   "cell_type": "code",
   "execution_count": 29,
   "metadata": {},
   "outputs": [
    {
     "ename": "ValueError",
     "evalue": "too many dimensions 'str'",
     "output_type": "error",
     "traceback": [
      "\u001b[0;31m---------------------------------------------------------------------------\u001b[0m",
      "\u001b[0;31mValueError\u001b[0m                                Traceback (most recent call last)",
      "Cell \u001b[0;32mIn[29], line 1\u001b[0m\n\u001b[0;32m----> 1\u001b[0m get_ipython()\u001b[38;5;241m.\u001b[39mrun_cell_magic(\u001b[38;5;124m'\u001b[39m\u001b[38;5;124mprun\u001b[39m\u001b[38;5;124m'\u001b[39m, \u001b[38;5;124m'\u001b[39m\u001b[38;5;124m'\u001b[39m, \u001b[38;5;124m'\u001b[39m\u001b[38;5;130;01m\\n\u001b[39;00m\u001b[38;5;124m# prun with no optimizations\u001b[39m\u001b[38;5;130;01m\\n\u001b[39;00m\u001b[38;5;130;01m\\n\u001b[39;00m\u001b[38;5;124mhdt.fit(phi(X_train.values[:, :100]), y_train)\u001b[39m\u001b[38;5;130;01m\\n\u001b[39;00m\u001b[38;5;124m'\u001b[39m)\n",
      "File \u001b[0;32m~/mambaforge/envs/hdt/lib/python3.11/site-packages/IPython/core/interactiveshell.py:2475\u001b[0m, in \u001b[0;36mInteractiveShell.run_cell_magic\u001b[0;34m(self, magic_name, line, cell)\u001b[0m\n\u001b[1;32m   2473\u001b[0m \u001b[38;5;28;01mwith\u001b[39;00m \u001b[38;5;28mself\u001b[39m\u001b[38;5;241m.\u001b[39mbuiltin_trap:\n\u001b[1;32m   2474\u001b[0m     args \u001b[38;5;241m=\u001b[39m (magic_arg_s, cell)\n\u001b[0;32m-> 2475\u001b[0m     result \u001b[38;5;241m=\u001b[39m fn(\u001b[38;5;241m*\u001b[39margs, \u001b[38;5;241m*\u001b[39m\u001b[38;5;241m*\u001b[39mkwargs)\n\u001b[1;32m   2477\u001b[0m \u001b[38;5;66;03m# The code below prevents the output from being displayed\u001b[39;00m\n\u001b[1;32m   2478\u001b[0m \u001b[38;5;66;03m# when using magics with decodator @output_can_be_silenced\u001b[39;00m\n\u001b[1;32m   2479\u001b[0m \u001b[38;5;66;03m# when the last Python token in the expression is a ';'.\u001b[39;00m\n\u001b[1;32m   2480\u001b[0m \u001b[38;5;28;01mif\u001b[39;00m \u001b[38;5;28mgetattr\u001b[39m(fn, magic\u001b[38;5;241m.\u001b[39mMAGIC_OUTPUT_CAN_BE_SILENCED, \u001b[38;5;28;01mFalse\u001b[39;00m):\n",
      "File \u001b[0;32m~/mambaforge/envs/hdt/lib/python3.11/site-packages/IPython/core/magics/execution.py:298\u001b[0m, in \u001b[0;36mExecutionMagics.prun\u001b[0;34m(self, parameter_s, cell)\u001b[0m\n\u001b[1;32m    296\u001b[0m     arg_str \u001b[38;5;241m+\u001b[39m\u001b[38;5;241m=\u001b[39m \u001b[38;5;124m'\u001b[39m\u001b[38;5;130;01m\\n\u001b[39;00m\u001b[38;5;124m'\u001b[39m \u001b[38;5;241m+\u001b[39m cell\n\u001b[1;32m    297\u001b[0m arg_str \u001b[38;5;241m=\u001b[39m \u001b[38;5;28mself\u001b[39m\u001b[38;5;241m.\u001b[39mshell\u001b[38;5;241m.\u001b[39mtransform_cell(arg_str)\n\u001b[0;32m--> 298\u001b[0m \u001b[38;5;28;01mreturn\u001b[39;00m \u001b[38;5;28mself\u001b[39m\u001b[38;5;241m.\u001b[39m_run_with_profiler(arg_str, opts, \u001b[38;5;28mself\u001b[39m\u001b[38;5;241m.\u001b[39mshell\u001b[38;5;241m.\u001b[39muser_ns)\n",
      "File \u001b[0;32m~/mambaforge/envs/hdt/lib/python3.11/site-packages/IPython/core/magics/execution.py:320\u001b[0m, in \u001b[0;36mExecutionMagics._run_with_profiler\u001b[0;34m(self, code, opts, namespace)\u001b[0m\n\u001b[1;32m    318\u001b[0m prof \u001b[38;5;241m=\u001b[39m profile\u001b[38;5;241m.\u001b[39mProfile()\n\u001b[1;32m    319\u001b[0m \u001b[38;5;28;01mtry\u001b[39;00m:\n\u001b[0;32m--> 320\u001b[0m     prof \u001b[38;5;241m=\u001b[39m prof\u001b[38;5;241m.\u001b[39mrunctx(code, namespace, namespace)\n\u001b[1;32m    321\u001b[0m     sys_exit \u001b[38;5;241m=\u001b[39m \u001b[38;5;124m'\u001b[39m\u001b[38;5;124m'\u001b[39m\n\u001b[1;32m    322\u001b[0m \u001b[38;5;28;01mexcept\u001b[39;00m \u001b[38;5;167;01mSystemExit\u001b[39;00m:\n",
      "File \u001b[0;32m~/mambaforge/envs/hdt/lib/python3.11/cProfile.py:101\u001b[0m, in \u001b[0;36mProfile.runctx\u001b[0;34m(self, cmd, globals, locals)\u001b[0m\n\u001b[1;32m     99\u001b[0m \u001b[38;5;28mself\u001b[39m\u001b[38;5;241m.\u001b[39menable()\n\u001b[1;32m    100\u001b[0m \u001b[38;5;28;01mtry\u001b[39;00m:\n\u001b[0;32m--> 101\u001b[0m     exec(cmd, \u001b[38;5;28mglobals\u001b[39m, \u001b[38;5;28mlocals\u001b[39m)\n\u001b[1;32m    102\u001b[0m \u001b[38;5;28;01mfinally\u001b[39;00m:\n\u001b[1;32m    103\u001b[0m     \u001b[38;5;28mself\u001b[39m\u001b[38;5;241m.\u001b[39mdisable()\n",
      "File \u001b[0;32m<string>:3\u001b[0m\n",
      "File \u001b[0;32m~/hdt/hyperdt/tree_torch.py:382\u001b[0m, in \u001b[0;36mfit\u001b[0;34m(self, X, y)\u001b[0m\n\u001b[1;32m    379\u001b[0m \u001b[38;5;28mself\u001b[39m\u001b[38;5;241m.\u001b[39mdims \u001b[38;5;241m=\u001b[39m \u001b[38;5;28mlist\u001b[39m(\u001b[38;5;28mrange\u001b[39m(\u001b[38;5;28mself\u001b[39m\u001b[38;5;241m.\u001b[39mndim))\n\u001b[1;32m    381\u001b[0m \u001b[38;5;66;03m# Weight classes\u001b[39;00m\n\u001b[0;32m--> 382\u001b[0m \u001b[38;5;28;01mif\u001b[39;00m \u001b[38;5;28mself\u001b[39m\u001b[38;5;241m.\u001b[39mweights \u001b[38;5;241m==\u001b[39m \u001b[38;5;124m\"\u001b[39m\u001b[38;5;124mbalanced\u001b[39m\u001b[38;5;124m\"\u001b[39m:\n\u001b[1;32m    383\u001b[0m     \u001b[38;5;66;03m# self.weights = 1 / np.bincount(y)\u001b[39;00m\n\u001b[1;32m    384\u001b[0m     \u001b[38;5;66;03m# self.weights /= np.sum(self.weights)\u001b[39;00m\n\u001b[1;32m    385\u001b[0m     \u001b[38;5;28mself\u001b[39m\u001b[38;5;241m.\u001b[39mweights \u001b[38;5;241m=\u001b[39m \u001b[38;5;241m1\u001b[39m \u001b[38;5;241m/\u001b[39m torch\u001b[38;5;241m.\u001b[39mbincount(y)\n\u001b[1;32m    386\u001b[0m     \u001b[38;5;28mself\u001b[39m\u001b[38;5;241m.\u001b[39mweights \u001b[38;5;241m/\u001b[39m\u001b[38;5;241m=\u001b[39m torch\u001b[38;5;241m.\u001b[39msum(\u001b[38;5;28mself\u001b[39m\u001b[38;5;241m.\u001b[39mweights)\n",
      "\u001b[0;31mValueError\u001b[0m: too many dimensions 'str'"
     ]
    }
   ],
   "source": [
    "%%prun\n",
    "\n",
    "# prun with no optimizations\n",
    "\n",
    "hdt.fit(phi(X_train.values[:, :100]), y_train)"
   ]
  },
  {
   "cell_type": "code",
   "execution_count": 32,
   "metadata": {},
   "outputs": [
    {
     "data": {
      "text/plain": [
       "False"
      ]
     },
     "execution_count": 32,
     "metadata": {},
     "output_type": "execute_result"
    }
   ],
   "source": [
    "None == \"balanced\""
   ]
  },
  {
   "cell_type": "code",
   "execution_count": 24,
   "metadata": {},
   "outputs": [
    {
     "name": "stderr",
     "output_type": "stream",
     "text": [
      "100%|██████████| 100/100 [00:18<00:00,  5.28it/s]\n",
      "100%|██████████| 100/100 [00:14<00:00,  6.76it/s]\n",
      "100%|██████████| 100/100 [00:08<00:00, 12.32it/s]\n",
      "100%|██████████| 100/100 [00:00<00:00, 249.88it/s]\n",
      "100%|██████████| 100/100 [00:01<00:00, 72.54it/s]\n",
      "100%|██████████| 100/100 [00:00<00:00, 121.72it/s]\n",
      "100%|██████████| 100/100 [00:00<00:00, 327.20it/s]"
     ]
    },
    {
     "name": "stdout",
     "output_type": "stream",
     "text": [
      " "
     ]
    },
    {
     "name": "stderr",
     "output_type": "stream",
     "text": [
      "\n"
     ]
    },
    {
     "name": "stdout",
     "output_type": "stream",
     "text": [
      "         1374200 function calls (1374180 primitive calls) in 45.357 seconds\n",
      "\n",
      "   Ordered by: internal time\n",
      "\n",
      "   ncalls  tottime  percall  cumtime  percall filename:lineno(function)\n",
      "    72443   21.028    0.000   36.571    0.001 tree.py:66(_get_probs)\n",
      "    72451   15.514    0.000   15.514    0.000 {method 'argmax' of 'numpy.ndarray' objects}\n",
      "    24152    4.342    0.000    4.342    0.000 tree.py:263(_dot)\n",
      "     15/1    1.215    0.081   44.856   44.856 tree.py:100(_fit_node)\n",
      "    24145    0.966    0.000   38.136    0.002 tree.py:83(_information_gain)\n",
      "        1    0.435    0.435    0.435    0.435 managers.py:1741(_interleave)\n",
      "    24152    0.378    0.000    4.720    0.000 tree.py:276(_get_split)\n",
      "    96581    0.260    0.000    0.260    0.000 {method 'reduce' of 'numpy.ufunc' objects}\n",
      "      708    0.232    0.000    0.232    0.000 {method 'sort' of 'numpy.ndarray' objects}\n",
      "      700    0.224    0.000    0.493    0.001 hyperbolic_trig.py:76(get_candidates)\n",
      "    72435    0.184    0.000   37.161    0.001 tree.py:76(_gini)\n",
      "    96580    0.162    0.000    0.527    0.000 fromnumeric.py:71(_wrapreduction)\n",
      "    72435    0.080    0.000    0.400    0.000 fromnumeric.py:2177(sum)\n",
      "    96580    0.054    0.000    0.054    0.000 fromnumeric.py:72(<dictcomp>)\n",
      "      703    0.041    0.000    0.042    0.000 {built-in method numpy.array}\n",
      "    24231    0.040    0.000    0.040    0.000 {built-in method builtins.getattr}\n",
      "290584/290580    0.036    0.000    0.036    0.000 {built-in method builtins.len}\n",
      "    24145    0.028    0.000    0.252    0.000 fromnumeric.py:2836(min)\n",
      "        1    0.018    0.018   45.357   45.357 <string>:1(<module>)\n",
      "    72575    0.017    0.000    0.017    0.000 {built-in method builtins.isinstance}\n",
      "      708    0.015    0.000    0.255    0.000 arraysetops.py:323(_unique1d)\n",
      "      369    0.013    0.000    0.013    0.000 {method 'acquire' of '_thread.lock' objects}\n",
      "    96580    0.012    0.000    0.012    0.000 {method 'items' of 'dict' objects}\n",
      "    72443    0.010    0.000    0.010    0.000 multiarray.py:892(bincount)\n",
      "      700    0.009    0.000    0.014    0.000 hyperbolic_trig.py:103(<listcomp>)\n",
      "    72435    0.008    0.000    0.008    0.000 fromnumeric.py:2172(_sum_dispatcher)\n",
      "      708    0.007    0.000    0.007    0.000 {method 'flatten' of 'numpy.ndarray' objects}\n",
      "    24145    0.005    0.000    0.005    0.000 hyperbolic_trig.py:54(get_midpoint)\n",
      "        1    0.004    0.004    0.004    0.004 shape_base.py:612(column_stack)\n",
      "    24145    0.003    0.000    0.003    0.000 fromnumeric.py:2831(_min_dispatcher)\n",
      "        1    0.003    0.003    0.003    0.003 {method 'astype' of 'numpy.ndarray' objects}\n",
      "      708    0.001    0.000    0.257    0.000 arraysetops.py:138(unique)\n",
      "      707    0.001    0.000    0.015    0.000 std.py:1157(__iter__)\n",
      "      700    0.001    0.000    0.494    0.001 tree.py:281(_get_candidates)\n",
      "      711    0.001    0.000    0.001    0.000 {built-in method numpy.empty}\n",
      "       33    0.001    0.000    0.002    0.000 std.py:352(format_meter)\n",
      "      134    0.001    0.000    0.001    0.000 socket.py:543(send)\n",
      "      708    0.000    0.000    0.001    0.000 arraysetops.py:125(_unpack_tuple)\n",
      "      210    0.000    0.000    0.001    0.000 {method 'format' of 'str' objects}\n",
      "      134    0.000    0.000    0.001    0.000 iostream.py:202(schedule)\n",
      "     1572    0.000    0.000    0.000    0.000 utils.py:306(<genexpr>)\n",
      "      784    0.000    0.000    0.000    0.000 blocks.py:2109(get_values)\n",
      "       47    0.000    0.000    0.014    0.000 iostream.py:471(flush)\n",
      "       54    0.000    0.000    0.000    0.000 std.py:105(release)\n",
      "     1418    0.000    0.000    0.000    0.000 {built-in method numpy.asanyarray}\n",
      "       47    0.000    0.000    0.001    0.000 iostream.py:526(write)\n",
      "      181    0.000    0.000    0.000    0.000 threading.py:1185(is_alive)\n",
      "        1    0.000    0.000    0.000    0.000 managers.py:1755(<listcomp>)\n",
      "       47    0.000    0.000    0.000    0.000 threading.py:236(__init__)\n",
      "       47    0.000    0.000    0.013    0.000 threading.py:288(wait)\n",
      "       19    0.000    0.000    0.010    0.001 std.py:1195(update)\n",
      "       66    0.000    0.000    0.000    0.000 utils.py:204(_is_ascii)\n",
      "      121    0.000    0.000    0.000    0.000 std.py:230(__call__)\n",
      "       33    0.000    0.000    0.015    0.000 std.py:1461(display)\n",
      "       33    0.000    0.000    0.000    0.000 std.py:1443(format_dict)\n",
      "        7    0.000    0.000    0.007    0.001 std.py:837(__init__)\n",
      "      784    0.000    0.000    0.000    0.000 blocks.py:205(mgr_locs)\n",
      "       33    0.000    0.000    0.001    0.000 {built-in method builtins.sum}\n",
      "       33    0.000    0.000    0.002    0.000 std.py:1147(__str__)\n",
      "      708    0.000    0.000    0.000    0.000 arraysetops.py:133(_unique_dispatcher)\n",
      "     1539    0.000    0.000    0.000    0.000 {built-in method unicodedata.east_asian_width}\n",
      "       47    0.000    0.000    0.013    0.000 threading.py:604(wait)\n",
      "        1    0.000    0.000    0.000    0.000 {pandas._libs.algos.take_1d_object_object}\n",
      "      181    0.000    0.000    0.000    0.000 threading.py:1118(_wait_for_tstate_lock)\n",
      "       54    0.000    0.000    0.000    0.000 std.py:101(acquire)\n",
      "        7    0.000    0.000    0.000    0.000 {built-in method fcntl.ioctl}\n",
      "        7    0.000    0.000    0.000    0.000 utils.py:264(_screen_shape_linux)\n",
      "       80    0.000    0.000    0.012    0.000 utils.py:125(inner)\n",
      "       33    0.000    0.000    0.000    0.000 std.py:185(__format__)\n",
      "       59    0.000    0.000    0.000    0.000 std.py:285(format_interval)\n",
      "       33    0.000    0.000    0.013    0.000 std.py:345(print_status)\n",
      "       33    0.000    0.000    0.012    0.000 std.py:339(fp_write)\n",
      "       26    0.000    0.000    0.012    0.000 std.py:1322(refresh)\n",
      "      488    0.000    0.000    0.000    0.000 {built-in method time.time}\n",
      "       47    0.000    0.000    0.000    0.000 threading.py:1446(current_thread)\n",
      "        1    0.000    0.000   44.900   44.900 tree.py:317(fit)\n",
      "       26    0.000    0.000    0.000    0.000 {built-in method now}\n",
      "      134    0.000    0.000    0.000    0.000 iostream.py:90(_event_pipe)\n",
      "       14    0.000    0.000    0.004    0.000 std.py:1262(close)\n",
      "       33    0.000    0.000    0.001    0.000 utils.py:309(disp_len)\n",
      "       47    0.000    0.000    0.000    0.000 {built-in method posix.getpid}\n",
      "        1    0.000    0.000    0.000    0.000 {pandas._libs.algos.ensure_platform_int}\n",
      "       33    0.000    0.000    0.000    0.000 std.py:152(__init__)\n",
      "       47    0.000    0.000    0.000    0.000 threading.py:555(__init__)\n",
      "       33    0.000    0.000    0.000    0.000 {method 'sub' of 're.Pattern' objects}\n",
      "        7    0.000    0.000    0.000    0.000 std.py:574(_decr_instances)\n",
      "        7    0.000    0.000    0.000    0.000 std.py:551(__new__)\n",
      "       47    0.000    0.000    0.001    0.000 iostream.py:456(_schedule_flush)\n",
      "      693    0.000    0.000    0.000    0.000 {built-in method builtins.ord}\n",
      "       47    0.000    0.000    0.000    0.000 iostream.py:437(_is_master_process)\n",
      "       33    0.000    0.000    0.001    0.000 utils.py:305(_text_width)\n",
      "       21    0.000    0.000    0.000    0.000 _weakrefset.py:63(__iter__)\n",
      "       94    0.000    0.000    0.000    0.000 {built-in method _thread.allocate_lock}\n",
      "       47    0.000    0.000    0.000    0.000 threading.py:276(_acquire_restore)\n",
      "        7    0.000    0.000    0.004    0.001 std.py:326(status_printer)\n",
      "        1    0.000    0.000   45.357   45.357 {built-in method builtins.exec}\n",
      "       14    0.000    0.000    0.000    0.000 std.py:1283(fp_write)\n",
      "        7    0.000    0.000    0.000    0.000 std.py:567(_get_free_pos)\n",
      "        1    0.000    0.000    0.000    0.000 numeric.py:136(ones)\n",
      "       54    0.000    0.000    0.000    0.000 {method 'acquire' of '_thread.RLock' objects}\n",
      "        7    0.000    0.000    0.000    0.000 utils.py:144(__init__)\n",
      "       95    0.000    0.000    0.000    0.000 {built-in method builtins.hasattr}\n",
      "       54    0.000    0.000    0.000    0.000 {method 'acquire' of '_multiprocessing.SemLock' objects}\n",
      "       47    0.000    0.000    0.000    0.000 threading.py:267(__exit__)\n",
      "      188    0.000    0.000    0.000    0.000 threading.py:568(is_set)\n",
      "        1    0.000    0.000    0.000    0.000 {pandas._libs.lib.dtypes_all_equal}\n",
      "       14    0.000    0.000    0.000    0.000 _weakrefset.py:53(_commit_removals)\n",
      "       94    0.000    0.000    0.000    0.000 threading.py:1161(ident)\n",
      "      151    0.000    0.000    0.000    0.000 {built-in method builtins.divmod}\n",
      "       47    0.000    0.000    0.000    0.000 threading.py:264(__enter__)\n",
      "        7    0.000    0.000    0.000    0.000 <frozen os>:674(__getitem__)\n",
      "        8    0.000    0.000    0.002    0.000 tree.py:134(_leaf_values)\n",
      "       14    0.000    0.000    0.000    0.000 _weakrefset.py:27(__exit__)\n",
      "       21    0.000    0.000    0.000    0.000 {method 'remove' of 'set' objects}\n",
      "      181    0.000    0.000    0.000    0.000 {method 'append' of 'collections.deque' objects}\n",
      "       28    0.000    0.000    0.000    0.000 std.py:109(__enter__)\n",
      "       28    0.000    0.000    0.000    0.000 std.py:112(__exit__)\n",
      "        1    0.000    0.000    0.000    0.000 cast.py:566(maybe_promote)\n",
      "       47    0.000    0.000    0.000    0.000 {method 'write' of '_io.StringIO' objects}\n",
      "        7    0.000    0.000    0.000    0.000 std.py:1144(__del__)\n",
      "       15    0.000    0.000    0.000    0.000 tree.py:17(__init__)\n",
      "       47    0.000    0.000    0.000    0.000 threading.py:279(_is_owned)\n",
      "        7    0.000    0.000    0.000    0.000 _weakrefset.py:110(remove)\n",
      "       33    0.000    0.000    0.000    0.000 {built-in method builtins.max}\n",
      "       47    0.000    0.000    0.000    0.000 threading.py:273(_release_save)\n",
      "        8    0.000    0.000    0.000    0.000 fromnumeric.py:1140(argmax)\n",
      "        7    0.000    0.000    0.000    0.000 _weakrefset.py:85(add)\n",
      "       54    0.000    0.000    0.000    0.000 {method 'release' of '_multiprocessing.SemLock' objects}\n",
      "       33    0.000    0.000    0.000    0.000 {method 'update' of 'dict' objects}\n",
      "        7    0.000    0.000    0.000    0.000 utils.py:278(<listcomp>)\n",
      "       21    0.000    0.000    0.000    0.000 utils.py:83(wrapper_setattr)\n",
      "       33    0.000    0.000    0.000    0.000 std.py:166(colour)\n",
      "       33    0.000    0.000    0.000    0.000 utils.py:39(__init__)\n",
      "        7    0.000    0.000    0.000    0.000 utils.py:197(_supports_unicode)\n",
      "       14    0.000    0.000    0.000    0.000 _weakrefset.py:21(__enter__)\n",
      "       33    0.000    0.000    0.000    0.000 utils.py:43(__format__)\n",
      "        1    0.000    0.000    0.000    0.000 take.py:120(_take_nd_ndarray)\n",
      "       21    0.000    0.000    0.000    0.000 {method 'add' of 'set' objects}\n",
      "       47    0.000    0.000    0.000    0.000 {built-in method _thread.get_ident}\n",
      "       14    0.000    0.000    0.000    0.000 _weakrefset.py:17(__init__)\n",
      "       14    0.000    0.000    0.000    0.000 utils.py:118(disable_on_exception)\n",
      "        1    0.000    0.000    0.436    0.436 managers.py:1677(as_array)\n",
      "       54    0.000    0.000    0.000    0.000 {method 'release' of '_thread.RLock' objects}\n",
      "       47    0.000    0.000    0.000    0.000 {method '__exit__' of '_thread.RLock' objects}\n",
      "        7    0.000    0.000    0.000    0.000 <frozen os>:756(encode)\n",
      "       47    0.000    0.000    0.000    0.000 {method 'release' of '_thread.lock' objects}\n",
      "        7    0.000    0.000    0.000    0.000 {built-in method utcfromtimestamp}\n",
      "       47    0.000    0.000    0.000    0.000 {built-in method builtins.abs}\n",
      "        7    0.000    0.000    0.000    0.000 utils.py:56(__eq__)\n",
      "        1    0.000    0.000    0.004    0.004 3519953835.py:15(phi)\n",
      "       14    0.000    0.000    0.000    0.000 std.py:1150(_comparable)\n",
      "       21    0.000    0.000    0.000    0.000 std.py:225(__init__)\n",
      "       14    0.000    0.000    0.000    0.000 std.py:1154(__hash__)\n",
      "        7    0.000    0.000    0.000    0.000 _monitor.py:94(report)\n",
      "        7    0.000    0.000    0.000    0.000 utils.py:87(__init__)\n",
      "        8    0.000    0.000    0.000    0.000 fromnumeric.py:53(_wrapfunc)\n",
      "        7    0.000    0.000    0.000    0.000 std.py:570(<setcomp>)\n",
      "       47    0.000    0.000    0.000    0.000 {method '__enter__' of '_thread.lock' objects}\n",
      "       14    0.000    0.000    0.000    0.000 utils.py:153(__eq__)\n",
      "        7    0.000    0.000    0.000    0.000 std.py:648(get_lock)\n",
      "       14    0.000    0.000    0.000    0.000 {method 'pop' of 'list' objects}\n",
      "       47    0.000    0.000    0.000    0.000 {method '__exit__' of '_thread.lock' objects}\n",
      "        1    0.000    0.000    0.000    0.000 take.py:58(take_nd)\n",
      "      3/1    0.000    0.000    0.000    0.000 {built-in method numpy.asarray}\n",
      "        1    0.000    0.000    0.000    0.000 series.py:869(__array__)\n",
      "        2    0.000    0.000    0.000    0.000 generic.py:5975(__getattr__)\n",
      "       33    0.000    0.000    0.000    0.000 std.py:162(colour)\n",
      "       14    0.000    0.000    0.000    0.000 {method 'encode' of 'str' objects}\n",
      "        7    0.000    0.000    0.000    0.000 {built-in method __new__ of type object at 0x860e20}\n",
      "        1    0.000    0.000    0.000    0.000 categorical.py:1330(__array__)\n",
      "        7    0.000    0.000    0.000    0.000 {method 'difference' of 'set' objects}\n",
      "       14    0.000    0.000    0.000    0.000 utils.py:70(__getattr__)\n",
      "        1    0.000    0.000    0.000    0.000 missing.py:625(na_value_for_dtype)\n",
      "       14    0.000    0.000    0.000    0.000 {built-in method builtins.id}\n",
      "        1    0.000    0.000    0.000    0.000 cast.py:1429(find_common_type)\n",
      "        7    0.000    0.000    0.000    0.000 utils.py:183(_is_utf)\n",
      "       14    0.000    0.000    0.000    0.000 {built-in method _weakref.proxy}\n",
      "        1    0.000    0.000    0.000    0.000 common.py:1209(is_float_dtype)\n",
      "        2    0.000    0.000    0.000    0.000 base.py:54(shape)\n",
      "        1    0.000    0.000    0.000    0.000 _mixins.py:83(method)\n",
      "        7    0.000    0.000    0.000    0.000 iostream.py:304(fileno)\n",
      "        5    0.000    0.000    0.000    0.000 common.py:1459(get_dtype)\n",
      "        1    0.000    0.000    0.000    0.000 {built-in method numpy.zeros}\n",
      "        7    0.000    0.000    0.000    0.000 {built-in method builtins.min}\n",
      "        1    0.000    0.000    0.000    0.000 common.py:551(is_dtype_equal)\n",
      "        1    0.000    0.000    0.000    0.000 shape_base.py:207(_arrays_for_stack_dispatcher)\n",
      "        1    0.000    0.000    0.000    0.000 {method 'all' of 'numpy.ndarray' objects}\n",
      "        1    0.000    0.000    0.000    0.000 _methods.py:61(_all)\n",
      "        1    0.000    0.000    0.000    0.000 managers.py:2011(internal_values)\n",
      "        7    0.000    0.000    0.000    0.000 utils.py:213(_screen_shape_wrapper)\n",
      "        1    0.000    0.000    0.000    0.000 series.py:718(_values)\n",
      "        1    0.000    0.000    0.000    0.000 {method 'reshape' of 'numpy.ndarray' objects}\n",
      "        1    0.000    0.000    0.000    0.000 categorical.py:697(categories)\n",
      "        1    0.000    0.000    0.436    0.436 frame.py:11286(values)\n",
      "        1    0.000    0.000    0.000    0.000 common.py:1244(is_bool_dtype)\n",
      "        1    0.000    0.000    0.000    0.000 common.py:1077(needs_i8_conversion)\n",
      "        4    0.000    0.000    0.000    0.000 base.py:875(__len__)\n",
      "        1    0.000    0.000    0.000    0.000 common.py:653(is_integer_dtype)\n",
      "        2    0.000    0.000    0.000    0.000 common.py:1494(_is_dtype_type)\n",
      "        1    0.000    0.000    0.000    0.000 generic.py:37(_check)\n",
      "        1    0.000    0.000    0.000    0.000 take.py:564(_take_preprocess_indexer_and_fill_value)\n",
      "        1    0.000    0.000    0.000    0.000 shape_base.py:608(_column_stack_dispatcher)\n",
      "        2    0.000    0.000    0.000    0.000 common.py:1435(_is_dtype)\n",
      "        6    0.000    0.000    0.000    0.000 base.py:56(<genexpr>)\n",
      "        1    0.000    0.000    0.000    0.000 {built-in method pandas._libs.missing.checknull}\n",
      "        1    0.000    0.000    0.000    0.000 take.py:325(_get_take_nd_function)\n",
      "        1    0.000    0.000    0.000    0.000 base.py:208(interleaved_dtype)\n",
      "        1    0.000    0.000    0.000    0.000 __init__.py:33(using_copy_on_write)\n",
      "        1    0.000    0.000    0.000    0.000 common.py:144(<lambda>)\n",
      "        8    0.000    0.000    0.000    0.000 fromnumeric.py:1136(_argmax_dispatcher)\n",
      "        1    0.000    0.000    0.000    0.000 tree.py:293(_validate_hyperbolic)\n",
      "        1    0.000    0.000    0.000    0.000 categorical.py:459(dtype)\n",
      "        1    0.000    0.000    0.000    0.000 common.py:142(classes)\n",
      "        7    0.000    0.000    0.000    0.000 std.py:1298(<lambda>)\n",
      "        1    0.000    0.000    0.000    0.000 {method 'transpose' of 'numpy.ndarray' objects}\n",
      "        1    0.000    0.000    0.000    0.000 {method 'disable' of '_lsprof.Profiler' objects}\n",
      "        1    0.000    0.000    0.000    0.000 categorical.py:1772(_codes)\n",
      "        3    0.000    0.000    0.000    0.000 {built-in method builtins.issubclass}\n",
      "        1    0.000    0.000    0.000    0.000 generic.py:42(_instancecheck)\n",
      "        1    0.000    0.000    0.000    0.000 dtypes.py:580(categories)\n",
      "        1    0.000    0.000    0.000    0.000 {method 'remove' of 'list' objects}\n",
      "        1    0.000    0.000    0.000    0.000 managers.py:228(is_single_block)\n",
      "        1    0.000    0.000    0.000    0.000 base.py:4937(_values)\n",
      "        1    0.000    0.000    0.000    0.000 {method 'get' of 'dict' objects}\n",
      "        1    0.000    0.000    0.000    0.000 common.py:1240(<lambda>)\n",
      "        2    0.000    0.000    0.000    0.000 {method 'append' of 'list' objects}\n",
      "        1    0.000    0.000    0.000    0.000 common.py:147(classes_and_not_datetimelike)\n",
      "        1    0.000    0.000    0.000    0.000 common.py:705(<lambda>)\n",
      "        1    0.000    0.000    0.000    0.000 multiarray.py:1080(copyto)\n",
      "        1    0.000    0.000    0.000    0.000 common.py:152(<lambda>)\n",
      "        1    0.000    0.000    0.000    0.000 multiarray.py:153(concatenate)"
     ]
    }
   ],
   "source": [
    "%%prun\n",
    "\n",
    "# prun with np.searchsorted replaced\n",
    "\n",
    "hdt.fit(phi(X_train.values[:, :100]), y_train)"
   ]
  },
  {
   "cell_type": "code",
   "execution_count": 25,
   "metadata": {},
   "outputs": [
    {
     "name": "stderr",
     "output_type": "stream",
     "text": [
      "100%|██████████| 784/784 [05:27<00:00,  2.40it/s]\n",
      "100%|██████████| 784/784 [04:00<00:00,  3.25it/s]\n",
      "100%|██████████| 784/784 [00:53<00:00, 14.58it/s]\n",
      "100%|██████████| 784/784 [02:47<00:00,  4.68it/s]\n",
      "100%|██████████| 784/784 [01:52<00:00,  6.96it/s]\n",
      "100%|██████████| 784/784 [00:56<00:00, 13.81it/s]\n",
      "100%|██████████| 784/784 [00:48<00:00, 16.18it/s]"
     ]
    },
    {
     "name": "stdout",
     "output_type": "stream",
     "text": [
      " "
     ]
    },
    {
     "name": "stderr",
     "output_type": "stream",
     "text": [
      "\n"
     ]
    },
    {
     "name": "stdout",
     "output_type": "stream",
     "text": [
      "         58243242 function calls (58243222 primitive calls) in 1009.594 seconds\n",
      "\n",
      "   Ordered by: internal time\n",
      "\n",
      "   ncalls  tottime  percall  cumtime  percall filename:lineno(function)\n",
      "  2538794  548.855    0.000  548.855    0.000 {method 'searchsorted' of 'numpy.ndarray' objects}\n",
      "   846269  129.882    0.000  129.882    0.000 tree.py:261(_dot)\n",
      "     15/1  111.932    7.462 1008.199 1008.199 tree.py:98(_fit_node)\n",
      "   846262  105.788    0.000  737.879    0.001 tree.py:81(_information_gain)\n",
      "  2538794   56.314    0.000  610.436    0.000 tree.py:66(_get_probs)\n",
      "   846269   12.362    0.000  142.244    0.000 tree.py:274(_get_split)\n",
      "  3385049    9.319    0.000    9.319    0.000 {method 'reduce' of 'numpy.ufunc' objects}\n",
      "  2538786    6.884    0.000  631.779    0.000 tree.py:74(_gini)\n",
      "  3385048    5.642    0.000   18.392    0.000 fromnumeric.py:71(_wrapreduction)\n",
      "  2538786    2.949    0.000   14.165    0.000 fromnumeric.py:2177(sum)\n",
      "     5496    2.467    0.000    2.467    0.000 {method 'sort' of 'numpy.ndarray' objects}\n",
      "     5488    2.422    0.000    5.623    0.001 hyperbolic_trig.py:76(get_candidates)\n",
      "  2538794    1.859    0.000  552.833    0.000 fromnumeric.py:1332(searchsorted)\n",
      "  3385048    1.837    0.000    1.837    0.000 fromnumeric.py:72(<dictcomp>)\n",
      "  3385142    1.696    0.000    1.696    0.000 {built-in method builtins.getattr}\n",
      "  2538802    1.641    0.000  550.974    0.000 fromnumeric.py:53(_wrapfunc)\n",
      "10165776/10165772    1.214    0.000    1.214    0.000 {built-in method builtins.len}\n",
      "   846262    1.021    0.000    8.798    0.000 fromnumeric.py:2836(min)\n",
      "    20365    0.674    0.000    0.674    0.000 {method 'acquire' of '_thread.lock' objects}\n",
      "  2546426    0.601    0.000    0.601    0.000 {built-in method builtins.isinstance}\n",
      "     5491    0.542    0.000    0.542    0.000 {built-in method numpy.array}\n",
      "        1    0.496    0.496    0.496    0.496 shape_base.py:612(column_stack)\n",
      "  2538794    0.381    0.000    0.381    0.000 fromnumeric.py:1328(_searchsorted_dispatcher)\n",
      "  3385048    0.374    0.000    0.374    0.000 {method 'items' of 'dict' objects}\n",
      "        1    0.352    0.352    0.353    0.353 managers.py:1741(_interleave)\n",
      "  2538794    0.313    0.000    0.313    0.000 multiarray.py:892(bincount)\n",
      "  2538786    0.294    0.000    0.294    0.000 fromnumeric.py:2172(_sum_dispatcher)\n",
      "     5488    0.284    0.000    0.459    0.000 hyperbolic_trig.py:103(<listcomp>)\n",
      "   846262    0.175    0.000    0.175    0.000 hyperbolic_trig.py:54(get_midpoint)\n",
      "     5496    0.151    0.000    2.679    0.000 arraysetops.py:323(_unique1d)\n",
      "   846262    0.123    0.000    0.123    0.000 fromnumeric.py:2831(_min_dispatcher)\n",
      "     7634    0.072    0.000    0.072    0.000 socket.py:543(send)\n",
      "     2533    0.062    0.000    0.148    0.000 std.py:352(format_meter)\n",
      "     5496    0.052    0.000    0.052    0.000 {method 'flatten' of 'numpy.ndarray' objects}\n",
      "    17710    0.031    0.000    0.043    0.000 {method 'format' of 'str' objects}\n",
      "        1    0.030    0.030 1009.594 1009.594 <string>:1(<module>)\n",
      "     2519    0.029    0.000    1.255    0.000 std.py:1195(update)\n",
      "    15121    0.028    0.000    0.028    0.000 std.py:230(__call__)\n",
      "   126571    0.027    0.000    0.038    0.000 utils.py:306(<genexpr>)\n",
      "     2547    0.021    0.000    0.812    0.000 iostream.py:471(flush)\n",
      "     7634    0.020    0.000    0.115    0.000 iostream.py:202(schedule)\n",
      "     5496    0.015    0.000    2.702    0.000 arraysetops.py:138(unique)\n",
      "     5495    0.015    0.000    1.275    0.000 std.py:1157(__iter__)\n",
      "     2547    0.014    0.000    0.093    0.000 iostream.py:526(write)\n",
      "     5066    0.014    0.000    0.019    0.000 utils.py:204(_is_ascii)\n",
      "        1    0.014    0.014 1008.715 1008.715 tree.py:315(fit)\n",
      "     2533    0.013    0.000    0.017    0.000 std.py:1443(format_dict)\n",
      "     2547    0.013    0.000    0.016    0.000 threading.py:1446(current_thread)\n",
      "     2547    0.012    0.000    0.012    0.000 threading.py:236(__init__)\n",
      "     2533    0.012    0.000    0.050    0.000 {built-in method builtins.sum}\n",
      "     2533    0.011    0.000    0.176    0.000 std.py:1147(__str__)\n",
      "   124038    0.011    0.000    0.011    0.000 {built-in method unicodedata.east_asian_width}\n",
      "    10181    0.011    0.000    0.022    0.000 threading.py:1185(is_alive)\n",
      "     2547    0.010    0.000    0.700    0.000 threading.py:604(wait)\n",
      "     5488    0.010    0.000    5.633    0.001 tree.py:279(_get_candidates)\n",
      "     2526    0.010    0.000    1.203    0.000 std.py:1322(refresh)\n",
      "     2546    0.009    0.000    0.685    0.000 threading.py:288(wait)\n",
      "     2533    0.009    0.000    1.176    0.000 std.py:1461(display)\n",
      "     2533    0.009    0.000    0.010    0.000 std.py:185(__format__)\n",
      "     2533    0.009    0.000    0.917    0.000 std.py:339(fp_write)\n",
      "     5499    0.009    0.000    0.009    0.000 {built-in method numpy.empty}\n",
      "     2554    0.008    0.000    0.009    0.000 std.py:105(release)\n",
      "     5080    0.007    0.000    0.909    0.000 utils.py:125(inner)\n",
      "     2533    0.007    0.000    0.989    0.000 std.py:345(print_status)\n",
      "     5059    0.007    0.000    0.018    0.000 std.py:285(format_interval)\n",
      "     2526    0.007    0.000    0.007    0.000 {built-in method now}\n",
      "     2554    0.007    0.000    0.011    0.000 std.py:101(acquire)\n",
      "    10181    0.006    0.000    0.010    0.000 threading.py:1118(_wait_for_tstate_lock)\n",
      "     2533    0.005    0.000    0.006    0.000 std.py:152(__init__)\n",
      "     2533    0.005    0.000    0.005    0.000 {method 'sub' of 're.Pattern' objects}\n",
      "     2547    0.004    0.000    0.004    0.000 {built-in method posix.getpid}\n",
      "     2533    0.004    0.000    0.063    0.000 utils.py:309(disp_len)\n",
      "     7634    0.004    0.000    0.004    0.000 iostream.py:90(_event_pipe)\n",
      "    53193    0.004    0.000    0.004    0.000 {built-in method builtins.ord}\n",
      "     2547    0.004    0.000    0.017    0.000 threading.py:555(__init__)\n",
      "     2547    0.004    0.000    0.068    0.000 iostream.py:456(_schedule_flush)\n",
      "     5496    0.004    0.000    0.005    0.000 arraysetops.py:125(_unpack_tuple)\n",
      "     2533    0.004    0.000    0.054    0.000 utils.py:305(_text_width)\n",
      "     2547    0.003    0.000    0.008    0.000 iostream.py:437(_is_master_process)\n",
      "     5094    0.003    0.000    0.003    0.000 threading.py:1161(ident)\n",
      "     2547    0.003    0.000    0.003    0.000 {built-in method _thread.get_ident}\n",
      "    10994    0.003    0.000    0.003    0.000 {built-in method numpy.asanyarray}\n",
      "        1    0.003    0.003    0.003    0.003 {method 'astype' of 'numpy.ndarray' objects}\n",
      "     2554    0.002    0.000    0.002    0.000 {method 'acquire' of '_thread.RLock' objects}\n",
      "    12651    0.002    0.000    0.002    0.000 {built-in method builtins.divmod}\n",
      "    11495    0.002    0.000    0.002    0.000 {built-in method time.time}\n",
      "     2547    0.002    0.000    0.003    0.000 threading.py:264(__enter__)\n",
      "     5093    0.002    0.000    0.002    0.000 {built-in method _thread.allocate_lock}\n",
      "     2554    0.002    0.000    0.002    0.000 {method 'acquire' of '_multiprocessing.SemLock' objects}\n",
      "     2546    0.002    0.000    0.002    0.000 threading.py:279(_is_owned)\n",
      "    10188    0.002    0.000    0.002    0.000 threading.py:568(is_set)\n",
      "     2533    0.002    0.000    0.002    0.000 {built-in method builtins.max}\n",
      "     2547    0.002    0.000    0.002    0.000 threading.py:267(__exit__)\n",
      "     5496    0.001    0.000    0.001    0.000 arraysetops.py:133(_unique_dispatcher)\n",
      "     2547    0.001    0.000    0.001    0.000 {method 'write' of '_io.StringIO' objects}\n",
      "    10180    0.001    0.000    0.001    0.000 {method 'append' of 'collections.deque' objects}\n",
      "     2546    0.001    0.000    0.002    0.000 threading.py:276(_acquire_restore)\n",
      "     5095    0.001    0.000    0.001    0.000 {built-in method builtins.hasattr}\n",
      "     2533    0.001    0.000    0.001    0.000 {method 'update' of 'dict' objects}\n",
      "     2533    0.001    0.000    0.001    0.000 utils.py:39(__init__)\n",
      "     2554    0.001    0.000    0.001    0.000 {method 'release' of '_multiprocessing.SemLock' objects}\n",
      "     2546    0.001    0.000    0.002    0.000 threading.py:273(_release_save)\n",
      "     2533    0.001    0.000    0.001    0.000 std.py:166(colour)\n",
      "     2533    0.001    0.000    0.001    0.000 utils.py:43(__format__)\n",
      "     2547    0.001    0.000    0.001    0.000 {method '__exit__' of '_thread.RLock' objects}\n",
      "     2546    0.001    0.000    0.001    0.000 {method 'release' of '_thread.lock' objects}\n",
      "     2547    0.001    0.000    0.001    0.000 {method '__enter__' of '_thread.lock' objects}\n",
      "     2547    0.001    0.000    0.001    0.000 {built-in method builtins.abs}\n",
      "     2533    0.000    0.000    0.000    0.000 std.py:162(colour)\n",
      "     2554    0.000    0.000    0.000    0.000 {method 'release' of '_thread.RLock' objects}\n",
      "     2547    0.000    0.000    0.000    0.000 {method '__exit__' of '_thread.lock' objects}\n",
      "      784    0.000    0.000    0.000    0.000 blocks.py:2109(get_values)\n",
      "        7    0.000    0.000    0.007    0.001 std.py:837(__init__)\n",
      "        1    0.000    0.000    0.000    0.000 managers.py:1755(<listcomp>)\n",
      "      784    0.000    0.000    0.000    0.000 blocks.py:205(mgr_locs)\n",
      "        7    0.000    0.000    0.000    0.000 {built-in method fcntl.ioctl}\n",
      "        1    0.000    0.000    0.000    0.000 {pandas._libs.algos.take_1d_object_object}\n",
      "        7    0.000    0.000    0.000    0.000 utils.py:264(_screen_shape_linux)\n",
      "       14    0.000    0.000    0.003    0.000 std.py:1262(close)\n",
      "       14    0.000    0.000    0.000    0.000 {built-in method builtins.id}\n",
      "        7    0.000    0.000    0.000    0.000 std.py:551(__new__)\n",
      "        7    0.000    0.000    0.000    0.000 std.py:648(get_lock)\n",
      "        7    0.000    0.000    0.000    0.000 std.py:574(_decr_instances)\n",
      "        1    0.000    0.000    0.000    0.000 {pandas._libs.algos.ensure_platform_int}\n",
      "       21    0.000    0.000    0.000    0.000 _weakrefset.py:63(__iter__)\n",
      "        7    0.000    0.000    0.000    0.000 std.py:567(_get_free_pos)\n",
      "        7    0.000    0.000    0.003    0.000 std.py:326(status_printer)\n",
      "        7    0.000    0.000    0.000    0.000 <frozen os>:674(__getitem__)\n",
      "        1    0.000    0.000    0.000    0.000 numeric.py:136(ones)\n",
      "        7    0.000    0.000    0.000    0.000 utils.py:144(__init__)\n",
      "        1    0.000    0.000 1009.594 1009.594 {built-in method builtins.exec}\n",
      "        8    0.000    0.000    0.001    0.000 tree.py:132(_leaf_values)\n",
      "       14    0.000    0.000    0.000    0.000 _weakrefset.py:53(_commit_removals)\n",
      "        1    0.000    0.000    0.000    0.000 {pandas._libs.lib.dtypes_all_equal}\n",
      "       14    0.000    0.000    0.000    0.000 std.py:1283(fp_write)\n",
      "       28    0.000    0.000    0.000    0.000 std.py:112(__exit__)\n",
      "       15    0.000    0.000    0.000    0.000 tree.py:17(__init__)\n",
      "       14    0.000    0.000    0.000    0.000 _weakrefset.py:27(__exit__)\n",
      "       21    0.000    0.000    0.000    0.000 {method 'remove' of 'set' objects}\n",
      "       28    0.000    0.000    0.000    0.000 std.py:109(__enter__)\n",
      "        7    0.000    0.000    0.000    0.000 _weakrefset.py:85(add)\n",
      "        7    0.000    0.000    0.000    0.000 _weakrefset.py:110(remove)\n",
      "        8    0.000    0.000    0.000    0.000 fromnumeric.py:1140(argmax)\n",
      "        7    0.000    0.000    0.000    0.000 utils.py:278(<listcomp>)\n",
      "        1    0.000    0.000    0.000    0.000 cast.py:566(maybe_promote)\n",
      "        8    0.000    0.000    0.000    0.000 {method 'argmax' of 'numpy.ndarray' objects}\n",
      "       21    0.000    0.000    0.000    0.000 utils.py:83(wrapper_setattr)\n",
      "       14    0.000    0.000    0.000    0.000 _weakrefset.py:21(__enter__)\n",
      "        7    0.000    0.000    0.000    0.000 utils.py:197(_supports_unicode)\n",
      "       21    0.000    0.000    0.000    0.000 {method 'add' of 'set' objects}\n",
      "        7    0.000    0.000    0.000    0.000 <frozen os>:756(encode)\n",
      "        1    0.000    0.000    0.496    0.496 3519953835.py:15(phi)\n",
      "       14    0.000    0.000    0.000    0.000 _weakrefset.py:17(__init__)\n",
      "       14    0.000    0.000    0.000    0.000 utils.py:118(disable_on_exception)\n",
      "        7    0.000    0.000    0.000    0.000 {built-in method utcfromtimestamp}\n",
      "        7    0.000    0.000    0.000    0.000 utils.py:56(__eq__)\n",
      "        1    0.000    0.000    0.000    0.000 take.py:120(_take_nd_ndarray)\n",
      "       14    0.000    0.000    0.000    0.000 std.py:1154(__hash__)\n",
      "        1    0.000    0.000    0.353    0.353 managers.py:1677(as_array)\n",
      "        7    0.000    0.000    0.000    0.000 _monitor.py:94(report)\n",
      "       14    0.000    0.000    0.000    0.000 std.py:1150(_comparable)\n",
      "        7    0.000    0.000    0.000    0.000 std.py:570(<setcomp>)\n",
      "        7    0.000    0.000    0.000    0.000 utils.py:87(__init__)\n",
      "       14    0.000    0.000    0.000    0.000 utils.py:153(__eq__)\n",
      "        7    0.000    0.000    0.000    0.000 {built-in method __new__ of type object at 0x860e20}\n",
      "       21    0.000    0.000    0.000    0.000 std.py:225(__init__)\n",
      "       14    0.000    0.000    0.000    0.000 {method 'encode' of 'str' objects}\n",
      "       14    0.000    0.000    0.000    0.000 {method 'pop' of 'list' objects}\n",
      "      3/1    0.000    0.000    0.000    0.000 {built-in method numpy.asarray}\n",
      "        2    0.000    0.000    0.000    0.000 generic.py:5975(__getattr__)\n",
      "        1    0.000    0.000    0.000    0.000 take.py:58(take_nd)\n",
      "       14    0.000    0.000    0.000    0.000 utils.py:70(__getattr__)\n",
      "        1    0.000    0.000    0.000    0.000 series.py:869(__array__)\n",
      "        7    0.000    0.000    0.000    0.000 {method 'difference' of 'set' objects}\n",
      "        7    0.000    0.000    0.000    0.000 std.py:1144(__del__)\n",
      "        7    0.000    0.000    0.000    0.000 utils.py:183(_is_utf)\n",
      "        1    0.000    0.000    0.000    0.000 cast.py:1429(find_common_type)\n",
      "        1    0.000    0.000    0.000    0.000 categorical.py:1330(__array__)\n",
      "       14    0.000    0.000    0.000    0.000 {built-in method _weakref.proxy}\n",
      "        1    0.000    0.000    0.000    0.000 common.py:1209(is_float_dtype)\n",
      "        1    0.000    0.000    0.000    0.000 missing.py:625(na_value_for_dtype)\n",
      "        7    0.000    0.000    0.000    0.000 iostream.py:304(fileno)\n",
      "        5    0.000    0.000    0.000    0.000 common.py:1459(get_dtype)\n",
      "        7    0.000    0.000    0.000    0.000 {built-in method builtins.min}\n",
      "        1    0.000    0.000    0.000    0.000 _mixins.py:83(method)\n",
      "        2    0.000    0.000    0.000    0.000 base.py:54(shape)\n",
      "        1    0.000    0.000    0.000    0.000 shape_base.py:207(_arrays_for_stack_dispatcher)\n",
      "        1    0.000    0.000    0.000    0.000 common.py:551(is_dtype_equal)\n",
      "        1    0.000    0.000    0.353    0.353 frame.py:11286(values)\n",
      "        1    0.000    0.000    0.000    0.000 _methods.py:61(_all)\n",
      "        1    0.000    0.000    0.000    0.000 {built-in method numpy.zeros}\n",
      "        7    0.000    0.000    0.000    0.000 utils.py:213(_screen_shape_wrapper)\n",
      "        1    0.000    0.000    0.000    0.000 series.py:718(_values)\n",
      "        1    0.000    0.000    0.000    0.000 {method 'all' of 'numpy.ndarray' objects}\n",
      "        1    0.000    0.000    0.000    0.000 common.py:1077(needs_i8_conversion)\n",
      "        2    0.000    0.000    0.000    0.000 common.py:1494(_is_dtype_type)\n",
      "        1    0.000    0.000    0.000    0.000 managers.py:2011(internal_values)\n",
      "        4    0.000    0.000    0.000    0.000 base.py:875(__len__)\n",
      "        1    0.000    0.000    0.000    0.000 {method 'reshape' of 'numpy.ndarray' objects}\n",
      "        1    0.000    0.000    0.000    0.000 common.py:1244(is_bool_dtype)\n",
      "        1    0.000    0.000    0.000    0.000 generic.py:37(_check)\n",
      "        2    0.000    0.000    0.000    0.000 common.py:1435(_is_dtype)\n",
      "        6    0.000    0.000    0.000    0.000 base.py:56(<genexpr>)\n",
      "        1    0.000    0.000    0.000    0.000 common.py:653(is_integer_dtype)\n",
      "        1    0.000    0.000    0.000    0.000 base.py:208(interleaved_dtype)\n",
      "        1    0.000    0.000    0.000    0.000 __init__.py:33(using_copy_on_write)\n",
      "        1    0.000    0.000    0.000    0.000 take.py:564(_take_preprocess_indexer_and_fill_value)\n",
      "        1    0.000    0.000    0.000    0.000 take.py:325(_get_take_nd_function)\n",
      "        1    0.000    0.000    0.000    0.000 categorical.py:697(categories)\n",
      "        8    0.000    0.000    0.000    0.000 fromnumeric.py:1136(_argmax_dispatcher)\n",
      "        1    0.000    0.000    0.000    0.000 common.py:144(<lambda>)\n",
      "        1    0.000    0.000    0.000    0.000 {built-in method pandas._libs.missing.checknull}\n",
      "        1    0.000    0.000    0.000    0.000 {method 'transpose' of 'numpy.ndarray' objects}\n",
      "        1    0.000    0.000    0.000    0.000 {method 'disable' of '_lsprof.Profiler' objects}\n",
      "        1    0.000    0.000    0.000    0.000 shape_base.py:608(_column_stack_dispatcher)\n",
      "        7    0.000    0.000    0.000    0.000 std.py:1298(<lambda>)\n",
      "        1    0.000    0.000    0.000    0.000 categorical.py:459(dtype)\n",
      "        1    0.000    0.000    0.000    0.000 common.py:142(classes)\n",
      "        1    0.000    0.000    0.000    0.000 tree.py:291(_validate_hyperbolic)\n",
      "        1    0.000    0.000    0.000    0.000 generic.py:42(_instancecheck)\n",
      "        3    0.000    0.000    0.000    0.000 {built-in method builtins.issubclass}\n",
      "        1    0.000    0.000    0.000    0.000 base.py:4937(_values)\n",
      "        1    0.000    0.000    0.000    0.000 common.py:147(classes_and_not_datetimelike)\n",
      "        1    0.000    0.000    0.000    0.000 {method 'remove' of 'list' objects}\n",
      "        1    0.000    0.000    0.000    0.000 managers.py:228(is_single_block)\n",
      "        1    0.000    0.000    0.000    0.000 common.py:1240(<lambda>)\n",
      "        1    0.000    0.000    0.000    0.000 dtypes.py:580(categories)\n",
      "        1    0.000    0.000    0.000    0.000 categorical.py:1772(_codes)\n",
      "        1    0.000    0.000    0.000    0.000 {method 'get' of 'dict' objects}\n",
      "        2    0.000    0.000    0.000    0.000 {method 'append' of 'list' objects}\n",
      "        1    0.000    0.000    0.000    0.000 common.py:152(<lambda>)\n",
      "        1    0.000    0.000    0.000    0.000 common.py:705(<lambda>)\n",
      "        1    0.000    0.000    0.000    0.000 multiarray.py:1080(copyto)\n",
      "        1    0.000    0.000    0.000    0.000 multiarray.py:153(concatenate)"
     ]
    }
   ],
   "source": [
    "%%prun\n",
    "\n",
    "# run the big boy\n",
    "\n",
    "hdt.fit(phi(X_train.values), y_train)"
   ]
  },
  {
   "cell_type": "code",
   "execution_count": 36,
   "metadata": {},
   "outputs": [
    {
     "ename": "ValueError",
     "evalue": "setting an array element with a sequence. The requested array has an inhomogeneous shape after 1 dimensions. The detected shape was (784,) + inhomogeneous part.",
     "output_type": "error",
     "traceback": [
      "\u001b[0;31m---------------------------------------------------------------------------\u001b[0m",
      "\u001b[0;31mValueError\u001b[0m                                Traceback (most recent call last)",
      "Cell \u001b[0;32mIn[36], line 1\u001b[0m\n\u001b[0;32m----> 1\u001b[0m get_ipython()\u001b[38;5;241m.\u001b[39mrun_cell_magic(\u001b[38;5;124m'\u001b[39m\u001b[38;5;124mprun\u001b[39m\u001b[38;5;124m'\u001b[39m, \u001b[38;5;124m'\u001b[39m\u001b[38;5;124m'\u001b[39m, \u001b[38;5;124m'\u001b[39m\u001b[38;5;130;01m\\n\u001b[39;00m\u001b[38;5;124m# version without searchsorted - way slower, stopped\u001b[39m\u001b[38;5;130;01m\\n\u001b[39;00m\u001b[38;5;130;01m\\n\u001b[39;00m\u001b[38;5;124mhdt.fit(phi(X_train.values), y_train)\u001b[39m\u001b[38;5;130;01m\\n\u001b[39;00m\u001b[38;5;124m'\u001b[39m)\n",
      "File \u001b[0;32m~/mambaforge/envs/hdt/lib/python3.11/site-packages/IPython/core/interactiveshell.py:2475\u001b[0m, in \u001b[0;36mInteractiveShell.run_cell_magic\u001b[0;34m(self, magic_name, line, cell)\u001b[0m\n\u001b[1;32m   2473\u001b[0m \u001b[38;5;28;01mwith\u001b[39;00m \u001b[38;5;28mself\u001b[39m\u001b[38;5;241m.\u001b[39mbuiltin_trap:\n\u001b[1;32m   2474\u001b[0m     args \u001b[38;5;241m=\u001b[39m (magic_arg_s, cell)\n\u001b[0;32m-> 2475\u001b[0m     result \u001b[38;5;241m=\u001b[39m fn(\u001b[38;5;241m*\u001b[39margs, \u001b[38;5;241m*\u001b[39m\u001b[38;5;241m*\u001b[39mkwargs)\n\u001b[1;32m   2477\u001b[0m \u001b[38;5;66;03m# The code below prevents the output from being displayed\u001b[39;00m\n\u001b[1;32m   2478\u001b[0m \u001b[38;5;66;03m# when using magics with decodator @output_can_be_silenced\u001b[39;00m\n\u001b[1;32m   2479\u001b[0m \u001b[38;5;66;03m# when the last Python token in the expression is a ';'.\u001b[39;00m\n\u001b[1;32m   2480\u001b[0m \u001b[38;5;28;01mif\u001b[39;00m \u001b[38;5;28mgetattr\u001b[39m(fn, magic\u001b[38;5;241m.\u001b[39mMAGIC_OUTPUT_CAN_BE_SILENCED, \u001b[38;5;28;01mFalse\u001b[39;00m):\n",
      "File \u001b[0;32m~/mambaforge/envs/hdt/lib/python3.11/site-packages/IPython/core/magics/execution.py:298\u001b[0m, in \u001b[0;36mExecutionMagics.prun\u001b[0;34m(self, parameter_s, cell)\u001b[0m\n\u001b[1;32m    296\u001b[0m     arg_str \u001b[38;5;241m+\u001b[39m\u001b[38;5;241m=\u001b[39m \u001b[38;5;124m'\u001b[39m\u001b[38;5;130;01m\\n\u001b[39;00m\u001b[38;5;124m'\u001b[39m \u001b[38;5;241m+\u001b[39m cell\n\u001b[1;32m    297\u001b[0m arg_str \u001b[38;5;241m=\u001b[39m \u001b[38;5;28mself\u001b[39m\u001b[38;5;241m.\u001b[39mshell\u001b[38;5;241m.\u001b[39mtransform_cell(arg_str)\n\u001b[0;32m--> 298\u001b[0m \u001b[38;5;28;01mreturn\u001b[39;00m \u001b[38;5;28mself\u001b[39m\u001b[38;5;241m.\u001b[39m_run_with_profiler(arg_str, opts, \u001b[38;5;28mself\u001b[39m\u001b[38;5;241m.\u001b[39mshell\u001b[38;5;241m.\u001b[39muser_ns)\n",
      "File \u001b[0;32m~/mambaforge/envs/hdt/lib/python3.11/site-packages/IPython/core/magics/execution.py:320\u001b[0m, in \u001b[0;36mExecutionMagics._run_with_profiler\u001b[0;34m(self, code, opts, namespace)\u001b[0m\n\u001b[1;32m    318\u001b[0m prof \u001b[38;5;241m=\u001b[39m profile\u001b[38;5;241m.\u001b[39mProfile()\n\u001b[1;32m    319\u001b[0m \u001b[38;5;28;01mtry\u001b[39;00m:\n\u001b[0;32m--> 320\u001b[0m     prof \u001b[38;5;241m=\u001b[39m prof\u001b[38;5;241m.\u001b[39mrunctx(code, namespace, namespace)\n\u001b[1;32m    321\u001b[0m     sys_exit \u001b[38;5;241m=\u001b[39m \u001b[38;5;124m'\u001b[39m\u001b[38;5;124m'\u001b[39m\n\u001b[1;32m    322\u001b[0m \u001b[38;5;28;01mexcept\u001b[39;00m \u001b[38;5;167;01mSystemExit\u001b[39;00m:\n",
      "File \u001b[0;32m~/mambaforge/envs/hdt/lib/python3.11/cProfile.py:101\u001b[0m, in \u001b[0;36mProfile.runctx\u001b[0;34m(self, cmd, globals, locals)\u001b[0m\n\u001b[1;32m     99\u001b[0m \u001b[38;5;28mself\u001b[39m\u001b[38;5;241m.\u001b[39menable()\n\u001b[1;32m    100\u001b[0m \u001b[38;5;28;01mtry\u001b[39;00m:\n\u001b[0;32m--> 101\u001b[0m     exec(cmd, \u001b[38;5;28mglobals\u001b[39m, \u001b[38;5;28mlocals\u001b[39m)\n\u001b[1;32m    102\u001b[0m \u001b[38;5;28;01mfinally\u001b[39;00m:\n\u001b[1;32m    103\u001b[0m     \u001b[38;5;28mself\u001b[39m\u001b[38;5;241m.\u001b[39mdisable()\n",
      "File \u001b[0;32m<string>:3\u001b[0m\n",
      "File \u001b[0;32m~/hdt/hyperdt/tree.py:361\u001b[0m, in \u001b[0;36mHyperbolicDecisionTreeClassifier.fit\u001b[0;34m(self, X, y)\u001b[0m\n\u001b[1;32m    358\u001b[0m \u001b[38;5;28mself\u001b[39m\u001b[38;5;241m.\u001b[39m_validate_hyperbolic(X)\n\u001b[1;32m    360\u001b[0m \u001b[38;5;66;03m# Fit tree\u001b[39;00m\n\u001b[0;32m--> 361\u001b[0m \u001b[38;5;28mself\u001b[39m\u001b[38;5;241m.\u001b[39mtree \u001b[38;5;241m=\u001b[39m \u001b[38;5;28mself\u001b[39m\u001b[38;5;241m.\u001b[39m_fit_node(X\u001b[38;5;241m=\u001b[39mX, y\u001b[38;5;241m=\u001b[39my, depth\u001b[38;5;241m=\u001b[39m\u001b[38;5;241m0\u001b[39m)\n\u001b[1;32m    362\u001b[0m \u001b[38;5;28;01mreturn\u001b[39;00m \u001b[38;5;28mself\u001b[39m\n",
      "File \u001b[0;32m~/hdt/hyperdt/tree.py:120\u001b[0m, in \u001b[0;36mDecisionTreeClassifier._fit_node\u001b[0;34m(self, X, y, depth)\u001b[0m\n\u001b[1;32m    109\u001b[0m \u001b[38;5;28;01massert\u001b[39;00m \u001b[38;5;28mself\u001b[39m\u001b[38;5;241m.\u001b[39mdims \u001b[38;5;129;01mis\u001b[39;00m \u001b[38;5;129;01mnot\u001b[39;00m \u001b[38;5;28;01mNone\u001b[39;00m  \u001b[38;5;66;03m# for type checker\u001b[39;00m\n\u001b[1;32m    110\u001b[0m \u001b[38;5;66;03m# for dim in tqdm(self.dims):\u001b[39;00m\n\u001b[1;32m    111\u001b[0m \u001b[38;5;66;03m#     for theta in self._get_candidates(X=X, dim=dim):\u001b[39;00m\n\u001b[1;32m    112\u001b[0m \u001b[38;5;66;03m#         left, right = self._get_split(X=X, dim=dim, theta=theta)\u001b[39;00m\n\u001b[0;32m   (...)\u001b[0m\n\u001b[1;32m    118\u001b[0m \n\u001b[1;32m    119\u001b[0m \u001b[38;5;66;03m# Do this with a matrix instead\u001b[39;00m\n\u001b[0;32m--> 120\u001b[0m all_thetas \u001b[38;5;241m=\u001b[39m np\u001b[38;5;241m.\u001b[39marray([\u001b[38;5;28mself\u001b[39m\u001b[38;5;241m.\u001b[39m_get_candidates(X\u001b[38;5;241m=\u001b[39mX, dim\u001b[38;5;241m=\u001b[39mdim) \u001b[38;5;28;01mfor\u001b[39;00m dim \u001b[38;5;129;01min\u001b[39;00m \u001b[38;5;28mself\u001b[39m\u001b[38;5;241m.\u001b[39mdims])\n\u001b[1;32m    121\u001b[0m all_splits \u001b[38;5;241m=\u001b[39m np\u001b[38;5;241m.\u001b[39mapply_along_axis(\u001b[38;5;28;01mlambda\u001b[39;00m theta: \u001b[38;5;28mself\u001b[39m\u001b[38;5;241m.\u001b[39m_get_split(X\u001b[38;5;241m=\u001b[39mX, dim\u001b[38;5;241m=\u001b[39mdim, theta\u001b[38;5;241m=\u001b[39mtheta), \u001b[38;5;241m1\u001b[39m, all_thetas)\n\u001b[1;32m    122\u001b[0m all_scores \u001b[38;5;241m=\u001b[39m np\u001b[38;5;241m.\u001b[39mapply_along_axis(\u001b[38;5;28;01mlambda\u001b[39;00m split: \u001b[38;5;28mself\u001b[39m\u001b[38;5;241m.\u001b[39m_information_gain(\u001b[38;5;241m*\u001b[39msplit, y), \u001b[38;5;241m1\u001b[39m, all_splits)\n",
      "\u001b[0;31mValueError\u001b[0m: setting an array element with a sequence. The requested array has an inhomogeneous shape after 1 dimensions. The detected shape was (784,) + inhomogeneous part."
     ]
    }
   ],
   "source": [
    "%%prun\n",
    "\n",
    "# version without searchsorted - way slower, stopped\n",
    "\n",
    "hdt.fit(phi(X_train.values), y_train)"
   ]
  },
  {
   "cell_type": "code",
   "execution_count": 28,
   "metadata": {},
   "outputs": [],
   "source": [
    "from hyperdt.tree_torch import HyperbolicDecisionTreeClassifier as HyperbolicDecisionTreeClassifierTorch\n",
    "\n",
    "hdt_torch = HyperbolicDecisionTreeClassifierTorch(max_depth=3, skip_hyperboloid_check=True, angle_midpoint_method=\"bisect\")"
   ]
  },
  {
   "cell_type": "code",
   "execution_count": 32,
   "metadata": {},
   "outputs": [],
   "source": [
    "import torch\n",
    "\n",
    "X_torch, y_torch = torch.tensor(X_train.values.astype(np.float32)), torch.tensor(y_train.values.astype(np.int64))"
   ]
  },
  {
   "cell_type": "code",
   "execution_count": 39,
   "metadata": {},
   "outputs": [
    {
     "name": "stderr",
     "output_type": "stream",
     "text": [
      "100%|██████████| 784/784 [03:51<00:00,  3.39it/s]\n",
      "100%|██████████| 784/784 [03:03<00:00,  4.28it/s]\n",
      "100%|██████████| 784/784 [01:20<00:00,  9.72it/s]\n"
     ]
    },
    {
     "ename": "NameError",
     "evalue": "name 'np' is not defined",
     "output_type": "error",
     "traceback": [
      "\u001b[0;31m---------------------------------------------------------------------------\u001b[0m",
      "\u001b[0;31mNameError\u001b[0m                                 Traceback (most recent call last)",
      "Cell \u001b[0;32mIn[39], line 1\u001b[0m\n\u001b[0;32m----> 1\u001b[0m get_ipython()\u001b[38;5;241m.\u001b[39mrun_cell_magic(\u001b[38;5;124m'\u001b[39m\u001b[38;5;124mprun\u001b[39m\u001b[38;5;124m'\u001b[39m, \u001b[38;5;124m'\u001b[39m\u001b[38;5;124m'\u001b[39m, \u001b[38;5;124m'\u001b[39m\u001b[38;5;130;01m\\n\u001b[39;00m\u001b[38;5;124m# torch version\u001b[39m\u001b[38;5;130;01m\\n\u001b[39;00m\u001b[38;5;130;01m\\n\u001b[39;00m\u001b[38;5;124mhdt_torch.fit(torch.tensor(phi(X_torch)), y_torch)\u001b[39m\u001b[38;5;130;01m\\n\u001b[39;00m\u001b[38;5;124m'\u001b[39m)\n",
      "File \u001b[0;32m~/mambaforge/envs/hdt/lib/python3.11/site-packages/IPython/core/interactiveshell.py:2475\u001b[0m, in \u001b[0;36mInteractiveShell.run_cell_magic\u001b[0;34m(self, magic_name, line, cell)\u001b[0m\n\u001b[1;32m   2473\u001b[0m \u001b[38;5;28;01mwith\u001b[39;00m \u001b[38;5;28mself\u001b[39m\u001b[38;5;241m.\u001b[39mbuiltin_trap:\n\u001b[1;32m   2474\u001b[0m     args \u001b[38;5;241m=\u001b[39m (magic_arg_s, cell)\n\u001b[0;32m-> 2475\u001b[0m     result \u001b[38;5;241m=\u001b[39m fn(\u001b[38;5;241m*\u001b[39margs, \u001b[38;5;241m*\u001b[39m\u001b[38;5;241m*\u001b[39mkwargs)\n\u001b[1;32m   2477\u001b[0m \u001b[38;5;66;03m# The code below prevents the output from being displayed\u001b[39;00m\n\u001b[1;32m   2478\u001b[0m \u001b[38;5;66;03m# when using magics with decodator @output_can_be_silenced\u001b[39;00m\n\u001b[1;32m   2479\u001b[0m \u001b[38;5;66;03m# when the last Python token in the expression is a ';'.\u001b[39;00m\n\u001b[1;32m   2480\u001b[0m \u001b[38;5;28;01mif\u001b[39;00m \u001b[38;5;28mgetattr\u001b[39m(fn, magic\u001b[38;5;241m.\u001b[39mMAGIC_OUTPUT_CAN_BE_SILENCED, \u001b[38;5;28;01mFalse\u001b[39;00m):\n",
      "File \u001b[0;32m~/mambaforge/envs/hdt/lib/python3.11/site-packages/IPython/core/magics/execution.py:298\u001b[0m, in \u001b[0;36mExecutionMagics.prun\u001b[0;34m(self, parameter_s, cell)\u001b[0m\n\u001b[1;32m    296\u001b[0m     arg_str \u001b[38;5;241m+\u001b[39m\u001b[38;5;241m=\u001b[39m \u001b[38;5;124m'\u001b[39m\u001b[38;5;130;01m\\n\u001b[39;00m\u001b[38;5;124m'\u001b[39m \u001b[38;5;241m+\u001b[39m cell\n\u001b[1;32m    297\u001b[0m arg_str \u001b[38;5;241m=\u001b[39m \u001b[38;5;28mself\u001b[39m\u001b[38;5;241m.\u001b[39mshell\u001b[38;5;241m.\u001b[39mtransform_cell(arg_str)\n\u001b[0;32m--> 298\u001b[0m \u001b[38;5;28;01mreturn\u001b[39;00m \u001b[38;5;28mself\u001b[39m\u001b[38;5;241m.\u001b[39m_run_with_profiler(arg_str, opts, \u001b[38;5;28mself\u001b[39m\u001b[38;5;241m.\u001b[39mshell\u001b[38;5;241m.\u001b[39muser_ns)\n",
      "File \u001b[0;32m~/mambaforge/envs/hdt/lib/python3.11/site-packages/IPython/core/magics/execution.py:320\u001b[0m, in \u001b[0;36mExecutionMagics._run_with_profiler\u001b[0;34m(self, code, opts, namespace)\u001b[0m\n\u001b[1;32m    318\u001b[0m prof \u001b[38;5;241m=\u001b[39m profile\u001b[38;5;241m.\u001b[39mProfile()\n\u001b[1;32m    319\u001b[0m \u001b[38;5;28;01mtry\u001b[39;00m:\n\u001b[0;32m--> 320\u001b[0m     prof \u001b[38;5;241m=\u001b[39m prof\u001b[38;5;241m.\u001b[39mrunctx(code, namespace, namespace)\n\u001b[1;32m    321\u001b[0m     sys_exit \u001b[38;5;241m=\u001b[39m \u001b[38;5;124m'\u001b[39m\u001b[38;5;124m'\u001b[39m\n\u001b[1;32m    322\u001b[0m \u001b[38;5;28;01mexcept\u001b[39;00m \u001b[38;5;167;01mSystemExit\u001b[39;00m:\n",
      "File \u001b[0;32m~/mambaforge/envs/hdt/lib/python3.11/cProfile.py:101\u001b[0m, in \u001b[0;36mProfile.runctx\u001b[0;34m(self, cmd, globals, locals)\u001b[0m\n\u001b[1;32m     99\u001b[0m \u001b[38;5;28mself\u001b[39m\u001b[38;5;241m.\u001b[39menable()\n\u001b[1;32m    100\u001b[0m \u001b[38;5;28;01mtry\u001b[39;00m:\n\u001b[0;32m--> 101\u001b[0m     exec(cmd, \u001b[38;5;28mglobals\u001b[39m, \u001b[38;5;28mlocals\u001b[39m)\n\u001b[1;32m    102\u001b[0m \u001b[38;5;28;01mfinally\u001b[39;00m:\n\u001b[1;32m    103\u001b[0m     \u001b[38;5;28mself\u001b[39m\u001b[38;5;241m.\u001b[39mdisable()\n",
      "File \u001b[0;32m<string>:3\u001b[0m\n",
      "File \u001b[0;32m~/hdt/hyperdt/tree_torch.py:395\u001b[0m, in \u001b[0;36mHyperbolicDecisionTreeClassifier.fit\u001b[0;34m(self, X, y)\u001b[0m\n\u001b[1;32m    392\u001b[0m \u001b[38;5;28mself\u001b[39m\u001b[38;5;241m.\u001b[39m_validate_hyperbolic(X)\n\u001b[1;32m    394\u001b[0m \u001b[38;5;66;03m# Fit tree\u001b[39;00m\n\u001b[0;32m--> 395\u001b[0m \u001b[38;5;28mself\u001b[39m\u001b[38;5;241m.\u001b[39mtree \u001b[38;5;241m=\u001b[39m \u001b[38;5;28mself\u001b[39m\u001b[38;5;241m.\u001b[39m_fit_node(X\u001b[38;5;241m=\u001b[39mX, y\u001b[38;5;241m=\u001b[39my, depth\u001b[38;5;241m=\u001b[39m\u001b[38;5;241m0\u001b[39m)\n\u001b[1;32m    396\u001b[0m \u001b[38;5;28;01mreturn\u001b[39;00m \u001b[38;5;28mself\u001b[39m\n",
      "File \u001b[0;32m~/hdt/hyperdt/tree_torch.py:145\u001b[0m, in \u001b[0;36mDecisionTreeClassifier._fit_node\u001b[0;34m(self, X, y, depth)\u001b[0m\n\u001b[1;32m    143\u001b[0m node\u001b[38;5;241m.\u001b[39mscore \u001b[38;5;241m=\u001b[39m best_score\n\u001b[1;32m    144\u001b[0m left, right \u001b[38;5;241m=\u001b[39m \u001b[38;5;28mself\u001b[39m\u001b[38;5;241m.\u001b[39m_get_split(X\u001b[38;5;241m=\u001b[39mX, dim\u001b[38;5;241m=\u001b[39mbest_dim, theta\u001b[38;5;241m=\u001b[39mbest_theta)\n\u001b[0;32m--> 145\u001b[0m node\u001b[38;5;241m.\u001b[39mleft \u001b[38;5;241m=\u001b[39m \u001b[38;5;28mself\u001b[39m\u001b[38;5;241m.\u001b[39m_fit_node(X\u001b[38;5;241m=\u001b[39mX[left], y\u001b[38;5;241m=\u001b[39my[left], depth\u001b[38;5;241m=\u001b[39mdepth \u001b[38;5;241m+\u001b[39m \u001b[38;5;241m1\u001b[39m)\n\u001b[1;32m    146\u001b[0m node\u001b[38;5;241m.\u001b[39mright \u001b[38;5;241m=\u001b[39m \u001b[38;5;28mself\u001b[39m\u001b[38;5;241m.\u001b[39m_fit_node(X\u001b[38;5;241m=\u001b[39mX[right], y\u001b[38;5;241m=\u001b[39my[right], depth\u001b[38;5;241m=\u001b[39mdepth \u001b[38;5;241m+\u001b[39m \u001b[38;5;241m1\u001b[39m)\n\u001b[1;32m    147\u001b[0m \u001b[38;5;28;01mreturn\u001b[39;00m node\n",
      "File \u001b[0;32m~/hdt/hyperdt/tree_torch.py:145\u001b[0m, in \u001b[0;36mDecisionTreeClassifier._fit_node\u001b[0;34m(self, X, y, depth)\u001b[0m\n\u001b[1;32m    143\u001b[0m node\u001b[38;5;241m.\u001b[39mscore \u001b[38;5;241m=\u001b[39m best_score\n\u001b[1;32m    144\u001b[0m left, right \u001b[38;5;241m=\u001b[39m \u001b[38;5;28mself\u001b[39m\u001b[38;5;241m.\u001b[39m_get_split(X\u001b[38;5;241m=\u001b[39mX, dim\u001b[38;5;241m=\u001b[39mbest_dim, theta\u001b[38;5;241m=\u001b[39mbest_theta)\n\u001b[0;32m--> 145\u001b[0m node\u001b[38;5;241m.\u001b[39mleft \u001b[38;5;241m=\u001b[39m \u001b[38;5;28mself\u001b[39m\u001b[38;5;241m.\u001b[39m_fit_node(X\u001b[38;5;241m=\u001b[39mX[left], y\u001b[38;5;241m=\u001b[39my[left], depth\u001b[38;5;241m=\u001b[39mdepth \u001b[38;5;241m+\u001b[39m \u001b[38;5;241m1\u001b[39m)\n\u001b[1;32m    146\u001b[0m node\u001b[38;5;241m.\u001b[39mright \u001b[38;5;241m=\u001b[39m \u001b[38;5;28mself\u001b[39m\u001b[38;5;241m.\u001b[39m_fit_node(X\u001b[38;5;241m=\u001b[39mX[right], y\u001b[38;5;241m=\u001b[39my[right], depth\u001b[38;5;241m=\u001b[39mdepth \u001b[38;5;241m+\u001b[39m \u001b[38;5;241m1\u001b[39m)\n\u001b[1;32m    147\u001b[0m \u001b[38;5;28;01mreturn\u001b[39;00m node\n",
      "File \u001b[0;32m~/hdt/hyperdt/tree_torch.py:145\u001b[0m, in \u001b[0;36mDecisionTreeClassifier._fit_node\u001b[0;34m(self, X, y, depth)\u001b[0m\n\u001b[1;32m    143\u001b[0m node\u001b[38;5;241m.\u001b[39mscore \u001b[38;5;241m=\u001b[39m best_score\n\u001b[1;32m    144\u001b[0m left, right \u001b[38;5;241m=\u001b[39m \u001b[38;5;28mself\u001b[39m\u001b[38;5;241m.\u001b[39m_get_split(X\u001b[38;5;241m=\u001b[39mX, dim\u001b[38;5;241m=\u001b[39mbest_dim, theta\u001b[38;5;241m=\u001b[39mbest_theta)\n\u001b[0;32m--> 145\u001b[0m node\u001b[38;5;241m.\u001b[39mleft \u001b[38;5;241m=\u001b[39m \u001b[38;5;28mself\u001b[39m\u001b[38;5;241m.\u001b[39m_fit_node(X\u001b[38;5;241m=\u001b[39mX[left], y\u001b[38;5;241m=\u001b[39my[left], depth\u001b[38;5;241m=\u001b[39mdepth \u001b[38;5;241m+\u001b[39m \u001b[38;5;241m1\u001b[39m)\n\u001b[1;32m    146\u001b[0m node\u001b[38;5;241m.\u001b[39mright \u001b[38;5;241m=\u001b[39m \u001b[38;5;28mself\u001b[39m\u001b[38;5;241m.\u001b[39m_fit_node(X\u001b[38;5;241m=\u001b[39mX[right], y\u001b[38;5;241m=\u001b[39my[right], depth\u001b[38;5;241m=\u001b[39mdepth \u001b[38;5;241m+\u001b[39m \u001b[38;5;241m1\u001b[39m)\n\u001b[1;32m    147\u001b[0m \u001b[38;5;28;01mreturn\u001b[39;00m node\n",
      "File \u001b[0;32m~/hdt/hyperdt/tree_torch.py:119\u001b[0m, in \u001b[0;36mDecisionTreeClassifier._fit_node\u001b[0;34m(self, X, y, depth)\u001b[0m\n\u001b[1;32m    116\u001b[0m \u001b[38;5;66;03m# Base case\u001b[39;00m\n\u001b[1;32m    117\u001b[0m \u001b[38;5;66;03m# if depth == self.max_depth or len(y) <= self.min_samples_split or len(np.unique(y)) == 1:\u001b[39;00m\n\u001b[1;32m    118\u001b[0m \u001b[38;5;28;01mif\u001b[39;00m depth \u001b[38;5;241m==\u001b[39m \u001b[38;5;28mself\u001b[39m\u001b[38;5;241m.\u001b[39mmax_depth \u001b[38;5;129;01mor\u001b[39;00m \u001b[38;5;28mlen\u001b[39m(y) \u001b[38;5;241m<\u001b[39m\u001b[38;5;241m=\u001b[39m \u001b[38;5;28mself\u001b[39m\u001b[38;5;241m.\u001b[39mmin_samples_split \u001b[38;5;129;01mor\u001b[39;00m \u001b[38;5;28mlen\u001b[39m(torch\u001b[38;5;241m.\u001b[39munique(y)) \u001b[38;5;241m==\u001b[39m \u001b[38;5;241m1\u001b[39m:\n\u001b[0;32m--> 119\u001b[0m     value, probs \u001b[38;5;241m=\u001b[39m \u001b[38;5;28mself\u001b[39m\u001b[38;5;241m.\u001b[39m_leaf_values(y)\n\u001b[1;32m    120\u001b[0m     \u001b[38;5;28;01mreturn\u001b[39;00m DecisionNode(value\u001b[38;5;241m=\u001b[39mvalue, probs\u001b[38;5;241m=\u001b[39mprobs)\n\u001b[1;32m    122\u001b[0m \u001b[38;5;66;03m# Recursively find the best split:\u001b[39;00m\n",
      "File \u001b[0;32m~/hdt/hyperdt/tree_torch.py:153\u001b[0m, in \u001b[0;36mDecisionTreeClassifier._leaf_values\u001b[0;34m(self, y)\u001b[0m\n\u001b[1;32m    151\u001b[0m \u001b[38;5;250m\u001b[39m\u001b[38;5;124;03m\"\"\"Return the value and probability of a leaf node\"\"\"\u001b[39;00m\n\u001b[1;32m    152\u001b[0m probs \u001b[38;5;241m=\u001b[39m \u001b[38;5;28mself\u001b[39m\u001b[38;5;241m.\u001b[39m_get_probs(y)\n\u001b[0;32m--> 153\u001b[0m \u001b[38;5;28;01mreturn\u001b[39;00m np\u001b[38;5;241m.\u001b[39margmax(probs), probs\n",
      "\u001b[0;31mNameError\u001b[0m: name 'np' is not defined"
     ]
    }
   ],
   "source": [
    "%%prun\n",
    "\n",
    "# torch version\n",
    "\n",
    "hdt_torch.fit(torch.tensor(phi(X_torch)), y_torch)"
   ]
  },
  {
   "cell_type": "code",
   "execution_count": 12,
   "metadata": {},
   "outputs": [],
   "source": [
    "import torch"
   ]
  },
  {
   "cell_type": "code",
   "execution_count": 20,
   "metadata": {},
   "outputs": [],
   "source": [
    "from hyperdt.tree_torch import HyperbolicDecisionTreeClassifier as HDTCTorch\n",
    "\n",
    "hdt = HDTCTorch()"
   ]
  },
  {
   "cell_type": "code",
   "execution_count": 21,
   "metadata": {},
   "outputs": [],
   "source": [
    "from hyperdt.toy_data import wrapped_normal_mixture\n",
    "\n",
    "X, y = wrapped_normal_mixture()\n",
    "X = torch.Tensor(X)\n",
    "y = torch.Tensor(y)"
   ]
  },
  {
   "cell_type": "code",
   "execution_count": 23,
   "metadata": {},
   "outputs": [
    {
     "name": "stderr",
     "output_type": "stream",
     "text": [
      "100%|██████████| 2/2 [00:00<00:00,  3.84it/s]\n",
      "100%|██████████| 2/2 [00:00<00:00, 37.21it/s]\n",
      "100%|██████████| 2/2 [00:00<00:00, 56.25it/s]\n",
      "100%|██████████| 2/2 [00:00<00:00,  4.48it/s]\n",
      "100%|██████████| 2/2 [00:00<00:00,  4.46it/s]\n"
     ]
    },
    {
     "data": {
      "text/html": [
       "<style>#sk-container-id-2 {color: black;}#sk-container-id-2 pre{padding: 0;}#sk-container-id-2 div.sk-toggleable {background-color: white;}#sk-container-id-2 label.sk-toggleable__label {cursor: pointer;display: block;width: 100%;margin-bottom: 0;padding: 0.3em;box-sizing: border-box;text-align: center;}#sk-container-id-2 label.sk-toggleable__label-arrow:before {content: \"▸\";float: left;margin-right: 0.25em;color: #696969;}#sk-container-id-2 label.sk-toggleable__label-arrow:hover:before {color: black;}#sk-container-id-2 div.sk-estimator:hover label.sk-toggleable__label-arrow:before {color: black;}#sk-container-id-2 div.sk-toggleable__content {max-height: 0;max-width: 0;overflow: hidden;text-align: left;background-color: #f0f8ff;}#sk-container-id-2 div.sk-toggleable__content pre {margin: 0.2em;color: black;border-radius: 0.25em;background-color: #f0f8ff;}#sk-container-id-2 input.sk-toggleable__control:checked~div.sk-toggleable__content {max-height: 200px;max-width: 100%;overflow: auto;}#sk-container-id-2 input.sk-toggleable__control:checked~label.sk-toggleable__label-arrow:before {content: \"▾\";}#sk-container-id-2 div.sk-estimator input.sk-toggleable__control:checked~label.sk-toggleable__label {background-color: #d4ebff;}#sk-container-id-2 div.sk-label input.sk-toggleable__control:checked~label.sk-toggleable__label {background-color: #d4ebff;}#sk-container-id-2 input.sk-hidden--visually {border: 0;clip: rect(1px 1px 1px 1px);clip: rect(1px, 1px, 1px, 1px);height: 1px;margin: -1px;overflow: hidden;padding: 0;position: absolute;width: 1px;}#sk-container-id-2 div.sk-estimator {font-family: monospace;background-color: #f0f8ff;border: 1px dotted black;border-radius: 0.25em;box-sizing: border-box;margin-bottom: 0.5em;}#sk-container-id-2 div.sk-estimator:hover {background-color: #d4ebff;}#sk-container-id-2 div.sk-parallel-item::after {content: \"\";width: 100%;border-bottom: 1px solid gray;flex-grow: 1;}#sk-container-id-2 div.sk-label:hover label.sk-toggleable__label {background-color: #d4ebff;}#sk-container-id-2 div.sk-serial::before {content: \"\";position: absolute;border-left: 1px solid gray;box-sizing: border-box;top: 0;bottom: 0;left: 50%;z-index: 0;}#sk-container-id-2 div.sk-serial {display: flex;flex-direction: column;align-items: center;background-color: white;padding-right: 0.2em;padding-left: 0.2em;position: relative;}#sk-container-id-2 div.sk-item {position: relative;z-index: 1;}#sk-container-id-2 div.sk-parallel {display: flex;align-items: stretch;justify-content: center;background-color: white;position: relative;}#sk-container-id-2 div.sk-item::before, #sk-container-id-2 div.sk-parallel-item::before {content: \"\";position: absolute;border-left: 1px solid gray;box-sizing: border-box;top: 0;bottom: 0;left: 50%;z-index: -1;}#sk-container-id-2 div.sk-parallel-item {display: flex;flex-direction: column;z-index: 1;position: relative;background-color: white;}#sk-container-id-2 div.sk-parallel-item:first-child::after {align-self: flex-end;width: 50%;}#sk-container-id-2 div.sk-parallel-item:last-child::after {align-self: flex-start;width: 50%;}#sk-container-id-2 div.sk-parallel-item:only-child::after {width: 0;}#sk-container-id-2 div.sk-dashed-wrapped {border: 1px dashed gray;margin: 0 0.4em 0.5em 0.4em;box-sizing: border-box;padding-bottom: 0.4em;background-color: white;}#sk-container-id-2 div.sk-label label {font-family: monospace;font-weight: bold;display: inline-block;line-height: 1.2em;}#sk-container-id-2 div.sk-label-container {text-align: center;}#sk-container-id-2 div.sk-container {/* jupyter's `normalize.less` sets `[hidden] { display: none; }` but bootstrap.min.css set `[hidden] { display: none !important; }` so we also need the `!important` here to be able to override the default hidden behavior on the sphinx rendered scikit-learn.org. See: https://github.com/scikit-learn/scikit-learn/issues/21755 */display: inline-block !important;position: relative;}#sk-container-id-2 div.sk-text-repr-fallback {display: none;}</style><div id=\"sk-container-id-2\" class=\"sk-top-container\"><div class=\"sk-text-repr-fallback\"><pre>HyperbolicDecisionTreeClassifier()</pre><b>In a Jupyter environment, please rerun this cell to show the HTML representation or trust the notebook. <br />On GitHub, the HTML representation is unable to render, please try loading this page with nbviewer.org.</b></div><div class=\"sk-container\" hidden><div class=\"sk-item\"><div class=\"sk-estimator sk-toggleable\"><input class=\"sk-toggleable__control sk-hidden--visually\" id=\"sk-estimator-id-2\" type=\"checkbox\" checked><label for=\"sk-estimator-id-2\" class=\"sk-toggleable__label sk-toggleable__label-arrow\">HyperbolicDecisionTreeClassifier</label><div class=\"sk-toggleable__content\"><pre>HyperbolicDecisionTreeClassifier()</pre></div></div></div></div></div>"
      ],
      "text/plain": [
       "HyperbolicDecisionTreeClassifier()"
      ]
     },
     "execution_count": 23,
     "metadata": {},
     "output_type": "execute_result"
    }
   ],
   "source": [
    "hdt.fit(X, y)"
   ]
  },
  {
   "cell_type": "code",
   "execution_count": 24,
   "metadata": {},
   "outputs": [
    {
     "data": {
      "text/html": [
       "<style>#sk-container-id-3 {color: black;}#sk-container-id-3 pre{padding: 0;}#sk-container-id-3 div.sk-toggleable {background-color: white;}#sk-container-id-3 label.sk-toggleable__label {cursor: pointer;display: block;width: 100%;margin-bottom: 0;padding: 0.3em;box-sizing: border-box;text-align: center;}#sk-container-id-3 label.sk-toggleable__label-arrow:before {content: \"▸\";float: left;margin-right: 0.25em;color: #696969;}#sk-container-id-3 label.sk-toggleable__label-arrow:hover:before {color: black;}#sk-container-id-3 div.sk-estimator:hover label.sk-toggleable__label-arrow:before {color: black;}#sk-container-id-3 div.sk-toggleable__content {max-height: 0;max-width: 0;overflow: hidden;text-align: left;background-color: #f0f8ff;}#sk-container-id-3 div.sk-toggleable__content pre {margin: 0.2em;color: black;border-radius: 0.25em;background-color: #f0f8ff;}#sk-container-id-3 input.sk-toggleable__control:checked~div.sk-toggleable__content {max-height: 200px;max-width: 100%;overflow: auto;}#sk-container-id-3 input.sk-toggleable__control:checked~label.sk-toggleable__label-arrow:before {content: \"▾\";}#sk-container-id-3 div.sk-estimator input.sk-toggleable__control:checked~label.sk-toggleable__label {background-color: #d4ebff;}#sk-container-id-3 div.sk-label input.sk-toggleable__control:checked~label.sk-toggleable__label {background-color: #d4ebff;}#sk-container-id-3 input.sk-hidden--visually {border: 0;clip: rect(1px 1px 1px 1px);clip: rect(1px, 1px, 1px, 1px);height: 1px;margin: -1px;overflow: hidden;padding: 0;position: absolute;width: 1px;}#sk-container-id-3 div.sk-estimator {font-family: monospace;background-color: #f0f8ff;border: 1px dotted black;border-radius: 0.25em;box-sizing: border-box;margin-bottom: 0.5em;}#sk-container-id-3 div.sk-estimator:hover {background-color: #d4ebff;}#sk-container-id-3 div.sk-parallel-item::after {content: \"\";width: 100%;border-bottom: 1px solid gray;flex-grow: 1;}#sk-container-id-3 div.sk-label:hover label.sk-toggleable__label {background-color: #d4ebff;}#sk-container-id-3 div.sk-serial::before {content: \"\";position: absolute;border-left: 1px solid gray;box-sizing: border-box;top: 0;bottom: 0;left: 50%;z-index: 0;}#sk-container-id-3 div.sk-serial {display: flex;flex-direction: column;align-items: center;background-color: white;padding-right: 0.2em;padding-left: 0.2em;position: relative;}#sk-container-id-3 div.sk-item {position: relative;z-index: 1;}#sk-container-id-3 div.sk-parallel {display: flex;align-items: stretch;justify-content: center;background-color: white;position: relative;}#sk-container-id-3 div.sk-item::before, #sk-container-id-3 div.sk-parallel-item::before {content: \"\";position: absolute;border-left: 1px solid gray;box-sizing: border-box;top: 0;bottom: 0;left: 50%;z-index: -1;}#sk-container-id-3 div.sk-parallel-item {display: flex;flex-direction: column;z-index: 1;position: relative;background-color: white;}#sk-container-id-3 div.sk-parallel-item:first-child::after {align-self: flex-end;width: 50%;}#sk-container-id-3 div.sk-parallel-item:last-child::after {align-self: flex-start;width: 50%;}#sk-container-id-3 div.sk-parallel-item:only-child::after {width: 0;}#sk-container-id-3 div.sk-dashed-wrapped {border: 1px dashed gray;margin: 0 0.4em 0.5em 0.4em;box-sizing: border-box;padding-bottom: 0.4em;background-color: white;}#sk-container-id-3 div.sk-label label {font-family: monospace;font-weight: bold;display: inline-block;line-height: 1.2em;}#sk-container-id-3 div.sk-label-container {text-align: center;}#sk-container-id-3 div.sk-container {/* jupyter's `normalize.less` sets `[hidden] { display: none; }` but bootstrap.min.css set `[hidden] { display: none !important; }` so we also need the `!important` here to be able to override the default hidden behavior on the sphinx rendered scikit-learn.org. See: https://github.com/scikit-learn/scikit-learn/issues/21755 */display: inline-block !important;position: relative;}#sk-container-id-3 div.sk-text-repr-fallback {display: none;}</style><div id=\"sk-container-id-3\" class=\"sk-top-container\"><div class=\"sk-text-repr-fallback\"><pre>HyperbolicDecisionTreeClassifier()</pre><b>In a Jupyter environment, please rerun this cell to show the HTML representation or trust the notebook. <br />On GitHub, the HTML representation is unable to render, please try loading this page with nbviewer.org.</b></div><div class=\"sk-container\" hidden><div class=\"sk-item\"><div class=\"sk-estimator sk-toggleable\"><input class=\"sk-toggleable__control sk-hidden--visually\" id=\"sk-estimator-id-3\" type=\"checkbox\" checked><label for=\"sk-estimator-id-3\" class=\"sk-toggleable__label sk-toggleable__label-arrow\">HyperbolicDecisionTreeClassifier</label><div class=\"sk-toggleable__content\"><pre>HyperbolicDecisionTreeClassifier()</pre></div></div></div></div></div>"
      ],
      "text/plain": [
       "HyperbolicDecisionTreeClassifier()"
      ]
     },
     "execution_count": 24,
     "metadata": {},
     "output_type": "execute_result"
    }
   ],
   "source": []
  },
  {
   "cell_type": "code",
   "execution_count": null,
   "metadata": {},
   "outputs": [],
   "source": []
  },
  {
   "cell_type": "code",
   "execution_count": 2,
   "metadata": {},
   "outputs": [],
   "source": [
    "from geomstats.geometry.hyperboloid import Hyperboloid\n",
    "from geomstats.geometry.hypersphere import Hypersphere\n",
    "\n",
    "h = Hyperboloid(2)\n",
    "s = Hypersphere(2)"
   ]
  },
  {
   "cell_type": "code",
   "execution_count": 4,
   "metadata": {},
   "outputs": [],
   "source": [
    "import numpy as np"
   ]
  },
  {
   "cell_type": "code",
   "execution_count": 12,
   "metadata": {},
   "outputs": [],
   "source": [
    "results = {}\n",
    "curvs = [0.25, 0.5, 1]\n",
    "# curvs = [1]\n",
    "\n",
    "# Hyperboloid\n",
    "for k in curvs:\n",
    "    X_tangent = np.random.normal(size=(1_000_000, 2))\n",
    "\n",
    "    # pre-adjust for curvature\n",
    "    X_tangent *= np.sqrt(k)\n",
    "\n",
    "    # prepend 1 to make it a tangent plane vector\n",
    "    X_tangent = np.column_stack((np.zeros(X_tangent.shape[0]), X_tangent))\n",
    "\n",
    "    # exp map at origin\n",
    "    X_manifold = h.metric.exp(X_tangent, np.array([1., 0., 0.,]))\n",
    "\n",
    "    # Get distances to origin\n",
    "    dists = h.metric.dist(X_manifold, np.array([1., 0., 0.,]))\n",
    "\n",
    "    results[-k] = np.arccosh(np.cosh(dists) / np.sqrt(k))\n",
    "    # results[-k] = dists\n",
    "\n",
    "# Euclidean\n",
    "X_tangent = np.random.normal(size=(1_000_000, 2))\n",
    "results[0] = np.linalg.norm(X_tangent, axis=1)\n",
    "\n",
    "# Hypersphere\n",
    "for k in curvs:\n",
    "    X_tangent = np.random.normal(size=(1_000_000, 2))\n",
    "\n",
    "    # pre-adjust for curvature\n",
    "    X_tangent *= np.sqrt(k)\n",
    "\n",
    "    # prepend 1 to make it a tangent plane vector\n",
    "    X_tangent = np.column_stack((np.zeros(X_tangent.shape[0]), X_tangent))\n",
    "\n",
    "    # exp map at origin\n",
    "    X_manifold = s.metric.exp(X_tangent, np.array([1., 0., 0.,]))\n",
    "\n",
    "    # Get distances to origin\n",
    "    dists = s.metric.dist(X_manifold, np.array([1., 0., 0.,]))\n",
    "\n",
    "    results[k] = dists / np.sqrt(k)"
   ]
  },
  {
   "cell_type": "code",
   "execution_count": 13,
   "metadata": {},
   "outputs": [
    {
     "data": {
      "text/plain": [
       "<matplotlib.legend.Legend at 0x7f2dbf966550>"
      ]
     },
     "execution_count": 13,
     "metadata": {},
     "output_type": "execute_result"
    },
    {
     "data": {
      "image/png": "[encoded data removed]",
      "text/plain": [
       "<Figure size 1000x1000 with 1 Axes>"
      ]
     },
     "metadata": {},
     "output_type": "display_data"
    }
   ],
   "source": [
    "# Plot pdf\n",
    "import matplotlib.pyplot as plt\n",
    "\n",
    "# Use RdBu colormap\n",
    "colors = plt.cm.viridis(np.linspace(0, 1, len(results)))\n",
    "\n",
    "fig = plt.figure(figsize=(10, 10))\n",
    "\n",
    "for i, (curvature, dists) in enumerate(results.items()):\n",
    "    # Generate line graph of pdf\n",
    "    # plt.hist(\n",
    "    #     dists, bins=100, density=True, alpha=0.5, label=f\"{curvature}\", color=colors[i]\n",
    "    # )\n",
    "    # Drop nans\n",
    "    dists = dists[~np.isnan(dists)]\n",
    "    hist = np.histogram(dists, bins=100, density=True)\n",
    "    plt.plot(hist[1][:-1], hist[0], label=f\"{curvature}\", color=colors[i])\n",
    "plt.legend()\n",
    "# plt.xlim(0, 3)"
   ]
  },
  {
   "cell_type": "code",
   "execution_count": null,
   "metadata": {},
   "outputs": [],
   "source": [
    "# K = 0 --> Euclidean\n",
    "# K = 0.1 --> Spherical (radius 1/sqrt(0.1) ~ 3.16)\n",
    "    # Rescale vectors to be SMALLER, i.e. multiply by sqrt(k)\n",
    "# K = 1 --> Spherical (radius 1)\n",
    "# K = 10 --> Spherical (radius 1/sqrt(10) ~ 0.316)\n",
    "    # Rescale vectors to be LARGER, i.e. multiply by sqrt(k)"
   ]
  },
  {
   "cell_type": "code",
   "execution_count": 7,
   "metadata": {},
   "outputs": [
    {
     "data": {
      "text/plain": [
       "(array([3.8100e+02, 1.0550e+03, 1.7060e+03, 2.2530e+03, 2.8630e+03,\n",
       "        3.4460e+03, 4.1370e+03, 4.6060e+03, 5.3640e+03, 5.8810e+03,\n",
       "        6.2860e+03, 6.8620e+03, 7.4680e+03, 7.8860e+03, 8.2480e+03,\n",
       "        8.5520e+03, 9.4170e+03, 9.4430e+03, 9.8140e+03, 1.0271e+04,\n",
       "        1.0529e+04, 1.0946e+04, 1.1162e+04, 1.1426e+04, 1.1639e+04,\n",
       "        1.1874e+04, 1.1793e+04, 1.2044e+04, 1.2234e+04, 1.2164e+04,\n",
       "        1.2332e+04, 1.2058e+04, 1.2303e+04, 1.2261e+04, 1.2344e+04,\n",
       "        1.2195e+04, 1.2032e+04, 1.2114e+04, 1.2049e+04, 1.2173e+04,\n",
       "        1.1771e+04, 1.1600e+04, 1.1737e+04, 1.5124e+04, 1.7789e+04,\n",
       "        1.7701e+04, 1.8125e+04, 1.8416e+04, 1.8708e+04, 1.8916e+04,\n",
       "        1.8839e+04, 1.9327e+04, 1.9334e+04, 1.9166e+04, 1.9241e+04,\n",
       "        1.9323e+04, 1.9474e+04, 1.9386e+04, 1.9318e+04, 1.9238e+04,\n",
       "        1.9004e+04, 1.8708e+04, 1.8571e+04, 1.8279e+04, 1.7684e+04,\n",
       "        1.7526e+04, 1.6904e+04, 1.6304e+04, 1.5601e+04, 1.4742e+04,\n",
       "        1.4086e+04, 1.3416e+04, 1.2188e+04, 1.1376e+04, 1.0336e+04,\n",
       "        9.5260e+03, 8.5370e+03, 7.5640e+03, 6.5650e+03, 5.5320e+03,\n",
       "        4.4850e+03, 3.9290e+03, 3.1910e+03, 2.5330e+03, 2.0420e+03,\n",
       "        1.5560e+03, 1.1040e+03, 8.5700e+02, 6.1300e+02, 4.1400e+02,\n",
       "        2.6200e+02, 1.3600e+02, 1.3100e+02, 7.6000e+01, 3.9000e+01,\n",
       "        1.6000e+01, 9.0000e+00, 1.0000e+01, 2.0000e+00, 2.0000e+00]),\n",
       " array([9.43320551e-04, 1.35858001e-02, 2.62282796e-02, 3.88707591e-02,\n",
       "        5.15132386e-02, 6.41557181e-02, 7.67981976e-02, 8.94406771e-02,\n",
       "        1.02083157e-01, 1.14725636e-01, 1.27368116e-01, 1.40010595e-01,\n",
       "        1.52653075e-01, 1.65295554e-01, 1.77938034e-01, 1.90580513e-01,\n",
       "        2.03222993e-01, 2.15865472e-01, 2.28507952e-01, 2.41150431e-01,\n",
       "        2.53792911e-01, 2.66435390e-01, 2.79077870e-01, 2.91720349e-01,\n",
       "        3.04362829e-01, 3.17005308e-01, 3.29647788e-01, 3.42290267e-01,\n",
       "        3.54932747e-01, 3.67575226e-01, 3.80217706e-01, 3.92860185e-01,\n",
       "        4.05502665e-01, 4.18145144e-01, 4.30787624e-01, 4.43430103e-01,\n",
       "        4.56072583e-01, 4.68715062e-01, 4.81357542e-01, 4.94000021e-01,\n",
       "        5.06642501e-01, 5.19284980e-01, 5.31927460e-01, 5.44569939e-01,\n",
       "        5.57212419e-01, 5.69854898e-01, 5.82497378e-01, 5.95139857e-01,\n",
       "        6.07782337e-01, 6.20424816e-01, 6.33067296e-01, 6.45709775e-01,\n",
       "        6.58352255e-01, 6.70994734e-01, 6.83637214e-01, 6.96279693e-01,\n",
       "        7.08922173e-01, 7.21564652e-01, 7.34207132e-01, 7.46849611e-01,\n",
       "        7.59492091e-01, 7.72134570e-01, 7.84777050e-01, 7.97419529e-01,\n",
       "        8.10062009e-01, 8.22704488e-01, 8.35346968e-01, 8.47989447e-01,\n",
       "        8.60631927e-01, 8.73274406e-01, 8.85916886e-01, 8.98559365e-01,\n",
       "        9.11201845e-01, 9.23844324e-01, 9.36486804e-01, 9.49129283e-01,\n",
       "        9.61771763e-01, 9.74414243e-01, 9.87056722e-01, 9.99699202e-01,\n",
       "        1.01234168e+00, 1.02498416e+00, 1.03762664e+00, 1.05026912e+00,\n",
       "        1.06291160e+00, 1.07555408e+00, 1.08819656e+00, 1.10083904e+00,\n",
       "        1.11348152e+00, 1.12612400e+00, 1.13876648e+00, 1.15140896e+00,\n",
       "        1.16405144e+00, 1.17669391e+00, 1.18933639e+00, 1.20197887e+00,\n",
       "        1.21462135e+00, 1.22726383e+00, 1.23990631e+00, 1.25254879e+00,\n",
       "        1.26519127e+00]),\n",
       " <BarContainer object of 100 artists>)"
      ]
     },
     "execution_count": 7,
     "metadata": {},
     "output_type": "execute_result"
    },
    {
     "data": {
      "image/png": "[encoded data removed]",
      "text/plain": [
       "<Figure size 640x480 with 1 Axes>"
      ]
     },
     "metadata": {},
     "output_type": "display_data"
    }
   ],
   "source": [
    "plt.hist(results[-1], bins=100)"
   ]
  },
  {
   "cell_type": "code",
   "execution_count": 128,
   "metadata": {},
   "outputs": [
    {
     "data": {
      "text/plain": [
       "array([0.83736687, 0.86459252,        nan, ..., 0.9310507 , 0.97819941,\n",
       "       0.80606044])"
      ]
     },
     "execution_count": 128,
     "metadata": {},
     "output_type": "execute_result"
    }
   ],
   "source": [
    "h.metric.norm(X_manifold)"
   ]
  },
  {
   "cell_type": "code",
   "execution_count": 129,
   "metadata": {},
   "outputs": [
    {
     "data": {
      "text/plain": [
       "array([[-0.38653378, -0.65140977,  0.65288357],\n",
       "       [-0.35530253,  0.20211172,  0.91263956],\n",
       "       [-0.86631687, -0.48082744,  0.13527767],\n",
       "       ...,\n",
       "       [-0.25801607,  0.7694765 ,  0.58423764],\n",
       "       [-0.14684332, -0.29954745, -0.9427133 ],\n",
       "       [ 0.41848929,  0.90252204, -0.10159075]])"
      ]
     },
     "execution_count": 129,
     "metadata": {},
     "output_type": "execute_result"
    }
   ],
   "source": [
    "X_manifold"
   ]
  },
  {
   "cell_type": "code",
   "execution_count": null,
   "metadata": {},
   "outputs": [],
   "source": []
  }
 ],
 "metadata": {
  "kernelspec": {
   "display_name": "hdt",
   "language": "python",
   "name": "python3"
  },
  "language_info": {
   "codemirror_mode": {
    "name": "ipython",
    "version": 3
   },
   "file_extension": ".py",
   "mimetype": "text/x-python",
   "name": "python",
   "nbconvert_exporter": "python",
   "pygments_lexer": "ipython3",
   "version": "3.11.4"
  }
 },
 "nbformat": 4,
 "nbformat_minor": 2
}
