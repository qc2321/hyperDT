{
 "cells": [
  {
   "cell_type": "code",
   "execution_count": 1,
   "metadata": {},
   "outputs": [],
   "source": [
    "# Roadmap:\n",
    "# * Distributions of distances from origin to exp-map of tangent normals for K = -1, 0, 1\n",
    "# * Extension to arbitrary curvatures K in (-infty, infty)\n",
    "# * Extension to points away from origin\n",
    "\n",
    "# Paying attention to:\n",
    "# * Norms of points\n",
    "# * Distribution of distances\n",
    "# * Distribution of inner products\n",
    "\n",
    "# at each step"
   ]
  },
  {
   "cell_type": "code",
   "execution_count": 1,
   "metadata": {},
   "outputs": [
    {
     "name": "stderr",
     "output_type": "stream",
     "text": [
      "INFO: Using numpy backend\n",
      "INFO: NumExpr defaulting to 8 threads.\n"
     ]
    }
   ],
   "source": [
    "from geomstats.geometry.hyperboloid import Hyperboloid\n",
    "from geomstats.geometry.hypersphere import Hypersphere\n",
    "\n",
    "import numpy as np\n",
    "import matplotlib.pyplot as plt\n",
    "import pandas as pd"
   ]
  },
  {
   "cell_type": "code",
   "execution_count": 2,
   "metadata": {},
   "outputs": [],
   "source": [
    "# Define some functions\n",
    "def minkowski_inner(u, v):\n",
    "    \"\"\"Compute the Minkowski inner product of two vectors.\"\"\"\n",
    "    # Coerce vectors to 2D to get numpy array as output\n",
    "    if u.ndim == 1:\n",
    "        u = u[None, :]\n",
    "    if v.ndim == 1:\n",
    "        v = v[None, :]\n",
    "    \n",
    "    return np.sum(u[:, 1:] * v[:, 1:], axis=1) - u[:, 0] * v[:, 0]\n",
    "\n",
    "def minkowski_sqnorm(x):\n",
    "    \"\"\"Compute the Minkowski square norm of a vector.\"\"\"\n",
    "    return minkowski_inner(x, x)\n",
    "\n",
    "def get_dists_from_point(points, mu=None, K=None):\n",
    "    \"\"\"Get the distances of points from a point on the hyperboloid.\"\"\"\n",
    "    # Find the curvature if it is not given\n",
    "    if K is None:\n",
    "        sqnorms = minkowski_sqnorm(points)\n",
    "        assert np.allclose(sqnorms, sqnorms.mean()), \"Points are not on the same hyperboloid\"\n",
    "        K = -1/sqnorms.mean()\n",
    "    \n",
    "    if K < 0:\n",
    "        print(\"Making K positive\")\n",
    "        K = -K\n",
    "\n",
    "    # Find the origin if mu is None\n",
    "    if mu is None:\n",
    "        mu = np.zeros(points.shape[1])\n",
    "        mu[0] = 1 / np.sqrt(K)\n",
    "    \n",
    "    # Get the distances using hyperbolic distance\n",
    "    dists = np.arccosh(-minkowski_inner(points, mu) / np.sqrt(K))\n",
    "\n",
    "    return dists\n",
    "\n",
    "def rescale_curvature(points, K):\n",
    "    \"\"\"Rescale points on the hyperboloid to have curvature K.\"\"\"\n",
    "    sqnorms = minkowski_sqnorm(points)\n",
    "    assert np.allclose(sqnorms, sqnorms.mean()), \"Points are not on the same hyperboloid\"\n",
    "    K_old = -1/sqnorms.mean()\n",
    "    points_rescaled = np.sqrt(K_old / K) * points\n",
    "    return points_rescaled"
   ]
  },
  {
   "cell_type": "code",
   "execution_count": 9,
   "metadata": {},
   "outputs": [
    {
     "name": "stdout",
     "output_type": "stream",
     "text": [
      "1 [-1.73205081]\n",
      "2 [-1.]\n",
      "3 [-1.]\n",
      "4 [-1. -1.]\n",
      "5 [0.         1.14621583]\n",
      "6 [[0.31622777 0.         0.        ]\n",
      " [0.54772256 0.31622777 0.31622777]] [-0.1 -0.1]\n"
     ]
    }
   ],
   "source": [
    "# Test the Minkowski inner product and square norms\n",
    "u = np.array([1., 0., 0.])\n",
    "v = np.array([np.sqrt(3), 1., 1.])\n",
    "print(1, minkowski_inner(u, v))\n",
    "print(2, minkowski_sqnorm(u))\n",
    "print(3, minkowski_sqnorm(v))\n",
    "\n",
    "# Can we get square norms of a bunch of points?\n",
    "points = np.array([[1., 0., 0.], [np.sqrt(3), 1., 1.]])\n",
    "print(4, minkowski_sqnorm(points))\n",
    "\n",
    "# Test the distance function\n",
    "points = np.array([[1., 0., 0.], [np.sqrt(3), 1., 1.]])\n",
    "dists = get_dists_from_point(points)\n",
    "print(5, dists)\n",
    "\n",
    "# Test rescale function as well\n",
    "points_rescaled = rescale_curvature(points, 10)\n",
    "print(6, points_rescaled, minkowski_sqnorm(points_rescaled))"
   ]
  },
  {
   "cell_type": "code",
   "execution_count": 11,
   "metadata": {},
   "outputs": [],
   "source": [
    "NDIM = 2\n",
    "NPOINTS = 10_000"
   ]
  },
  {
   "cell_type": "code",
   "execution_count": 41,
   "metadata": {},
   "outputs": [
    {
     "data": {
      "image/png": "[encoded data removed]",
      "text/plain": [
       "<Figure size 1000x500 with 2 Axes>"
      ]
     },
     "metadata": {},
     "output_type": "display_data"
    }
   ],
   "source": [
    "# Distances from origin to exp-map of tangent normals\n",
    "\n",
    "# Define manifold\n",
    "manifold = Hyperboloid(dim=NDIM)\n",
    "\n",
    "# Get a sample of normally distributed points\n",
    "X_euc = np.random.standard_normal((NPOINTS, NDIM))\n",
    "\n",
    "# Compute stats\n",
    "euc_norms = np.linalg.norm(X_euc, axis=1)\n",
    "euc_dotprods = np.sum(X_euc[:, None, :] * X_euc[None, :, :], axis=2).flatten()\n",
    "\n",
    "# Plot some stuff about the points\n",
    "fig, axs = plt.subplots(1, 2, figsize=(10, 5))\n",
    "axs[0].hist(euc_norms, bins=50)\n",
    "axs[0].set_title(\"Norms of points\")\n",
    "\n",
    "# Pairwise Euclidean inner products\n",
    "axs[1].hist(euc_dotprods, bins=50)\n",
    "axs[1].set_title(\"Pairwise Euclidean inner products\")\n",
    "\n",
    "plt.tight_layout()\n",
    "plt.show()"
   ]
  },
  {
   "cell_type": "code",
   "execution_count": 42,
   "metadata": {},
   "outputs": [],
   "source": [
    "# Start projecting onto the manifold\n",
    "\n",
    "# Recall: we don't expect the exp map to be inner product preserving\n",
    "# Rather, we expect that d(exp(u), mu) = ||u||_L\n",
    "\n",
    "# Transform points to tangent plane by prepending a 1\n",
    "X_tan = np.concatenate([np.ones((X_euc.shape[0], 1)), X_euc], axis=1)\n",
    "\n",
    "tan_norms = np.linalg.norm(X_tan, axis=1)\n",
    "tan_dotprods = np.sum(X_tan[:, None, :] * X_tan[None, :, :], axis=2).flatten()\n",
    "\n",
    "# Norms are off by a factor of 1\n",
    "assert np.allclose(euc_norms, np.sqrt(tan_norms**2 - 1))\n",
    "\n",
    "# Dot products are also off by a factor of 1\n",
    "assert np.allclose(euc_dotprods, tan_dotprods - 1)"
   ]
  },
  {
   "cell_type": "code",
   "execution_count": 43,
   "metadata": {},
   "outputs": [],
   "source": [
    "# What about the Minkowski norms and inner products?\n",
    "\n",
    "tan_mnorms = minkowski_sqnorm(X_tan)\n",
    "tan_mdotprods = (\n",
    "    np.sum(X_tan[:, None, 1:] * X_tan[None, :, 1:], axis=2) - X_tan[:, None, 0] * X_tan[None, :, 0]\n",
    ").flatten()\n",
    "\n",
    "# Minkowski norms are off by a factor of 1, but in the opposite direction\n",
    "assert np.allclose(euc_norms, np.sqrt(tan_mnorms + 1))\n",
    "\n",
    "# Minkowski inner products are off by a factor of 1, but in the opposite direction\n",
    "assert np.allclose(euc_dotprods, tan_mdotprods + 1)\n",
    "\n",
    "# Verify that X_tan lies in the tangent plane\n",
    "# In our case, the tangent plane has the equation x_0 = 1\n",
    "assert np.allclose(X_tan[:, 0], 1)"
   ]
  },
  {
   "cell_type": "code",
   "execution_count": 44,
   "metadata": {},
   "outputs": [],
   "source": [
    "def my_expmap(points, mu):\n",
    "    \"\"\"z = exp_mu(u) = cosh(||u||_L)mu + sinh(||u||_L)u/||u||_L\"\"\"\n",
    "    # Compute the norm of the points\n",
    "    norms = minkowski_sqnorm(points)        # shouldn't there be a sqrt?\n",
    "    \n",
    "    # Compute the exp map\n",
    "    z = np.cosh(norms)[:, None] * mu[None, :] + np.sinh(norms)[:, None] * points / norms[:, None]\n",
    "    \n",
    "    return z"
   ]
  },
  {
   "cell_type": "code",
   "execution_count": 47,
   "metadata": {},
   "outputs": [
    {
     "ename": "AssertionError",
     "evalue": "Points are not on the same hyperboloid",
     "output_type": "error",
     "traceback": [
      "\u001b[0;31m---------------------------------------------------------------------------\u001b[0m",
      "\u001b[0;31mAssertionError\u001b[0m                            Traceback (most recent call last)",
      "Cell \u001b[0;32mIn[47], line 9\u001b[0m\n\u001b[1;32m      7\u001b[0m \u001b[38;5;66;03m# Compute stats\u001b[39;00m\n\u001b[1;32m      8\u001b[0m exp_norms \u001b[38;5;241m=\u001b[39m minkowski_sqnorm(X_exp)\n\u001b[0;32m----> 9\u001b[0m exp_dists \u001b[38;5;241m=\u001b[39m get_dists_from_point(X_exp)\n",
      "Cell \u001b[0;32mIn[2], line 21\u001b[0m, in \u001b[0;36mget_dists_from_point\u001b[0;34m(points, mu, K)\u001b[0m\n\u001b[1;32m     19\u001b[0m \u001b[38;5;28;01mif\u001b[39;00m K \u001b[38;5;129;01mis\u001b[39;00m \u001b[38;5;28;01mNone\u001b[39;00m:\n\u001b[1;32m     20\u001b[0m     sqnorms \u001b[38;5;241m=\u001b[39m minkowski_sqnorm(points)\n\u001b[0;32m---> 21\u001b[0m     \u001b[38;5;28;01massert\u001b[39;00m np\u001b[38;5;241m.\u001b[39mallclose(sqnorms, sqnorms\u001b[38;5;241m.\u001b[39mmean()), \u001b[38;5;124m\"\u001b[39m\u001b[38;5;124mPoints are not on the same hyperboloid\u001b[39m\u001b[38;5;124m\"\u001b[39m\n\u001b[1;32m     22\u001b[0m     K \u001b[38;5;241m=\u001b[39m \u001b[38;5;241m-\u001b[39m\u001b[38;5;241m1\u001b[39m\u001b[38;5;241m/\u001b[39msqnorms\u001b[38;5;241m.\u001b[39mmean()\n\u001b[1;32m     24\u001b[0m \u001b[38;5;28;01mif\u001b[39;00m K \u001b[38;5;241m<\u001b[39m \u001b[38;5;241m0\u001b[39m:\n",
      "\u001b[0;31mAssertionError\u001b[0m: Points are not on the same hyperboloid"
     ]
    }
   ],
   "source": [
    "# Finally we can take expmap\n",
    "mu = np.zeros(NDIM+1)\n",
    "mu[0] = 1.\n",
    "# X_exp = manifold.metric.exp(X_tan, base_point=mu)\n",
    "X_exp = my_expmap(X_tan, mu)\n",
    "\n",
    "# Compute stats\n",
    "exp_norms = minkowski_sqnorm(X_exp)\n",
    "exp_dists = get_dists_from_point(X_exp)\n",
    "# exp_dists = manifold.metric.dist(X_exp, mu)\n",
    "\n",
    "assert np.allclose(exp_norms, -1)\n",
    "assert np.allclose(tan_mnorms**0.5, exp_dists)"
   ]
  },
  {
   "cell_type": "code",
   "execution_count": 99,
   "metadata": {},
   "outputs": [
    {
     "data": {
      "text/plain": [
       "array([-10.49883307, -20.59652488, -16.54574397, ..., -34.14107741,\n",
       "        -8.51672905, -18.83942632])"
      ]
     },
     "execution_count": 99,
     "metadata": {},
     "output_type": "execute_result"
    }
   ],
   "source": [
    "minkowski_sqnorm(X_exp)"
   ]
  },
  {
   "cell_type": "code",
   "execution_count": 83,
   "metadata": {},
   "outputs": [
    {
     "name": "stderr",
     "output_type": "stream",
     "text": [
      "/tmp/ipykernel_1413334/4160836742.py:1: RuntimeWarning: invalid value encountered in sqrt\n",
      "  plt.hist(tan_mnorms**0.5, bins=50)\n"
     ]
    },
    {
     "data": {
      "image/png": "[encoded data removed]",
      "text/plain": [
       "<Figure size 640x480 with 1 Axes>"
      ]
     },
     "metadata": {},
     "output_type": "display_data"
    }
   ],
   "source": [
    "plt.hist(tan_mnorms**0.5, bins=50)\n",
    "plt.show()"
   ]
  },
  {
   "cell_type": "code",
   "execution_count": 84,
   "metadata": {},
   "outputs": [
    {
     "data": {
      "image/png": "[encoded data removed]",
      "text/plain": [
       "<Figure size 640x480 with 1 Axes>"
      ]
     },
     "metadata": {},
     "output_type": "display_data"
    }
   ],
   "source": [
    "plt.hist(exp_dists, bins=50)\n",
    "plt.show()"
   ]
  },
  {
   "cell_type": "code",
   "execution_count": null,
   "metadata": {},
   "outputs": [],
   "source": []
  }
 ],
 "metadata": {
  "kernelspec": {
   "display_name": "Python 3",
   "language": "python",
   "name": "python3"
  },
  "language_info": {
   "codemirror_mode": {
    "name": "ipython",
    "version": 3
   },
   "file_extension": ".py",
   "mimetype": "text/x-python",
   "name": "python",
   "nbconvert_exporter": "python",
   "pygments_lexer": "ipython3",
   "version": "3.11.7"
  },
  "orig_nbformat": 4,
  "vscode": {
   "interpreter": {
    "hash": "31f2aee4e71d21fbe5cf8b01ff0e069b9275f58929596ceb00d14d90e3e16cd6"
   }
  }
 },
 "nbformat": 4,
 "nbformat_minor": 2
}
