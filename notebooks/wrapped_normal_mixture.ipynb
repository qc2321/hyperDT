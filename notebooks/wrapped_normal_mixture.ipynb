{
 "cells": [
  {
   "cell_type": "markdown",
   "metadata": {},
   "source": [
    "## Wrapped normal mixture for all curvatures"
   ]
  },
  {
   "cell_type": "code",
   "execution_count": 104,
   "metadata": {},
   "outputs": [
    {
     "name": "stdout",
     "output_type": "stream",
     "text": [
      "The autoreload extension is already loaded. To reload it, use:\n",
      "  %reload_ext autoreload\n"
     ]
    }
   ],
   "source": [
    "%load_ext autoreload\n",
    "%autoreload 2"
   ]
  },
  {
   "cell_type": "code",
   "execution_count": 105,
   "metadata": {},
   "outputs": [],
   "source": [
    "import numpy as np\n",
    "from hyperdt.wrapped_normal_all_curvature import WrappedNormalMixture"
   ]
  },
  {
   "cell_type": "code",
   "execution_count": 107,
   "metadata": {},
   "outputs": [],
   "source": [
    "hyp = WrappedNormalMixture(num_points=1000, num_classes=5, n_dim=2, curvature=-0.5, seed=0)\n",
    "X, X_means = hyp.generate_data()\n",
    "assert np.allclose(hyp.manifold.metric.squared_norm(X), 1 / hyp.curvature)"
   ]
  },
  {
   "cell_type": "code",
   "execution_count": 113,
   "metadata": {},
   "outputs": [],
   "source": [
    "sph = WrappedNormalMixture(num_points=1000, num_classes=5, n_dim=2, curvature=0.5, seed=0)\n",
    "X, X_means = sph.generate_data()\n",
    "assert np.allclose(sph.manifold.metric.squared_norm(X), 1 / sph.curvature)"
   ]
  },
  {
   "cell_type": "code",
   "execution_count": 115,
   "metadata": {},
   "outputs": [],
   "source": [
    "euc = WrappedNormalMixture(num_points=1000, num_classes=5, n_dim=2, curvature=0., seed=0)\n",
    "X, X_means = euc.generate_data()"
   ]
  },
  {
   "cell_type": "code",
   "execution_count": null,
   "metadata": {},
   "outputs": [],
   "source": []
  }
 ],
 "metadata": {
  "kernelspec": {
   "display_name": "hyperDT",
   "language": "python",
   "name": "python3"
  },
  "language_info": {
   "codemirror_mode": {
    "name": "ipython",
    "version": 3
   },
   "file_extension": ".py",
   "mimetype": "text/x-python",
   "name": "python",
   "nbconvert_exporter": "python",
   "pygments_lexer": "ipython3",
   "version": "3.11.7"
  }
 },
 "nbformat": 4,
 "nbformat_minor": 2
}
