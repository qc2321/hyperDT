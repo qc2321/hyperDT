{
 "cells": [
  {
   "cell_type": "markdown",
   "metadata": {},
   "source": [
    "## Linear classifier benchmarking"
   ]
  },
  {
   "cell_type": "code",
   "execution_count": 1,
   "metadata": {},
   "outputs": [],
   "source": [
    "%load_ext autoreload\n",
    "%autoreload 2"
   ]
  },
  {
   "cell_type": "code",
   "execution_count": 2,
   "metadata": {},
   "outputs": [
    {
     "name": "stderr",
     "output_type": "stream",
     "text": [
      "INFO: Using numpy backend\n"
     ]
    }
   ],
   "source": [
    "import numpy as np\n",
    "import pandas as pd\n",
    "import scipy.stats as stats\n",
    "import hyperdt.benchmarking as benchmarking\n",
    "from hyperdt.product_space_DT import ProductSpace\n",
    "from hyperdt.product_space_perceptron import mix_curv_perceptron\n",
    "from hyperdt.product_space_svm import mix_curv_svm"
   ]
  },
  {
   "cell_type": "markdown",
   "metadata": {},
   "source": [
    "### Product space perceptron and SVM "
   ]
  },
  {
   "cell_type": "code",
   "execution_count": 3,
   "metadata": {},
   "outputs": [],
   "source": [
    "# Generate data\n",
    "sig = [(5, -1.), (4, 0.), (3, 1.)]\n",
    "ps = ProductSpace(sig, seed=0)\n",
    "ps.sample_clusters(1000, 4, cov_scale=0.3)\n",
    "ps.split_data()"
   ]
  },
  {
   "cell_type": "code",
   "execution_count": 4,
   "metadata": {},
   "outputs": [],
   "source": [
    "mix_component = benchmarking.sig_to_mix_component(sig)\n",
    "embed_data = benchmarking.make_embed_data(ps.X, ps.X_train, ps.X_test, ps.y_train, ps.y_test, sig)"
   ]
  },
  {
   "cell_type": "code",
   "execution_count": 5,
   "metadata": {},
   "outputs": [
    {
     "name": "stdout",
     "output_type": "stream",
     "text": [
      "F1 score: 0.03625502111442991 total number of testing samples: 200\n"
     ]
    }
   ],
   "source": [
    "# Fit product space perceptron\n",
    "ps_perc = mix_curv_perceptron(mix_component, embed_data, multiclass=True, max_round=100, max_update=1000)\n",
    "ps_perc_score = ps_perc.process_data()"
   ]
  },
  {
   "cell_type": "code",
   "execution_count": 6,
   "metadata": {},
   "outputs": [
    {
     "name": "stdout",
     "output_type": "stream",
     "text": [
      "Mix curv SVM F1 score: 0.12962962962962962\n"
     ]
    }
   ],
   "source": [
    "# Fit product space SVM\n",
    "ps_svm = mix_curv_svm(mix_component, embed_data)\n",
    "ps_svm_score = ps_svm.process_data()"
   ]
  },
  {
   "cell_type": "markdown",
   "metadata": {},
   "source": [
    "### Benchmarking for HyperDT/RF, sklearn DT/RF, perceptron and SVM"
   ]
  },
  {
   "cell_type": "code",
   "execution_count": 7,
   "metadata": {},
   "outputs": [],
   "source": [
    "NUM_POINTS = 1000\n",
    "NUM_CLASSES = 4\n",
    "signatures = [\n",
    "    [(5, -1), (5, -1)],\n",
    "    [(5, 1), (5, 1)],\n",
    "    [(5, -1), (5, 1)],\n",
    "    [(2, -1), (2, -1), (2, -1), (2, -1), (2, -1)],\n",
    "    [(2, 1), (2, 1), (2, 1), (2, 1), (2, 1)],\n",
    "    [(2, -1), (2, -1), (2, 0), (2, 1), (2, 1)]\n",
    "]"
   ]
  },
  {
   "cell_type": "code",
   "execution_count": 8,
   "metadata": {},
   "outputs": [
    {
     "name": "stderr",
     "output_type": "stream",
     "text": [
      "  0%|          | 0/60 [00:00<?, ?it/s]"
     ]
    },
    {
     "name": "stdout",
     "output_type": "stream",
     "text": [
      "F1 score: 0.36758528150266756 total number of testing samples: 200\n"
     ]
    },
    {
     "name": "stderr",
     "output_type": "stream",
     "text": [
      "  2%|▏         | 1/60 [00:08<08:27,  8.60s/it]"
     ]
    },
    {
     "name": "stdout",
     "output_type": "stream",
     "text": [
      "Mix curv SVM F1 score: 0.045454545454545456\n",
      "F1 score: 0.1540133779264214 total number of testing samples: 200\n"
     ]
    },
    {
     "name": "stderr",
     "output_type": "stream",
     "text": [
      "  3%|▎         | 2/60 [00:23<11:48, 12.22s/it]"
     ]
    },
    {
     "name": "stdout",
     "output_type": "stream",
     "text": [
      "Mix curv SVM F1 score: 0.08158995815899582\n",
      "F1 score: 0.5695754146718893 total number of testing samples: 200\n"
     ]
    },
    {
     "name": "stderr",
     "output_type": "stream",
     "text": [
      "  5%|▌         | 3/60 [00:35<11:39, 12.27s/it]"
     ]
    },
    {
     "name": "stdout",
     "output_type": "stream",
     "text": [
      "Mix curv SVM F1 score: 0.13503649635036497\n",
      "F1 score: 0.3881508816940088 total number of testing samples: 200\n"
     ]
    },
    {
     "name": "stderr",
     "output_type": "stream",
     "text": [
      "  7%|▋         | 4/60 [00:48<11:38, 12.48s/it]"
     ]
    },
    {
     "name": "stdout",
     "output_type": "stream",
     "text": [
      "Mix curv SVM F1 score: 0.07264957264957266\n",
      "F1 score: 0.5028249035463241 total number of testing samples: 200\n"
     ]
    },
    {
     "name": "stderr",
     "output_type": "stream",
     "text": [
      "  8%|▊         | 5/60 [01:09<14:16, 15.57s/it]"
     ]
    },
    {
     "name": "stdout",
     "output_type": "stream",
     "text": [
      "Mix curv SVM F1 score: 0.07264957264957266\n",
      "F1 score: 0.2559200193306754 total number of testing samples: 200\n"
     ]
    },
    {
     "name": "stderr",
     "output_type": "stream",
     "text": [
      " 10%|█         | 6/60 [01:21<12:46, 14.20s/it]"
     ]
    },
    {
     "name": "stdout",
     "output_type": "stream",
     "text": [
      "Mix curv SVM F1 score: 0.09839357429718876\n",
      "F1 score: 0.18773523685918236 total number of testing samples: 200\n"
     ]
    },
    {
     "name": "stderr",
     "output_type": "stream",
     "text": [
      " 12%|█▏        | 7/60 [01:32<11:42, 13.25s/it]"
     ]
    },
    {
     "name": "stdout",
     "output_type": "stream",
     "text": [
      "Mix curv SVM F1 score: 0.07302904564315352\n",
      "F1 score: 0.2644074675324675 total number of testing samples: 200\n"
     ]
    },
    {
     "name": "stderr",
     "output_type": "stream",
     "text": [
      " 13%|█▎        | 8/60 [01:43<11:00, 12.71s/it]"
     ]
    },
    {
     "name": "stdout",
     "output_type": "stream",
     "text": [
      "Mix curv SVM F1 score: 0.0967741935483871\n",
      "F1 score: 0.2684218041231452 total number of testing samples: 200\n"
     ]
    },
    {
     "name": "stderr",
     "output_type": "stream",
     "text": [
      " 15%|█▌        | 9/60 [01:55<10:37, 12.49s/it]"
     ]
    },
    {
     "name": "stdout",
     "output_type": "stream",
     "text": [
      "Mix curv SVM F1 score: 0.1124031007751938\n",
      "F1 score: 0.2344275191303726 total number of testing samples: 200\n"
     ]
    },
    {
     "name": "stderr",
     "output_type": "stream",
     "text": [
      " 17%|█▋        | 10/60 [02:08<10:25, 12.52s/it]"
     ]
    },
    {
     "name": "stdout",
     "output_type": "stream",
     "text": [
      "Mix curv SVM F1 score: 0.1183206106870229\n",
      "F1 score: 0.15204005638747772 total number of testing samples: 200\n"
     ]
    },
    {
     "name": "stderr",
     "output_type": "stream",
     "text": [
      " 18%|█▊        | 11/60 [02:22<10:36, 12.99s/it]"
     ]
    },
    {
     "name": "stdout",
     "output_type": "stream",
     "text": [
      "Mix curv SVM F1 score: 0.045454545454545456\n",
      "F1 score: 0.1890918902251002 total number of testing samples: 200\n"
     ]
    },
    {
     "name": "stderr",
     "output_type": "stream",
     "text": [
      " 20%|██        | 12/60 [02:36<10:40, 13.35s/it]"
     ]
    },
    {
     "name": "stdout",
     "output_type": "stream",
     "text": [
      "Mix curv SVM F1 score: 0.08158995815899582\n",
      "F1 score: 0.14198086834534568 total number of testing samples: 200\n"
     ]
    },
    {
     "name": "stderr",
     "output_type": "stream",
     "text": [
      " 22%|██▏       | 13/60 [02:54<11:27, 14.64s/it]"
     ]
    },
    {
     "name": "stdout",
     "output_type": "stream",
     "text": [
      "Mix curv SVM F1 score: 0.13503649635036497\n",
      "F1 score: 0.20768219270127664 total number of testing samples: 200\n"
     ]
    },
    {
     "name": "stderr",
     "output_type": "stream",
     "text": [
      " 23%|██▎       | 14/60 [03:09<11:25, 14.89s/it]"
     ]
    },
    {
     "name": "stdout",
     "output_type": "stream",
     "text": [
      "Mix curv SVM F1 score: 0.07264957264957266\n",
      "F1 score: 0.21975161433727403 total number of testing samples: 200\n"
     ]
    },
    {
     "name": "stderr",
     "output_type": "stream",
     "text": [
      " 25%|██▌       | 15/60 [03:24<11:02, 14.72s/it]"
     ]
    },
    {
     "name": "stdout",
     "output_type": "stream",
     "text": [
      "Mix curv SVM F1 score: 0.07264957264957266\n",
      "F1 score: 0.14279537176272733 total number of testing samples: 200\n"
     ]
    },
    {
     "name": "stderr",
     "output_type": "stream",
     "text": [
      " 27%|██▋       | 16/60 [03:38<10:46, 14.70s/it]"
     ]
    },
    {
     "name": "stdout",
     "output_type": "stream",
     "text": [
      "Mix curv SVM F1 score: 0.09839357429718876\n",
      "F1 score: 0.09764492753623188 total number of testing samples: 200\n"
     ]
    },
    {
     "name": "stderr",
     "output_type": "stream",
     "text": [
      " 28%|██▊       | 17/60 [03:53<10:33, 14.74s/it]"
     ]
    },
    {
     "name": "stdout",
     "output_type": "stream",
     "text": [
      "Mix curv SVM F1 score: 0.09349593495934959\n",
      "F1 score: 0.29687578528882164 total number of testing samples: 200\n"
     ]
    },
    {
     "name": "stderr",
     "output_type": "stream",
     "text": [
      " 30%|███       | 18/60 [04:09<10:38, 15.19s/it]"
     ]
    },
    {
     "name": "stdout",
     "output_type": "stream",
     "text": [
      "Mix curv SVM F1 score: 0.0967741935483871\n",
      "F1 score: 0.3785282750799992 total number of testing samples: 200\n"
     ]
    },
    {
     "name": "stderr",
     "output_type": "stream",
     "text": [
      " 32%|███▏      | 19/60 [04:26<10:44, 15.72s/it]"
     ]
    },
    {
     "name": "stdout",
     "output_type": "stream",
     "text": [
      "Mix curv SVM F1 score: 0.1124031007751938\n",
      "F1 score: 0.14438236465434443 total number of testing samples: 200\n"
     ]
    },
    {
     "name": "stderr",
     "output_type": "stream",
     "text": [
      " 33%|███▎      | 20/60 [04:41<10:14, 15.37s/it]"
     ]
    },
    {
     "name": "stdout",
     "output_type": "stream",
     "text": [
      "Mix curv SVM F1 score: 0.1183206106870229\n",
      "F1 score: 0.23985645683265477 total number of testing samples: 200\n"
     ]
    },
    {
     "name": "stderr",
     "output_type": "stream",
     "text": [
      " 35%|███▌      | 21/60 [04:51<09:03, 13.93s/it]"
     ]
    },
    {
     "name": "stdout",
     "output_type": "stream",
     "text": [
      "Mix curv SVM F1 score: 0.045454545454545456\n",
      "F1 score: 0.2832761773608973 total number of testing samples: 200\n"
     ]
    },
    {
     "name": "stderr",
     "output_type": "stream",
     "text": [
      " 37%|███▋      | 22/60 [05:03<08:27, 13.35s/it]"
     ]
    },
    {
     "name": "stdout",
     "output_type": "stream",
     "text": [
      "Mix curv SVM F1 score: 0.08158995815899582\n",
      "F1 score: 0.23035775278667095 total number of testing samples: 200\n"
     ]
    },
    {
     "name": "stderr",
     "output_type": "stream",
     "text": [
      " 38%|███▊      | 23/60 [05:18<08:23, 13.60s/it]"
     ]
    },
    {
     "name": "stdout",
     "output_type": "stream",
     "text": [
      "Mix curv SVM F1 score: 0.13503649635036497\n",
      "F1 score: 0.26529605263157896 total number of testing samples: 200\n"
     ]
    },
    {
     "name": "stderr",
     "output_type": "stream",
     "text": [
      " 40%|████      | 24/60 [05:31<08:06, 13.51s/it]"
     ]
    },
    {
     "name": "stdout",
     "output_type": "stream",
     "text": [
      "Mix curv SVM F1 score: 0.07264957264957266\n",
      "F1 score: 0.17105998896219082 total number of testing samples: 200\n"
     ]
    },
    {
     "name": "stderr",
     "output_type": "stream",
     "text": [
      " 42%|████▏     | 25/60 [05:43<07:34, 13.00s/it]"
     ]
    },
    {
     "name": "stdout",
     "output_type": "stream",
     "text": [
      "Mix curv SVM F1 score: 0.07264957264957266\n",
      "F1 score: 0.15233985100120856 total number of testing samples: 200\n"
     ]
    },
    {
     "name": "stderr",
     "output_type": "stream",
     "text": [
      " 43%|████▎     | 26/60 [05:56<07:25, 13.11s/it]"
     ]
    },
    {
     "name": "stdout",
     "output_type": "stream",
     "text": [
      "Mix curv SVM F1 score: 0.09839357429718876\n",
      "F1 score: 0.31006603194103194 total number of testing samples: 200\n"
     ]
    },
    {
     "name": "stderr",
     "output_type": "stream",
     "text": [
      " 45%|████▌     | 27/60 [06:09<07:06, 12.92s/it]"
     ]
    },
    {
     "name": "stdout",
     "output_type": "stream",
     "text": [
      "Mix curv SVM F1 score: 0.09349593495934959\n",
      "F1 score: 0.236718650957696 total number of testing samples: 200\n"
     ]
    },
    {
     "name": "stderr",
     "output_type": "stream",
     "text": [
      " 47%|████▋     | 28/60 [06:20<06:42, 12.59s/it]"
     ]
    },
    {
     "name": "stdout",
     "output_type": "stream",
     "text": [
      "Mix curv SVM F1 score: 0.0967741935483871\n",
      "F1 score: 0.29467000016552347 total number of testing samples: 200\n"
     ]
    },
    {
     "name": "stderr",
     "output_type": "stream",
     "text": [
      " 48%|████▊     | 29/60 [06:33<06:30, 12.59s/it]"
     ]
    },
    {
     "name": "stdout",
     "output_type": "stream",
     "text": [
      "Mix curv SVM F1 score: 0.1124031007751938\n",
      "F1 score: 0.2779684657282707 total number of testing samples: 200\n"
     ]
    },
    {
     "name": "stderr",
     "output_type": "stream",
     "text": [
      " 50%|█████     | 30/60 [06:46<06:22, 12.76s/it]"
     ]
    },
    {
     "name": "stdout",
     "output_type": "stream",
     "text": [
      "Mix curv SVM F1 score: 0.1183206106870229\n",
      "F1 score: 0.14412811387900357 total number of testing samples: 200\n"
     ]
    },
    {
     "name": "stderr",
     "output_type": "stream",
     "text": [
      " 52%|█████▏    | 31/60 [07:01<06:30, 13.45s/it]"
     ]
    },
    {
     "name": "stdout",
     "output_type": "stream",
     "text": [
      "Mix curv SVM F1 score: 0.0365296803652968\n",
      "F1 score: 0.02540094113127821 total number of testing samples: 200\n"
     ]
    },
    {
     "name": "stderr",
     "output_type": "stream",
     "text": [
      " 53%|█████▎    | 32/60 [07:14<06:08, 13.14s/it]"
     ]
    },
    {
     "name": "stdout",
     "output_type": "stream",
     "text": [
      "Mix curv SVM F1 score: 0.08158995815899582\n",
      "F1 score: 0.09349593495934959 total number of testing samples: 200\n"
     ]
    },
    {
     "name": "stderr",
     "output_type": "stream",
     "text": [
      " 55%|█████▌    | 33/60 [07:28<06:03, 13.45s/it]"
     ]
    },
    {
     "name": "stdout",
     "output_type": "stream",
     "text": [
      "Mix curv SVM F1 score: 0.13503649635036497\n",
      "F1 score: 0.24373087385243114 total number of testing samples: 200\n"
     ]
    },
    {
     "name": "stderr",
     "output_type": "stream",
     "text": [
      " 57%|█████▋    | 34/60 [07:41<05:50, 13.50s/it]"
     ]
    },
    {
     "name": "stdout",
     "output_type": "stream",
     "text": [
      "Mix curv SVM F1 score: 0.07264957264957266\n",
      "F1 score: 0.19198071866783523 total number of testing samples: 200\n"
     ]
    },
    {
     "name": "stderr",
     "output_type": "stream",
     "text": [
      " 58%|█████▊    | 35/60 [07:57<05:54, 14.18s/it]"
     ]
    },
    {
     "name": "stdout",
     "output_type": "stream",
     "text": [
      "Mix curv SVM F1 score: 0.07264957264957266\n",
      "F1 score: 0.30901413982717985 total number of testing samples: 200\n"
     ]
    },
    {
     "name": "stderr",
     "output_type": "stream",
     "text": [
      " 60%|██████    | 36/60 [08:13<05:50, 14.62s/it]"
     ]
    },
    {
     "name": "stdout",
     "output_type": "stream",
     "text": [
      "Mix curv SVM F1 score: 0.09839357429718876\n",
      "F1 score: 0.11169590643274854 total number of testing samples: 200\n"
     ]
    },
    {
     "name": "stderr",
     "output_type": "stream",
     "text": [
      " 62%|██████▏   | 37/60 [08:26<05:29, 14.33s/it]"
     ]
    },
    {
     "name": "stdout",
     "output_type": "stream",
     "text": [
      "Mix curv SVM F1 score: 0.09349593495934959\n",
      "F1 score: 0.18000000000000002 total number of testing samples: 200\n"
     ]
    },
    {
     "name": "stderr",
     "output_type": "stream",
     "text": [
      " 63%|██████▎   | 38/60 [08:42<05:20, 14.57s/it]"
     ]
    },
    {
     "name": "stdout",
     "output_type": "stream",
     "text": [
      "Mix curv SVM F1 score: 0.0967741935483871\n",
      "F1 score: 0.28103756708407873 total number of testing samples: 200\n"
     ]
    },
    {
     "name": "stderr",
     "output_type": "stream",
     "text": [
      " 65%|██████▌   | 39/60 [08:56<05:06, 14.62s/it]"
     ]
    },
    {
     "name": "stdout",
     "output_type": "stream",
     "text": [
      "Mix curv SVM F1 score: 0.1124031007751938\n",
      "F1 score: 0.15775016350555918 total number of testing samples: 200\n"
     ]
    },
    {
     "name": "stderr",
     "output_type": "stream",
     "text": [
      " 67%|██████▋   | 40/60 [09:11<04:54, 14.73s/it]"
     ]
    },
    {
     "name": "stdout",
     "output_type": "stream",
     "text": [
      "Mix curv SVM F1 score: 0.1183206106870229\n",
      "F1 score: 0.22045093583592704 total number of testing samples: 200\n"
     ]
    },
    {
     "name": "stderr",
     "output_type": "stream",
     "text": [
      " 68%|██████▊   | 41/60 [31:32<2:10:35, 412.39s/it]"
     ]
    },
    {
     "name": "stdout",
     "output_type": "stream",
     "text": [
      "Mix curv SVM F1 score: 0.045454545454545456\n",
      "F1 score: 0.21831797836758002 total number of testing samples: 200\n"
     ]
    },
    {
     "name": "stderr",
     "output_type": "stream",
     "text": [
      " 70%|███████   | 42/60 [42:24<2:25:20, 484.49s/it]"
     ]
    },
    {
     "name": "stdout",
     "output_type": "stream",
     "text": [
      "Mix curv SVM F1 score: 0.08158995815899582\n",
      "F1 score: 0.1744935090479937 total number of testing samples: 200\n"
     ]
    },
    {
     "name": "stderr",
     "output_type": "stream",
     "text": [
      " 72%|███████▏  | 43/60 [49:22<2:11:36, 464.48s/it]"
     ]
    },
    {
     "name": "stdout",
     "output_type": "stream",
     "text": [
      "Mix curv SVM F1 score: 0.13503649635036497\n",
      "F1 score: 0.19499299719887958 total number of testing samples: 200\n"
     ]
    },
    {
     "name": "stderr",
     "output_type": "stream",
     "text": [
      " 73%|███████▎  | 44/60 [1:05:31<2:44:13, 615.86s/it]"
     ]
    },
    {
     "name": "stdout",
     "output_type": "stream",
     "text": [
      "Mix curv SVM F1 score: 0.07264957264957266\n",
      "F1 score: 0.18561740897806472 total number of testing samples: 200\n"
     ]
    },
    {
     "name": "stderr",
     "output_type": "stream",
     "text": [
      " 75%|███████▌  | 45/60 [1:30:42<3:41:03, 884.23s/it]"
     ]
    },
    {
     "name": "stdout",
     "output_type": "stream",
     "text": [
      "Mix curv SVM F1 score: 0.07264957264957266\n",
      "F1 score: 0.2010531952801029 total number of testing samples: 200\n"
     ]
    },
    {
     "name": "stderr",
     "output_type": "stream",
     "text": [
      " 77%|███████▋  | 46/60 [1:31:26<2:27:32, 632.31s/it]"
     ]
    },
    {
     "name": "stdout",
     "output_type": "stream",
     "text": [
      "Mix curv SVM F1 score: 0.09839357429718876\n",
      "F1 score: 0.24615360409752932 total number of testing samples: 200\n"
     ]
    },
    {
     "name": "stderr",
     "output_type": "stream",
     "text": [
      " 78%|███████▊  | 47/60 [1:31:58<1:37:57, 452.15s/it]"
     ]
    },
    {
     "name": "stdout",
     "output_type": "stream",
     "text": [
      "Mix curv SVM F1 score: 0.09349593495934959\n",
      "F1 score: 0.14272409249920495 total number of testing samples: 200\n"
     ]
    },
    {
     "name": "stderr",
     "output_type": "stream",
     "text": [
      " 80%|████████  | 48/60 [1:32:24<1:04:53, 324.44s/it]"
     ]
    },
    {
     "name": "stdout",
     "output_type": "stream",
     "text": [
      "Mix curv SVM F1 score: 0.0967741935483871\n",
      "F1 score: 0.22782051282051283 total number of testing samples: 200\n"
     ]
    },
    {
     "name": "stderr",
     "output_type": "stream",
     "text": [
      " 82%|████████▏ | 49/60 [1:32:52<43:10, 235.50s/it]  "
     ]
    },
    {
     "name": "stdout",
     "output_type": "stream",
     "text": [
      "Mix curv SVM F1 score: 0.1124031007751938\n",
      "F1 score: 0.16019776447405149 total number of testing samples: 200\n"
     ]
    },
    {
     "name": "stderr",
     "output_type": "stream",
     "text": [
      " 83%|████████▎ | 50/60 [1:33:24<29:03, 174.38s/it]"
     ]
    },
    {
     "name": "stdout",
     "output_type": "stream",
     "text": [
      "Mix curv SVM F1 score: 0.1183206106870229\n",
      "F1 score: 0.13689024390243903 total number of testing samples: 200\n"
     ]
    },
    {
     "name": "stderr",
     "output_type": "stream",
     "text": [
      " 85%|████████▌ | 51/60 [1:33:45<19:14, 128.23s/it]"
     ]
    },
    {
     "name": "stdout",
     "output_type": "stream",
     "text": [
      "Mix curv SVM F1 score: 0.037209302325581395\n",
      "F1 score: 0.48129940235203394 total number of testing samples: 200\n"
     ]
    },
    {
     "name": "stderr",
     "output_type": "stream",
     "text": [
      " 87%|████████▋ | 52/60 [1:34:02<12:40, 95.05s/it] "
     ]
    },
    {
     "name": "stdout",
     "output_type": "stream",
     "text": [
      "Mix curv SVM F1 score: 0.08158995815899582\n",
      "F1 score: 0.31294161232296447 total number of testing samples: 200\n"
     ]
    },
    {
     "name": "stderr",
     "output_type": "stream",
     "text": [
      " 88%|████████▊ | 53/60 [1:34:25<08:32, 73.26s/it]"
     ]
    },
    {
     "name": "stdout",
     "output_type": "stream",
     "text": [
      "Mix curv SVM F1 score: 0.13503649635036497\n",
      "F1 score: 0.1950581395348837 total number of testing samples: 200\n"
     ]
    },
    {
     "name": "stderr",
     "output_type": "stream",
     "text": [
      " 90%|█████████ | 54/60 [1:34:45<05:44, 57.49s/it]"
     ]
    },
    {
     "name": "stdout",
     "output_type": "stream",
     "text": [
      "Mix curv SVM F1 score: 0.059130434782608696\n",
      "F1 score: 0.08752899476139592 total number of testing samples: 200\n"
     ]
    },
    {
     "name": "stderr",
     "output_type": "stream",
     "text": [
      " 92%|█████████▏| 55/60 [1:35:06<03:52, 46.48s/it]"
     ]
    },
    {
     "name": "stdout",
     "output_type": "stream",
     "text": [
      "Mix curv SVM F1 score: 0.07264957264957266\n",
      "F1 score: 0.21271068530697174 total number of testing samples: 200\n"
     ]
    },
    {
     "name": "stderr",
     "output_type": "stream",
     "text": [
      " 93%|█████████▎| 56/60 [1:35:26<02:34, 38.63s/it]"
     ]
    },
    {
     "name": "stdout",
     "output_type": "stream",
     "text": [
      "Mix curv SVM F1 score: 0.09839357429718876\n",
      "F1 score: 0.15308582449373193 total number of testing samples: 200\n"
     ]
    },
    {
     "name": "stderr",
     "output_type": "stream",
     "text": [
      " 95%|█████████▌| 57/60 [1:35:49<01:41, 33.69s/it]"
     ]
    },
    {
     "name": "stdout",
     "output_type": "stream",
     "text": [
      "Mix curv SVM F1 score: 0.09349593495934959\n",
      "F1 score: 0.11255343003293392 total number of testing samples: 200\n"
     ]
    },
    {
     "name": "stderr",
     "output_type": "stream",
     "text": [
      " 97%|█████████▋| 58/60 [1:36:09<00:59, 29.69s/it]"
     ]
    },
    {
     "name": "stdout",
     "output_type": "stream",
     "text": [
      "Mix curv SVM F1 score: 0.0967741935483871\n",
      "F1 score: 0.29350565370072657 total number of testing samples: 200\n"
     ]
    },
    {
     "name": "stderr",
     "output_type": "stream",
     "text": [
      " 98%|█████████▊| 59/60 [1:36:30<00:27, 27.01s/it]"
     ]
    },
    {
     "name": "stdout",
     "output_type": "stream",
     "text": [
      "Mix curv SVM F1 score: 0.1124031007751938\n",
      "F1 score: 0.21400818705335461 total number of testing samples: 200\n"
     ]
    },
    {
     "name": "stderr",
     "output_type": "stream",
     "text": [
      "100%|██████████| 60/60 [1:36:52<00:00, 96.88s/it]"
     ]
    },
    {
     "name": "stdout",
     "output_type": "stream",
     "text": [
      "Mix curv SVM F1 score: 0.1183206106870229\n"
     ]
    },
    {
     "name": "stderr",
     "output_type": "stream",
     "text": [
      "\n"
     ]
    },
    {
     "data": {
      "text/html": [
       "<div>\n",
       "<style scoped>\n",
       "    .dataframe tbody tr th:only-of-type {\n",
       "        vertical-align: middle;\n",
       "    }\n",
       "\n",
       "    .dataframe tbody tr th {\n",
       "        vertical-align: top;\n",
       "    }\n",
       "\n",
       "    .dataframe thead th {\n",
       "        text-align: right;\n",
       "    }\n",
       "</style>\n",
       "<table border=\"1\" class=\"dataframe\">\n",
       "  <thead>\n",
       "    <tr style=\"text-align: right;\">\n",
       "      <th></th>\n",
       "      <th>signature</th>\n",
       "      <th>psdt_score</th>\n",
       "      <th>psrf_score</th>\n",
       "      <th>dt_score</th>\n",
       "      <th>rf_score</th>\n",
       "      <th>ps_perc_score</th>\n",
       "      <th>ps_svm_score</th>\n",
       "    </tr>\n",
       "  </thead>\n",
       "  <tbody>\n",
       "    <tr>\n",
       "      <th>0</th>\n",
       "      <td>[(5, -1), (5, -1)]</td>\n",
       "      <td>[0.9551573426573426, 0.9785456187895212, 0.926...</td>\n",
       "      <td>[0.9588899598884433, 0.9785456187895212, 0.925...</td>\n",
       "      <td>[0.9260686177724762, 0.8727146254515196, 0.882...</td>\n",
       "      <td>[0.9417164357381749, 0.9015478591768107, 0.882...</td>\n",
       "      <td>[0.36758528150266756, 0.1540133779264214, 0.56...</td>\n",
       "      <td>[0.045454545454545456, 0.08158995815899582, 0....</td>\n",
       "    </tr>\n",
       "    <tr>\n",
       "      <th>1</th>\n",
       "      <td>[(5, 1), (5, 1)]</td>\n",
       "      <td>[0.5155353876100239, 0.44970776424264797, 0.56...</td>\n",
       "      <td>[0.4592301855278525, 0.48272736223796936, 0.56...</td>\n",
       "      <td>[0.48822628936764145, 0.4580204903141638, 0.49...</td>\n",
       "      <td>[0.481566390413662, 0.5337546990988425, 0.5571...</td>\n",
       "      <td>[0.15204005638747772, 0.1890918902251002, 0.14...</td>\n",
       "      <td>[0.045454545454545456, 0.08158995815899582, 0....</td>\n",
       "    </tr>\n",
       "    <tr>\n",
       "      <th>2</th>\n",
       "      <td>[(5, -1), (5, 1)]</td>\n",
       "      <td>[0.9551573426573426, 0.9785456187895212, 0.926...</td>\n",
       "      <td>[0.9588899598884433, 0.9785456187895212, 0.925...</td>\n",
       "      <td>[0.9260686177724762, 0.8679546771019484, 0.882...</td>\n",
       "      <td>[0.7804181816709451, 0.9345250105691996, 0.924...</td>\n",
       "      <td>[0.23985645683265477, 0.2832761773608973, 0.23...</td>\n",
       "      <td>[0.045454545454545456, 0.08158995815899582, 0....</td>\n",
       "    </tr>\n",
       "    <tr>\n",
       "      <th>3</th>\n",
       "      <td>[(2, -1), (2, -1), (2, -1), (2, -1), (2, -1)]</td>\n",
       "      <td>[0.5221285999974525, 0.9486712901332646, 0.702...</td>\n",
       "      <td>[0.7866836859483919, 0.9434230673361108, 0.704...</td>\n",
       "      <td>[0.7072916666666667, 0.9232354034144317, 0.685...</td>\n",
       "      <td>[0.7223639642293134, 0.9284646061814557, 0.696...</td>\n",
       "      <td>[0.14412811387900357, 0.02540094113127821, 0.0...</td>\n",
       "      <td>[0.0365296803652968, 0.08158995815899582, 0.13...</td>\n",
       "    </tr>\n",
       "    <tr>\n",
       "      <th>4</th>\n",
       "      <td>[(2, 1), (2, 1), (2, 1), (2, 1), (2, 1)]</td>\n",
       "      <td>[0.46734234512476247, 0.7073675287501551, 0.38...</td>\n",
       "      <td>[0.6250351681035349, 0.6950405173757207, 0.400...</td>\n",
       "      <td>[0.3502872814870276, 0.6943961257927083, 0.395...</td>\n",
       "      <td>[0.5095859808705673, 0.7370441503040153, 0.392...</td>\n",
       "      <td>[0.22045093583592704, 0.21831797836758002, 0.1...</td>\n",
       "      <td>[0.045454545454545456, 0.08158995815899582, 0....</td>\n",
       "    </tr>\n",
       "    <tr>\n",
       "      <th>5</th>\n",
       "      <td>[(2, -1), (2, -1), (2, 0), (2, 1), (2, 1)]</td>\n",
       "      <td>[0.7492963230343687, 0.9486712901332646, 0.714...</td>\n",
       "      <td>[0.7910290460131393, 0.9434230673361108, 0.685...</td>\n",
       "      <td>[0.7005743577075099, 0.9415738498789346, 0.709...</td>\n",
       "      <td>[0.7408216933542249, 0.9350568255056898, 0.688...</td>\n",
       "      <td>[0.13689024390243903, 0.48129940235203394, 0.3...</td>\n",
       "      <td>[0.037209302325581395, 0.08158995815899582, 0....</td>\n",
       "    </tr>\n",
       "  </tbody>\n",
       "</table>\n",
       "</div>"
      ],
      "text/plain": [
       "                                       signature  \\\n",
       "0                             [(5, -1), (5, -1)]   \n",
       "1                               [(5, 1), (5, 1)]   \n",
       "2                              [(5, -1), (5, 1)]   \n",
       "3  [(2, -1), (2, -1), (2, -1), (2, -1), (2, -1)]   \n",
       "4       [(2, 1), (2, 1), (2, 1), (2, 1), (2, 1)]   \n",
       "5     [(2, -1), (2, -1), (2, 0), (2, 1), (2, 1)]   \n",
       "\n",
       "                                          psdt_score  \\\n",
       "0  [0.9551573426573426, 0.9785456187895212, 0.926...   \n",
       "1  [0.5155353876100239, 0.44970776424264797, 0.56...   \n",
       "2  [0.9551573426573426, 0.9785456187895212, 0.926...   \n",
       "3  [0.5221285999974525, 0.9486712901332646, 0.702...   \n",
       "4  [0.46734234512476247, 0.7073675287501551, 0.38...   \n",
       "5  [0.7492963230343687, 0.9486712901332646, 0.714...   \n",
       "\n",
       "                                          psrf_score  \\\n",
       "0  [0.9588899598884433, 0.9785456187895212, 0.925...   \n",
       "1  [0.4592301855278525, 0.48272736223796936, 0.56...   \n",
       "2  [0.9588899598884433, 0.9785456187895212, 0.925...   \n",
       "3  [0.7866836859483919, 0.9434230673361108, 0.704...   \n",
       "4  [0.6250351681035349, 0.6950405173757207, 0.400...   \n",
       "5  [0.7910290460131393, 0.9434230673361108, 0.685...   \n",
       "\n",
       "                                            dt_score  \\\n",
       "0  [0.9260686177724762, 0.8727146254515196, 0.882...   \n",
       "1  [0.48822628936764145, 0.4580204903141638, 0.49...   \n",
       "2  [0.9260686177724762, 0.8679546771019484, 0.882...   \n",
       "3  [0.7072916666666667, 0.9232354034144317, 0.685...   \n",
       "4  [0.3502872814870276, 0.6943961257927083, 0.395...   \n",
       "5  [0.7005743577075099, 0.9415738498789346, 0.709...   \n",
       "\n",
       "                                            rf_score  \\\n",
       "0  [0.9417164357381749, 0.9015478591768107, 0.882...   \n",
       "1  [0.481566390413662, 0.5337546990988425, 0.5571...   \n",
       "2  [0.7804181816709451, 0.9345250105691996, 0.924...   \n",
       "3  [0.7223639642293134, 0.9284646061814557, 0.696...   \n",
       "4  [0.5095859808705673, 0.7370441503040153, 0.392...   \n",
       "5  [0.7408216933542249, 0.9350568255056898, 0.688...   \n",
       "\n",
       "                                       ps_perc_score  \\\n",
       "0  [0.36758528150266756, 0.1540133779264214, 0.56...   \n",
       "1  [0.15204005638747772, 0.1890918902251002, 0.14...   \n",
       "2  [0.23985645683265477, 0.2832761773608973, 0.23...   \n",
       "3  [0.14412811387900357, 0.02540094113127821, 0.0...   \n",
       "4  [0.22045093583592704, 0.21831797836758002, 0.1...   \n",
       "5  [0.13689024390243903, 0.48129940235203394, 0.3...   \n",
       "\n",
       "                                        ps_svm_score  \n",
       "0  [0.045454545454545456, 0.08158995815899582, 0....  \n",
       "1  [0.045454545454545456, 0.08158995815899582, 0....  \n",
       "2  [0.045454545454545456, 0.08158995815899582, 0....  \n",
       "3  [0.0365296803652968, 0.08158995815899582, 0.13...  \n",
       "4  [0.045454545454545456, 0.08158995815899582, 0....  \n",
       "5  [0.037209302325581395, 0.08158995815899582, 0....  "
      ]
     },
     "execution_count": 8,
     "metadata": {},
     "output_type": "execute_result"
    }
   ],
   "source": [
    "seed = 0\n",
    "results = []\n",
    "\n",
    "scores_tuple = benchmarking.compute_scores_by_signature(signatures, NUM_POINTS, NUM_CLASSES, seed=seed,\n",
    "                                                        max_depth=3, n_seeds=10, metric=\"f1\")\n",
    "rnd_seeds = scores_tuple[0]\n",
    "psdt_scores_by_signature = scores_tuple[1]\n",
    "psrf_scores_by_signature = scores_tuple[2]\n",
    "dt_scores_by_signature = scores_tuple[3]\n",
    "rf_scores_by_signature = scores_tuple[4]\n",
    "ps_perc_scores_by_signature = scores_tuple[5]\n",
    "ps_svm_scores_by_signature = scores_tuple[6]\n",
    "for signature, psdt_score, psrf_score, dt_score, rf_score, ps_perc_score, ps_svm_score in zip(signatures, \\\n",
    "        psdt_scores_by_signature, psrf_scores_by_signature, dt_scores_by_signature, rf_scores_by_signature,\n",
    "        ps_perc_scores_by_signature, ps_svm_scores_by_signature):\n",
    "    results.append({\n",
    "        \"signature\": signature,\n",
    "        \"psdt_score\": psdt_score,\n",
    "        \"psrf_score\": psrf_score,\n",
    "        \"dt_score\": dt_score,\n",
    "        \"rf_score\": rf_score,\n",
    "        \"ps_perc_score\": ps_perc_score,\n",
    "        \"ps_svm_score\": ps_svm_score\n",
    "    })\n",
    "\n",
    "results = pd.DataFrame(results)\n",
    "results"
   ]
  },
  {
   "cell_type": "code",
   "execution_count": 9,
   "metadata": {},
   "outputs": [
    {
     "name": "stdout",
     "output_type": "stream",
     "text": [
      "H(5, 1) x H(5, 1)\n",
      "Avg PSDT Score: 95.0 +/- 2.8, Avg DT Score: 88.6 +/- 4.3\n",
      "PSDT and DT are significantly different\n",
      "Avg PSRF Score: 95.3 +/- 2.9, Avg RF Score: 90.0 +/- 3.6\n",
      "PSRF and RF are significantly different\n",
      "Avg PS Perceptron Score: 31.9 +/- 8.0, Avg PS SVM Score: 9.1 +/- 1.6\n",
      "\n",
      "S(5, 1) x S(5, 1)\n",
      "Avg PSDT Score: 51.4 +/- 3.3, Avg DT Score: 47.9 +/- 2.4\n",
      "Avg PSRF Score: 52.4 +/- 4.0, Avg RF Score: 50.1 +/- 2.2\n",
      "Avg PS Perceptron Score: 19.7 +/- 5.0, Avg PS SVM Score: 9.3 +/- 1.5\n",
      "\n",
      "H(5, 1) x S(5, 1)\n",
      "Avg PSDT Score: 95.0 +/- 2.8, Avg DT Score: 88.8 +/- 4.4\n",
      "PSDT and DT are significantly different\n",
      "Avg PSRF Score: 95.3 +/- 2.9, Avg RF Score: 87.5 +/- 3.8\n",
      "PSRF and RF are significantly different\n",
      "Avg PS Perceptron Score: 24.6 +/- 3.0, Avg PS SVM Score: 9.3 +/- 1.5\n",
      "\n",
      "H(2, 1) x H(2, 1) x H(2, 1) x H(2, 1) x H(2, 1)\n",
      "Avg PSDT Score: 67.6 +/- 9.0, Avg DT Score: 67.5 +/- 7.6\n",
      "Avg PSRF Score: 72.0 +/- 8.0, Avg RF Score: 68.6 +/- 7.0\n",
      "Avg PS Perceptron Score: 17.4 +/- 5.1, Avg PS SVM Score: 9.2 +/- 1.6\n",
      "\n",
      "S(2, 1) x S(2, 1) x S(2, 1) x S(2, 1) x S(2, 1)\n",
      "Avg PSDT Score: 44.4 +/- 6.9, Avg DT Score: 42.7 +/- 6.8\n",
      "Avg PSRF Score: 47.8 +/- 7.1, Avg RF Score: 47.0 +/- 6.9\n",
      "Avg PS Perceptron Score: 19.7 +/- 1.9, Avg PS SVM Score: 9.3 +/- 1.5\n",
      "\n",
      "H(2, 1) x H(2, 1) x E(2) x S(2, 1) x S(2, 1)\n",
      "Avg PSDT Score: 71.0 +/- 7.6, Avg DT Score: 68.4 +/- 7.7\n",
      "PSDT and DT are significantly different\n",
      "Avg PSRF Score: 71.9 +/- 8.0, Avg RF Score: 69.0 +/- 8.1\n",
      "Avg PS Perceptron Score: 22.0 +/- 6.9, Avg PS SVM Score: 9.1 +/- 1.7\n",
      "\n"
     ]
    }
   ],
   "source": [
    "for signature, (i, row) in zip(signatures, results.iterrows()):\n",
    "    psdt_scores = row[\"psdt_score\"]\n",
    "    psrf_scores = row[\"psrf_score\"]\n",
    "    dt_scores = row[\"dt_score\"]\n",
    "    rf_scores = row[\"rf_score\"]\n",
    "    ps_perc_scores = row[\"ps_perc_score\"]\n",
    "    ps_svm_scores = row[\"ps_svm_score\"]\n",
    "    s = []\n",
    "    for component in signature:\n",
    "        if component[1] < 0:\n",
    "            s.append(\"H(\" + f\"{component[0]}, {-component[1]}\" + \")\")\n",
    "        elif component[1] == 0:\n",
    "            s.append(\"E(\" + f\"{component[0]}\" + \")\")\n",
    "        else:\n",
    "            s.append(\"S(\" + f\"{component[0]}, {component[1]}\" + \")\")\n",
    "    print(\" x \".join(s))\n",
    "    print(f\"Avg PSDT Score: {np.mean(psdt_scores) * 100:.1f} +/- {np.std(psdt_scores) / np.sqrt(len(psdt_scores)) * 1.96 * 100 :.1f}\", end=\", \")\n",
    "    print(f\"Avg DT Score: {np.mean(dt_scores) * 100:.1f} +/- {np.std(dt_scores) / np.sqrt(len(dt_scores)) * 1.96 * 100 :.1f}\")\n",
    "    \n",
    "    t, p = stats.ttest_rel(psdt_scores, dt_scores)\n",
    "    if p < .05:\n",
    "        print(\"PSDT and DT are significantly different\")\n",
    "    \n",
    "    print(f\"Avg PSRF Score: {np.mean(psrf_scores) * 100:.1f} +/- {np.std(psrf_scores) / np.sqrt(len(psrf_scores)) * 1.96 * 100 :.1f}\", end=\", \")\n",
    "    print(f\"Avg RF Score: {np.mean(rf_scores) * 100:.1f} +/- {np.std(rf_scores) / np.sqrt(len(rf_scores)) * 1.96 * 100 :.1f}\")\n",
    "\n",
    "    t, p = stats.ttest_rel(psrf_scores, rf_scores)\n",
    "    if p < .05:\n",
    "        print(\"PSRF and RF are significantly different\")\n",
    "\n",
    "    print(f\"Avg PS Perceptron Score: {np.mean(ps_perc_scores) * 100:.1f} +/- {np.std(ps_perc_scores) / np.sqrt(len(ps_perc_scores)) * 1.96 * 100 :.1f}\", end=\", \")\n",
    "    print(f\"Avg PS SVM Score: {np.mean(ps_svm_scores) * 100:.1f} +/- {np.std(ps_svm_scores) / np.sqrt(len(ps_svm_scores)) * 1.96 * 100 :.1f}\")\n",
    "    \n",
    "    print(\"\")"
   ]
  },
  {
   "cell_type": "code",
   "execution_count": null,
   "metadata": {},
   "outputs": [],
   "source": []
  }
 ],
 "metadata": {
  "kernelspec": {
   "display_name": "psdt",
   "language": "python",
   "name": "python3"
  },
  "language_info": {
   "codemirror_mode": {
    "name": "ipython",
    "version": 3
   },
   "file_extension": ".py",
   "mimetype": "text/x-python",
   "name": "python",
   "nbconvert_exporter": "python",
   "pygments_lexer": "ipython3",
   "version": "3.11.9"
  }
 },
 "nbformat": 4,
 "nbformat_minor": 2
}
