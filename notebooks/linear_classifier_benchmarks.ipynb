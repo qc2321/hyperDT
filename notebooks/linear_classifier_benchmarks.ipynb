{
 "cells": [
  {
   "cell_type": "markdown",
   "metadata": {},
   "source": [
    "## Linear classifier benchmarking"
   ]
  },
  {
   "cell_type": "code",
   "execution_count": 1,
   "metadata": {},
   "outputs": [],
   "source": [
    "%load_ext autoreload\n",
    "%autoreload 2"
   ]
  },
  {
   "cell_type": "code",
   "execution_count": 2,
   "metadata": {},
   "outputs": [
    {
     "name": "stderr",
     "output_type": "stream",
     "text": [
      "INFO: Using numpy backend\n"
     ]
    }
   ],
   "source": [
    "import numpy as np\n",
    "import pandas as pd\n",
    "import scipy.stats as stats\n",
    "import hyperdt.benchmarking as benchmarking\n",
    "from hyperdt.product_space_DT import ProductSpace\n",
    "from hyperdt.product_space_perceptron import mix_curv_perceptron\n",
    "from hyperdt.product_space_svm import mix_curv_svm"
   ]
  },
  {
   "cell_type": "markdown",
   "metadata": {},
   "source": [
    "### Product space perceptron and SVM "
   ]
  },
  {
   "cell_type": "code",
   "execution_count": 3,
   "metadata": {},
   "outputs": [],
   "source": [
    "# Generate data\n",
    "sig = [(5, -1.), (4, 0.), (3, 1.)]\n",
    "ps = ProductSpace(sig, seed=0)\n",
    "ps.sample_clusters(1000, 4, cov_scale=0.3)\n",
    "ps.split_data()"
   ]
  },
  {
   "cell_type": "code",
   "execution_count": 4,
   "metadata": {},
   "outputs": [],
   "source": [
    "mix_component = benchmarking.sig_to_mix_component(sig)\n",
    "embed_data = benchmarking.make_embed_data(ps.X, ps.X_train, ps.X_test, ps.y_train, ps.y_test, sig)"
   ]
  },
  {
   "cell_type": "code",
   "execution_count": 5,
   "metadata": {},
   "outputs": [
    {
     "name": "stdout",
     "output_type": "stream",
     "text": [
      "F1 score: 0.03625502111442991 total number of testing samples: 200\n"
     ]
    }
   ],
   "source": [
    "# Fit product space perceptron\n",
    "ps_perc = mix_curv_perceptron(mix_component, embed_data, multiclass=True, max_round=100, max_update=1000)\n",
    "ps_perc_score = ps_perc.process_data()"
   ]
  },
  {
   "cell_type": "code",
   "execution_count": 6,
   "metadata": {},
   "outputs": [
    {
     "name": "stdout",
     "output_type": "stream",
     "text": [
      "Mix curv SVM F1 score: 0.12962962962962962\n"
     ]
    }
   ],
   "source": [
    "# Fit product space SVM\n",
    "ps_svm = mix_curv_svm(mix_component, embed_data)\n",
    "ps_svm_score = ps_svm.process_data()"
   ]
  },
  {
   "cell_type": "markdown",
   "metadata": {},
   "source": [
    "### Benchmarking for HyperDT/RF, sklearn DT/RF, perceptron and SVM"
   ]
  },
  {
   "cell_type": "code",
   "execution_count": 7,
   "metadata": {},
   "outputs": [],
   "source": [
    "NUM_POINTS = 1000\n",
    "NUM_CLASSES = 4\n",
    "signatures = [\n",
    "    [(5, -1), (5, -1)],\n",
    "    [(5, 1), (5, 1)],\n",
    "    [(5, -1), (5, 1)],\n",
    "    [(2, -1), (2, -1), (2, -1), (2, -1), (2, -1)],\n",
    "    [(2, 1), (2, 1), (2, 1), (2, 1), (2, 1)],\n",
    "    [(2, -1), (2, -1), (2, 0), (2, 1), (2, 1)]\n",
    "]"
   ]
  },
  {
   "cell_type": "code",
   "execution_count": 8,
   "metadata": {},
   "outputs": [
    {
     "name": "stderr",
     "output_type": "stream",
     "text": [
      "  0%|          | 0/60 [00:00<?, ?it/s]"
     ]
    },
    {
     "name": "stdout",
     "output_type": "stream",
     "text": [
      "F1 score: 0.36758528150266756 total number of testing samples: 200\n"
     ]
    },
    {
     "name": "stderr",
     "output_type": "stream",
     "text": [
      "  2%|▏         | 1/60 [00:08<08:34,  8.72s/it]"
     ]
    },
    {
     "name": "stdout",
     "output_type": "stream",
     "text": [
      "Mix curv SVM F1 score: 0.045454545454545456\n",
      "F1 score: 0.1540133779264214 total number of testing samples: 200\n"
     ]
    },
    {
     "name": "stderr",
     "output_type": "stream",
     "text": [
      "  3%|▎         | 2/60 [00:23<11:47, 12.20s/it]"
     ]
    },
    {
     "name": "stdout",
     "output_type": "stream",
     "text": [
      "Mix curv SVM F1 score: 0.08158995815899582\n",
      "F1 score: 0.5695754146718893 total number of testing samples: 200\n"
     ]
    },
    {
     "name": "stderr",
     "output_type": "stream",
     "text": [
      "  5%|▌         | 3/60 [00:35<11:33, 12.17s/it]"
     ]
    },
    {
     "name": "stdout",
     "output_type": "stream",
     "text": [
      "Mix curv SVM F1 score: 0.13503649635036497\n",
      "F1 score: 0.3881508816940088 total number of testing samples: 200\n"
     ]
    },
    {
     "name": "stderr",
     "output_type": "stream",
     "text": [
      "  7%|▋         | 4/60 [00:48<11:46, 12.61s/it]"
     ]
    },
    {
     "name": "stdout",
     "output_type": "stream",
     "text": [
      "Mix curv SVM F1 score: 0.07264957264957266\n",
      "F1 score: 0.5028249035463241 total number of testing samples: 200\n"
     ]
    },
    {
     "name": "stderr",
     "output_type": "stream",
     "text": [
      "  8%|▊         | 5/60 [01:09<14:20, 15.65s/it]"
     ]
    },
    {
     "name": "stdout",
     "output_type": "stream",
     "text": [
      "Mix curv SVM F1 score: 0.07264957264957266\n",
      "F1 score: 0.2559200193306754 total number of testing samples: 200\n"
     ]
    },
    {
     "name": "stderr",
     "output_type": "stream",
     "text": [
      " 10%|█         | 6/60 [01:21<12:52, 14.31s/it]"
     ]
    },
    {
     "name": "stdout",
     "output_type": "stream",
     "text": [
      "Mix curv SVM F1 score: 0.09839357429718876\n",
      "F1 score: 0.18773523685918236 total number of testing samples: 200\n"
     ]
    },
    {
     "name": "stderr",
     "output_type": "stream",
     "text": [
      " 12%|█▏        | 7/60 [01:32<11:46, 13.33s/it]"
     ]
    },
    {
     "name": "stdout",
     "output_type": "stream",
     "text": [
      "Mix curv SVM F1 score: 0.07302904564315352\n",
      "F1 score: 0.2644074675324675 total number of testing samples: 200\n"
     ]
    },
    {
     "name": "stderr",
     "output_type": "stream",
     "text": [
      " 13%|█▎        | 8/60 [01:43<10:55, 12.61s/it]"
     ]
    },
    {
     "name": "stdout",
     "output_type": "stream",
     "text": [
      "Mix curv SVM F1 score: 0.0967741935483871\n",
      "F1 score: 0.2684218041231452 total number of testing samples: 200\n"
     ]
    },
    {
     "name": "stderr",
     "output_type": "stream",
     "text": [
      " 15%|█▌        | 9/60 [01:55<10:32, 12.40s/it]"
     ]
    },
    {
     "name": "stdout",
     "output_type": "stream",
     "text": [
      "Mix curv SVM F1 score: 0.1124031007751938\n",
      "F1 score: 0.2344275191303726 total number of testing samples: 200\n"
     ]
    },
    {
     "name": "stderr",
     "output_type": "stream",
     "text": [
      " 17%|█▋        | 10/60 [02:08<10:23, 12.47s/it]"
     ]
    },
    {
     "name": "stdout",
     "output_type": "stream",
     "text": [
      "Mix curv SVM F1 score: 0.1183206106870229\n",
      "F1 score: 0.15204005638747772 total number of testing samples: 200\n"
     ]
    },
    {
     "name": "stderr",
     "output_type": "stream",
     "text": [
      " 18%|█▊        | 11/60 [02:22<10:38, 13.04s/it]"
     ]
    },
    {
     "name": "stdout",
     "output_type": "stream",
     "text": [
      "Mix curv SVM F1 score: 0.045454545454545456\n",
      "F1 score: 0.1890918902251002 total number of testing samples: 200\n"
     ]
    },
    {
     "name": "stderr",
     "output_type": "stream",
     "text": [
      " 20%|██        | 12/60 [02:37<10:43, 13.41s/it]"
     ]
    },
    {
     "name": "stdout",
     "output_type": "stream",
     "text": [
      "Mix curv SVM F1 score: 0.08158995815899582\n",
      "F1 score: 0.14198086834534568 total number of testing samples: 200\n"
     ]
    },
    {
     "name": "stderr",
     "output_type": "stream",
     "text": [
      " 22%|██▏       | 13/60 [02:52<11:02, 14.10s/it]"
     ]
    },
    {
     "name": "stdout",
     "output_type": "stream",
     "text": [
      "Mix curv SVM F1 score: 0.13503649635036497\n",
      "F1 score: 0.20768219270127664 total number of testing samples: 200\n"
     ]
    },
    {
     "name": "stderr",
     "output_type": "stream",
     "text": [
      " 23%|██▎       | 14/60 [03:08<11:04, 14.45s/it]"
     ]
    },
    {
     "name": "stdout",
     "output_type": "stream",
     "text": [
      "Mix curv SVM F1 score: 0.07264957264957266\n",
      "F1 score: 0.21975161433727403 total number of testing samples: 200\n"
     ]
    },
    {
     "name": "stderr",
     "output_type": "stream",
     "text": [
      " 25%|██▌       | 15/60 [03:22<10:49, 14.44s/it]"
     ]
    },
    {
     "name": "stdout",
     "output_type": "stream",
     "text": [
      "Mix curv SVM F1 score: 0.07264957264957266\n",
      "F1 score: 0.14279537176272733 total number of testing samples: 200\n"
     ]
    },
    {
     "name": "stderr",
     "output_type": "stream",
     "text": [
      " 27%|██▋       | 16/60 [03:37<10:39, 14.54s/it]"
     ]
    },
    {
     "name": "stdout",
     "output_type": "stream",
     "text": [
      "Mix curv SVM F1 score: 0.09839357429718876\n",
      "F1 score: 0.09764492753623188 total number of testing samples: 200\n"
     ]
    },
    {
     "name": "stderr",
     "output_type": "stream",
     "text": [
      " 28%|██▊       | 17/60 [03:52<10:31, 14.69s/it]"
     ]
    },
    {
     "name": "stdout",
     "output_type": "stream",
     "text": [
      "Mix curv SVM F1 score: 0.09349593495934959\n",
      "F1 score: 0.29687578528882164 total number of testing samples: 200\n"
     ]
    },
    {
     "name": "stderr",
     "output_type": "stream",
     "text": [
      " 30%|███       | 18/60 [04:07<10:26, 14.91s/it]"
     ]
    },
    {
     "name": "stdout",
     "output_type": "stream",
     "text": [
      "Mix curv SVM F1 score: 0.0967741935483871\n",
      "F1 score: 0.3785282750799992 total number of testing samples: 200\n"
     ]
    },
    {
     "name": "stderr",
     "output_type": "stream",
     "text": [
      " 32%|███▏      | 19/60 [04:23<10:21, 15.16s/it]"
     ]
    },
    {
     "name": "stdout",
     "output_type": "stream",
     "text": [
      "Mix curv SVM F1 score: 0.1124031007751938\n",
      "F1 score: 0.14438236465434443 total number of testing samples: 200\n"
     ]
    },
    {
     "name": "stderr",
     "output_type": "stream",
     "text": [
      " 33%|███▎      | 20/60 [04:38<10:01, 15.05s/it]"
     ]
    },
    {
     "name": "stdout",
     "output_type": "stream",
     "text": [
      "Mix curv SVM F1 score: 0.1183206106870229\n",
      "F1 score: 0.23985645683265477 total number of testing samples: 200\n"
     ]
    },
    {
     "name": "stderr",
     "output_type": "stream",
     "text": [
      " 35%|███▌      | 21/60 [04:48<08:55, 13.72s/it]"
     ]
    },
    {
     "name": "stdout",
     "output_type": "stream",
     "text": [
      "Mix curv SVM F1 score: 0.045454545454545456\n",
      "F1 score: 0.2832761773608973 total number of testing samples: 200\n"
     ]
    },
    {
     "name": "stderr",
     "output_type": "stream",
     "text": [
      " 37%|███▋      | 22/60 [05:00<08:22, 13.23s/it]"
     ]
    },
    {
     "name": "stdout",
     "output_type": "stream",
     "text": [
      "Mix curv SVM F1 score: 0.08158995815899582\n",
      "F1 score: 0.23035775278667095 total number of testing samples: 200\n"
     ]
    },
    {
     "name": "stderr",
     "output_type": "stream",
     "text": [
      " 38%|███▊      | 23/60 [05:15<08:22, 13.58s/it]"
     ]
    },
    {
     "name": "stdout",
     "output_type": "stream",
     "text": [
      "Mix curv SVM F1 score: 0.13503649635036497\n",
      "F1 score: 0.26529605263157896 total number of testing samples: 200\n"
     ]
    },
    {
     "name": "stderr",
     "output_type": "stream",
     "text": [
      " 40%|████      | 24/60 [05:28<08:06, 13.52s/it]"
     ]
    },
    {
     "name": "stdout",
     "output_type": "stream",
     "text": [
      "Mix curv SVM F1 score: 0.07264957264957266\n",
      "F1 score: 0.17105998896219082 total number of testing samples: 200\n"
     ]
    },
    {
     "name": "stderr",
     "output_type": "stream",
     "text": [
      " 42%|████▏     | 25/60 [05:40<07:36, 13.05s/it]"
     ]
    },
    {
     "name": "stdout",
     "output_type": "stream",
     "text": [
      "Mix curv SVM F1 score: 0.07264957264957266\n",
      "F1 score: 0.15233985100120856 total number of testing samples: 200\n"
     ]
    },
    {
     "name": "stderr",
     "output_type": "stream",
     "text": [
      " 43%|████▎     | 26/60 [05:54<07:27, 13.17s/it]"
     ]
    },
    {
     "name": "stdout",
     "output_type": "stream",
     "text": [
      "Mix curv SVM F1 score: 0.09839357429718876\n",
      "F1 score: 0.31006603194103194 total number of testing samples: 200\n"
     ]
    },
    {
     "name": "stderr",
     "output_type": "stream",
     "text": [
      " 45%|████▌     | 27/60 [06:06<07:09, 13.01s/it]"
     ]
    },
    {
     "name": "stdout",
     "output_type": "stream",
     "text": [
      "Mix curv SVM F1 score: 0.09349593495934959\n",
      "F1 score: 0.236718650957696 total number of testing samples: 200\n"
     ]
    },
    {
     "name": "stderr",
     "output_type": "stream",
     "text": [
      " 47%|████▋     | 28/60 [06:18<06:47, 12.72s/it]"
     ]
    },
    {
     "name": "stdout",
     "output_type": "stream",
     "text": [
      "Mix curv SVM F1 score: 0.0967741935483871\n",
      "F1 score: 0.29467000016552347 total number of testing samples: 200\n"
     ]
    },
    {
     "name": "stderr",
     "output_type": "stream",
     "text": [
      " 48%|████▊     | 29/60 [06:31<06:33, 12.70s/it]"
     ]
    },
    {
     "name": "stdout",
     "output_type": "stream",
     "text": [
      "Mix curv SVM F1 score: 0.1124031007751938\n",
      "F1 score: 0.2779684657282707 total number of testing samples: 200\n"
     ]
    },
    {
     "name": "stderr",
     "output_type": "stream",
     "text": [
      " 50%|█████     | 30/60 [06:44<06:26, 12.90s/it]"
     ]
    },
    {
     "name": "stdout",
     "output_type": "stream",
     "text": [
      "Mix curv SVM F1 score: 0.1183206106870229\n",
      "F1 score: 0.14412811387900357 total number of testing samples: 200\n"
     ]
    },
    {
     "name": "stderr",
     "output_type": "stream",
     "text": [
      " 52%|█████▏    | 31/60 [07:00<06:34, 13.61s/it]"
     ]
    },
    {
     "name": "stdout",
     "output_type": "stream",
     "text": [
      "Mix curv SVM F1 score: 0.0365296803652968\n",
      "F1 score: 0.02540094113127821 total number of testing samples: 200\n"
     ]
    },
    {
     "name": "stderr",
     "output_type": "stream",
     "text": [
      " 53%|█████▎    | 32/60 [07:12<06:11, 13.26s/it]"
     ]
    },
    {
     "name": "stdout",
     "output_type": "stream",
     "text": [
      "Mix curv SVM F1 score: 0.08158995815899582\n",
      "F1 score: 0.09349593495934959 total number of testing samples: 200\n"
     ]
    },
    {
     "name": "stderr",
     "output_type": "stream",
     "text": [
      " 55%|█████▌    | 33/60 [07:26<06:05, 13.54s/it]"
     ]
    },
    {
     "name": "stdout",
     "output_type": "stream",
     "text": [
      "Mix curv SVM F1 score: 0.13503649635036497\n",
      "F1 score: 0.24373087385243114 total number of testing samples: 200\n"
     ]
    },
    {
     "name": "stderr",
     "output_type": "stream",
     "text": [
      " 57%|█████▋    | 34/60 [07:40<05:53, 13.59s/it]"
     ]
    },
    {
     "name": "stdout",
     "output_type": "stream",
     "text": [
      "Mix curv SVM F1 score: 0.07264957264957266\n",
      "F1 score: 0.19198071866783523 total number of testing samples: 200\n"
     ]
    },
    {
     "name": "stderr",
     "output_type": "stream",
     "text": [
      " 58%|█████▊    | 35/60 [07:56<05:57, 14.28s/it]"
     ]
    },
    {
     "name": "stdout",
     "output_type": "stream",
     "text": [
      "Mix curv SVM F1 score: 0.07264957264957266\n",
      "F1 score: 0.30901413982717985 total number of testing samples: 200\n"
     ]
    },
    {
     "name": "stderr",
     "output_type": "stream",
     "text": [
      " 60%|██████    | 36/60 [08:11<05:52, 14.70s/it]"
     ]
    },
    {
     "name": "stdout",
     "output_type": "stream",
     "text": [
      "Mix curv SVM F1 score: 0.09839357429718876\n",
      "F1 score: 0.11169590643274854 total number of testing samples: 200\n"
     ]
    },
    {
     "name": "stderr",
     "output_type": "stream",
     "text": [
      " 62%|██████▏   | 37/60 [08:25<05:31, 14.40s/it]"
     ]
    },
    {
     "name": "stdout",
     "output_type": "stream",
     "text": [
      "Mix curv SVM F1 score: 0.09349593495934959\n",
      "F1 score: 0.18000000000000002 total number of testing samples: 200\n"
     ]
    },
    {
     "name": "stderr",
     "output_type": "stream",
     "text": [
      " 63%|██████▎   | 38/60 [08:40<05:22, 14.66s/it]"
     ]
    },
    {
     "name": "stdout",
     "output_type": "stream",
     "text": [
      "Mix curv SVM F1 score: 0.0967741935483871\n",
      "F1 score: 0.28103756708407873 total number of testing samples: 200\n"
     ]
    },
    {
     "name": "stderr",
     "output_type": "stream",
     "text": [
      " 65%|██████▌   | 39/60 [08:55<05:08, 14.68s/it]"
     ]
    },
    {
     "name": "stdout",
     "output_type": "stream",
     "text": [
      "Mix curv SVM F1 score: 0.1124031007751938\n",
      "F1 score: 0.15775016350555918 total number of testing samples: 200\n"
     ]
    },
    {
     "name": "stderr",
     "output_type": "stream",
     "text": [
      " 67%|██████▋   | 40/60 [09:10<04:55, 14.76s/it]"
     ]
    },
    {
     "name": "stdout",
     "output_type": "stream",
     "text": [
      "Mix curv SVM F1 score: 0.1183206106870229\n",
      "F1 score: 0.22045093583592704 total number of testing samples: 200\n"
     ]
    },
    {
     "name": "stderr",
     "output_type": "stream",
     "text": [
      " 68%|██████▊   | 41/60 [09:39<06:01, 19.02s/it]"
     ]
    },
    {
     "name": "stdout",
     "output_type": "stream",
     "text": [
      "Mix curv SVM F1 score: 0.045454545454545456\n",
      "F1 score: 0.21831797836758002 total number of testing samples: 200\n"
     ]
    },
    {
     "name": "stderr",
     "output_type": "stream",
     "text": [
      " 70%|███████   | 42/60 [10:03<06:10, 20.59s/it]"
     ]
    },
    {
     "name": "stdout",
     "output_type": "stream",
     "text": [
      "Mix curv SVM F1 score: 0.08158995815899582\n",
      "F1 score: 0.1744935090479937 total number of testing samples: 200\n"
     ]
    },
    {
     "name": "stderr",
     "output_type": "stream",
     "text": [
      " 72%|███████▏  | 43/60 [10:36<06:50, 24.13s/it]"
     ]
    },
    {
     "name": "stdout",
     "output_type": "stream",
     "text": [
      "Mix curv SVM F1 score: 0.13503649635036497\n",
      "F1 score: 0.19499299719887958 total number of testing samples: 200\n"
     ]
    },
    {
     "name": "stderr",
     "output_type": "stream",
     "text": [
      " 73%|███████▎  | 44/60 [11:09<07:08, 26.79s/it]"
     ]
    },
    {
     "name": "stdout",
     "output_type": "stream",
     "text": [
      "Mix curv SVM F1 score: 0.07264957264957266\n",
      "F1 score: 0.18561740897806472 total number of testing samples: 200\n"
     ]
    },
    {
     "name": "stderr",
     "output_type": "stream",
     "text": [
      " 75%|███████▌  | 45/60 [11:37<06:49, 27.33s/it]"
     ]
    },
    {
     "name": "stdout",
     "output_type": "stream",
     "text": [
      "Mix curv SVM F1 score: 0.07264957264957266\n",
      "F1 score: 0.2010531952801029 total number of testing samples: 200\n"
     ]
    },
    {
     "name": "stderr",
     "output_type": "stream",
     "text": [
      " 77%|███████▋  | 46/60 [12:04<06:19, 27.12s/it]"
     ]
    },
    {
     "name": "stdout",
     "output_type": "stream",
     "text": [
      "Mix curv SVM F1 score: 0.09839357429718876\n",
      "F1 score: 0.24615360409752932 total number of testing samples: 200\n"
     ]
    },
    {
     "name": "stderr",
     "output_type": "stream",
     "text": [
      " 78%|███████▊  | 47/60 [12:37<06:14, 28.78s/it]"
     ]
    },
    {
     "name": "stdout",
     "output_type": "stream",
     "text": [
      "Mix curv SVM F1 score: 0.09349593495934959\n",
      "F1 score: 0.14272409249920495 total number of testing samples: 200\n"
     ]
    },
    {
     "name": "stderr",
     "output_type": "stream",
     "text": [
      " 80%|████████  | 48/60 [13:04<05:38, 28.24s/it]"
     ]
    },
    {
     "name": "stdout",
     "output_type": "stream",
     "text": [
      "Mix curv SVM F1 score: 0.0967741935483871\n",
      "F1 score: 0.22782051282051283 total number of testing samples: 200\n"
     ]
    },
    {
     "name": "stderr",
     "output_type": "stream",
     "text": [
      " 82%|████████▏ | 49/60 [13:32<05:11, 28.30s/it]"
     ]
    },
    {
     "name": "stdout",
     "output_type": "stream",
     "text": [
      "Mix curv SVM F1 score: 0.1124031007751938\n",
      "F1 score: 0.16019776447405149 total number of testing samples: 200\n"
     ]
    },
    {
     "name": "stderr",
     "output_type": "stream",
     "text": [
      " 83%|████████▎ | 50/60 [14:04<04:54, 29.48s/it]"
     ]
    },
    {
     "name": "stdout",
     "output_type": "stream",
     "text": [
      "Mix curv SVM F1 score: 0.1183206106870229\n",
      "F1 score: 0.13689024390243903 total number of testing samples: 200\n"
     ]
    },
    {
     "name": "stderr",
     "output_type": "stream",
     "text": [
      " 85%|████████▌ | 51/60 [14:25<04:02, 26.90s/it]"
     ]
    },
    {
     "name": "stdout",
     "output_type": "stream",
     "text": [
      "Mix curv SVM F1 score: 0.037209302325581395\n",
      "F1 score: 0.48129940235203394 total number of testing samples: 200\n"
     ]
    },
    {
     "name": "stderr",
     "output_type": "stream",
     "text": [
      " 87%|████████▋ | 52/60 [14:43<03:13, 24.24s/it]"
     ]
    },
    {
     "name": "stdout",
     "output_type": "stream",
     "text": [
      "Mix curv SVM F1 score: 0.08158995815899582\n",
      "F1 score: 0.31294161232296447 total number of testing samples: 200\n"
     ]
    },
    {
     "name": "stderr",
     "output_type": "stream",
     "text": [
      " 88%|████████▊ | 53/60 [15:06<02:46, 23.82s/it]"
     ]
    },
    {
     "name": "stdout",
     "output_type": "stream",
     "text": [
      "Mix curv SVM F1 score: 0.13503649635036497\n",
      "F1 score: 0.1950581395348837 total number of testing samples: 200\n"
     ]
    },
    {
     "name": "stderr",
     "output_type": "stream",
     "text": [
      " 90%|█████████ | 54/60 [15:27<02:18, 23.02s/it]"
     ]
    },
    {
     "name": "stdout",
     "output_type": "stream",
     "text": [
      "Mix curv SVM F1 score: 0.059130434782608696\n",
      "F1 score: 0.08752899476139592 total number of testing samples: 200\n"
     ]
    },
    {
     "name": "stderr",
     "output_type": "stream",
     "text": [
      " 92%|█████████▏| 55/60 [15:48<01:52, 22.46s/it]"
     ]
    },
    {
     "name": "stdout",
     "output_type": "stream",
     "text": [
      "Mix curv SVM F1 score: 0.07264957264957266\n",
      "F1 score: 0.21271068530697174 total number of testing samples: 200\n"
     ]
    },
    {
     "name": "stderr",
     "output_type": "stream",
     "text": [
      " 93%|█████████▎| 56/60 [16:09<01:27, 21.92s/it]"
     ]
    },
    {
     "name": "stdout",
     "output_type": "stream",
     "text": [
      "Mix curv SVM F1 score: 0.09839357429718876\n",
      "F1 score: 0.15308582449373193 total number of testing samples: 200\n"
     ]
    },
    {
     "name": "stderr",
     "output_type": "stream",
     "text": [
      " 95%|█████████▌| 57/60 [16:31<01:06, 22.08s/it]"
     ]
    },
    {
     "name": "stdout",
     "output_type": "stream",
     "text": [
      "Mix curv SVM F1 score: 0.09349593495934959\n",
      "F1 score: 0.11255343003293392 total number of testing samples: 200\n"
     ]
    },
    {
     "name": "stderr",
     "output_type": "stream",
     "text": [
      " 97%|█████████▋| 58/60 [16:52<00:43, 21.65s/it]"
     ]
    },
    {
     "name": "stdout",
     "output_type": "stream",
     "text": [
      "Mix curv SVM F1 score: 0.0967741935483871\n",
      "F1 score: 0.29350565370072657 total number of testing samples: 200\n"
     ]
    },
    {
     "name": "stderr",
     "output_type": "stream",
     "text": [
      " 98%|█████████▊| 59/60 [17:13<00:21, 21.47s/it]"
     ]
    },
    {
     "name": "stdout",
     "output_type": "stream",
     "text": [
      "Mix curv SVM F1 score: 0.1124031007751938\n",
      "F1 score: 0.21400818705335461 total number of testing samples: 200\n"
     ]
    },
    {
     "name": "stderr",
     "output_type": "stream",
     "text": [
      "100%|██████████| 60/60 [17:36<00:00, 17.61s/it]"
     ]
    },
    {
     "name": "stdout",
     "output_type": "stream",
     "text": [
      "Mix curv SVM F1 score: 0.1183206106870229\n"
     ]
    },
    {
     "name": "stderr",
     "output_type": "stream",
     "text": [
      "\n"
     ]
    },
    {
     "data": {
      "text/html": [
       "<div>\n",
       "<style scoped>\n",
       "    .dataframe tbody tr th:only-of-type {\n",
       "        vertical-align: middle;\n",
       "    }\n",
       "\n",
       "    .dataframe tbody tr th {\n",
       "        vertical-align: top;\n",
       "    }\n",
       "\n",
       "    .dataframe thead th {\n",
       "        text-align: right;\n",
       "    }\n",
       "</style>\n",
       "<table border=\"1\" class=\"dataframe\">\n",
       "  <thead>\n",
       "    <tr style=\"text-align: right;\">\n",
       "      <th></th>\n",
       "      <th>signature</th>\n",
       "      <th>psdt_score</th>\n",
       "      <th>psrf_score</th>\n",
       "      <th>dt_score</th>\n",
       "      <th>rf_score</th>\n",
       "      <th>perc_score</th>\n",
       "      <th>svm_score</th>\n",
       "      <th>ps_perc_score</th>\n",
       "      <th>ps_svm_score</th>\n",
       "    </tr>\n",
       "  </thead>\n",
       "  <tbody>\n",
       "    <tr>\n",
       "      <th>0</th>\n",
       "      <td>[(5, -1), (5, -1)]</td>\n",
       "      <td>[0.9551573426573426, 0.9785456187895212, 0.926...</td>\n",
       "      <td>[0.9588899598884433, 0.9785456187895212, 0.925...</td>\n",
       "      <td>[0.9260686177724762, 0.8727146254515196, 0.882...</td>\n",
       "      <td>[0.9417164357381749, 0.9015478591768107, 0.882...</td>\n",
       "      <td>[0.9360406954156955, 0.9945831907857224, 0.851...</td>\n",
       "      <td>[0.4226513252829042, 0.7208117776554761, 0.539...</td>\n",
       "      <td>[0.36758528150266756, 0.1540133779264214, 0.56...</td>\n",
       "      <td>[0.045454545454545456, 0.08158995815899582, 0....</td>\n",
       "    </tr>\n",
       "    <tr>\n",
       "      <th>1</th>\n",
       "      <td>[(5, 1), (5, 1)]</td>\n",
       "      <td>[0.5155353876100239, 0.44970776424264797, 0.56...</td>\n",
       "      <td>[0.4592301855278525, 0.48272736223796936, 0.56...</td>\n",
       "      <td>[0.48822628936764145, 0.4580204903141638, 0.49...</td>\n",
       "      <td>[0.481566390413662, 0.5337546990988425, 0.5571...</td>\n",
       "      <td>[0.5652793171168018, 0.5249201427921208, 0.438...</td>\n",
       "      <td>[0.6806550459311195, 0.6939419404125287, 0.653...</td>\n",
       "      <td>[0.15204005638747772, 0.1890918902251002, 0.14...</td>\n",
       "      <td>[0.045454545454545456, 0.08158995815899582, 0....</td>\n",
       "    </tr>\n",
       "    <tr>\n",
       "      <th>2</th>\n",
       "      <td>[(5, -1), (5, 1)]</td>\n",
       "      <td>[0.9551573426573426, 0.9785456187895212, 0.926...</td>\n",
       "      <td>[0.9588899598884433, 0.9785456187895212, 0.925...</td>\n",
       "      <td>[0.9260686177724762, 0.8679546771019484, 0.882...</td>\n",
       "      <td>[0.7804181816709451, 0.9345250105691996, 0.924...</td>\n",
       "      <td>[0.9360406954156955, 0.9945831907857224, 0.883...</td>\n",
       "      <td>[0.4226513252829042, 0.7208117776554761, 0.539...</td>\n",
       "      <td>[0.23985645683265477, 0.2832761773608973, 0.23...</td>\n",
       "      <td>[0.045454545454545456, 0.08158995815899582, 0....</td>\n",
       "    </tr>\n",
       "    <tr>\n",
       "      <th>3</th>\n",
       "      <td>[(2, -1), (2, -1), (2, -1), (2, -1), (2, -1)]</td>\n",
       "      <td>[0.5221285999974525, 0.9486712901332646, 0.702...</td>\n",
       "      <td>[0.7866836859483919, 0.9434230673361108, 0.704...</td>\n",
       "      <td>[0.7072916666666667, 0.9232354034144317, 0.685...</td>\n",
       "      <td>[0.7223639642293134, 0.9284646061814557, 0.696...</td>\n",
       "      <td>[0.5960731952111262, 0.9054483938529629, 0.524...</td>\n",
       "      <td>[0.7532101751055706, 0.9112309103714138, 0.672...</td>\n",
       "      <td>[0.14412811387900357, 0.02540094113127821, 0.0...</td>\n",
       "      <td>[0.0365296803652968, 0.08158995815899582, 0.13...</td>\n",
       "    </tr>\n",
       "    <tr>\n",
       "      <th>4</th>\n",
       "      <td>[(2, 1), (2, 1), (2, 1), (2, 1), (2, 1)]</td>\n",
       "      <td>[0.46734234512476247, 0.7073675287501551, 0.38...</td>\n",
       "      <td>[0.6250351681035349, 0.6950405173757207, 0.400...</td>\n",
       "      <td>[0.3502872814870276, 0.6943961257927083, 0.395...</td>\n",
       "      <td>[0.5095859808705673, 0.7370441503040153, 0.392...</td>\n",
       "      <td>[0.4050758234328214, 0.6946057886082366, 0.396...</td>\n",
       "      <td>[0.6499747722685867, 0.7901552847898534, 0.400...</td>\n",
       "      <td>[0.22045093583592704, 0.21831797836758002, 0.1...</td>\n",
       "      <td>[0.045454545454545456, 0.08158995815899582, 0....</td>\n",
       "    </tr>\n",
       "    <tr>\n",
       "      <th>5</th>\n",
       "      <td>[(2, -1), (2, -1), (2, 0), (2, 1), (2, 1)]</td>\n",
       "      <td>[0.7492963230343687, 0.9486712901332646, 0.714...</td>\n",
       "      <td>[0.7910290460131393, 0.9434230673361108, 0.685...</td>\n",
       "      <td>[0.7005743577075099, 0.9415738498789346, 0.709...</td>\n",
       "      <td>[0.7408216933542249, 0.9350568255056898, 0.688...</td>\n",
       "      <td>[0.6707435132307799, 0.8605570291777188, 0.699...</td>\n",
       "      <td>[0.7766340802055087, 0.9220238095238095, 0.671...</td>\n",
       "      <td>[0.13689024390243903, 0.48129940235203394, 0.3...</td>\n",
       "      <td>[0.037209302325581395, 0.08158995815899582, 0....</td>\n",
       "    </tr>\n",
       "  </tbody>\n",
       "</table>\n",
       "</div>"
      ],
      "text/plain": [
       "                                       signature  \\\n",
       "0                             [(5, -1), (5, -1)]   \n",
       "1                               [(5, 1), (5, 1)]   \n",
       "2                              [(5, -1), (5, 1)]   \n",
       "3  [(2, -1), (2, -1), (2, -1), (2, -1), (2, -1)]   \n",
       "4       [(2, 1), (2, 1), (2, 1), (2, 1), (2, 1)]   \n",
       "5     [(2, -1), (2, -1), (2, 0), (2, 1), (2, 1)]   \n",
       "\n",
       "                                          psdt_score  \\\n",
       "0  [0.9551573426573426, 0.9785456187895212, 0.926...   \n",
       "1  [0.5155353876100239, 0.44970776424264797, 0.56...   \n",
       "2  [0.9551573426573426, 0.9785456187895212, 0.926...   \n",
       "3  [0.5221285999974525, 0.9486712901332646, 0.702...   \n",
       "4  [0.46734234512476247, 0.7073675287501551, 0.38...   \n",
       "5  [0.7492963230343687, 0.9486712901332646, 0.714...   \n",
       "\n",
       "                                          psrf_score  \\\n",
       "0  [0.9588899598884433, 0.9785456187895212, 0.925...   \n",
       "1  [0.4592301855278525, 0.48272736223796936, 0.56...   \n",
       "2  [0.9588899598884433, 0.9785456187895212, 0.925...   \n",
       "3  [0.7866836859483919, 0.9434230673361108, 0.704...   \n",
       "4  [0.6250351681035349, 0.6950405173757207, 0.400...   \n",
       "5  [0.7910290460131393, 0.9434230673361108, 0.685...   \n",
       "\n",
       "                                            dt_score  \\\n",
       "0  [0.9260686177724762, 0.8727146254515196, 0.882...   \n",
       "1  [0.48822628936764145, 0.4580204903141638, 0.49...   \n",
       "2  [0.9260686177724762, 0.8679546771019484, 0.882...   \n",
       "3  [0.7072916666666667, 0.9232354034144317, 0.685...   \n",
       "4  [0.3502872814870276, 0.6943961257927083, 0.395...   \n",
       "5  [0.7005743577075099, 0.9415738498789346, 0.709...   \n",
       "\n",
       "                                            rf_score  \\\n",
       "0  [0.9417164357381749, 0.9015478591768107, 0.882...   \n",
       "1  [0.481566390413662, 0.5337546990988425, 0.5571...   \n",
       "2  [0.7804181816709451, 0.9345250105691996, 0.924...   \n",
       "3  [0.7223639642293134, 0.9284646061814557, 0.696...   \n",
       "4  [0.5095859808705673, 0.7370441503040153, 0.392...   \n",
       "5  [0.7408216933542249, 0.9350568255056898, 0.688...   \n",
       "\n",
       "                                          perc_score  \\\n",
       "0  [0.9360406954156955, 0.9945831907857224, 0.851...   \n",
       "1  [0.5652793171168018, 0.5249201427921208, 0.438...   \n",
       "2  [0.9360406954156955, 0.9945831907857224, 0.883...   \n",
       "3  [0.5960731952111262, 0.9054483938529629, 0.524...   \n",
       "4  [0.4050758234328214, 0.6946057886082366, 0.396...   \n",
       "5  [0.6707435132307799, 0.8605570291777188, 0.699...   \n",
       "\n",
       "                                           svm_score  \\\n",
       "0  [0.4226513252829042, 0.7208117776554761, 0.539...   \n",
       "1  [0.6806550459311195, 0.6939419404125287, 0.653...   \n",
       "2  [0.4226513252829042, 0.7208117776554761, 0.539...   \n",
       "3  [0.7532101751055706, 0.9112309103714138, 0.672...   \n",
       "4  [0.6499747722685867, 0.7901552847898534, 0.400...   \n",
       "5  [0.7766340802055087, 0.9220238095238095, 0.671...   \n",
       "\n",
       "                                       ps_perc_score  \\\n",
       "0  [0.36758528150266756, 0.1540133779264214, 0.56...   \n",
       "1  [0.15204005638747772, 0.1890918902251002, 0.14...   \n",
       "2  [0.23985645683265477, 0.2832761773608973, 0.23...   \n",
       "3  [0.14412811387900357, 0.02540094113127821, 0.0...   \n",
       "4  [0.22045093583592704, 0.21831797836758002, 0.1...   \n",
       "5  [0.13689024390243903, 0.48129940235203394, 0.3...   \n",
       "\n",
       "                                        ps_svm_score  \n",
       "0  [0.045454545454545456, 0.08158995815899582, 0....  \n",
       "1  [0.045454545454545456, 0.08158995815899582, 0....  \n",
       "2  [0.045454545454545456, 0.08158995815899582, 0....  \n",
       "3  [0.0365296803652968, 0.08158995815899582, 0.13...  \n",
       "4  [0.045454545454545456, 0.08158995815899582, 0....  \n",
       "5  [0.037209302325581395, 0.08158995815899582, 0....  "
      ]
     },
     "execution_count": 8,
     "metadata": {},
     "output_type": "execute_result"
    }
   ],
   "source": [
    "seed = 0\n",
    "results = []\n",
    "\n",
    "scores_tuple = benchmarking.compute_scores_by_signature(signatures, NUM_POINTS, NUM_CLASSES, seed=seed,\n",
    "                                                        max_depth=3, n_seeds=10, metric=\"f1\")\n",
    "rnd_seeds = scores_tuple[0]\n",
    "psdt_scores_by_signature = scores_tuple[1]\n",
    "psrf_scores_by_signature = scores_tuple[2]\n",
    "dt_scores_by_signature = scores_tuple[3]\n",
    "rf_scores_by_signature = scores_tuple[4]\n",
    "perc_scores_by_signature = scores_tuple[5]\n",
    "svm_scores_by_signature = scores_tuple[6]\n",
    "ps_perc_scores_by_signature = scores_tuple[7]\n",
    "ps_svm_scores_by_signature = scores_tuple[8]\n",
    "for signature, psdt_score, psrf_score, dt_score, rf_score, perc_score, svm_score, ps_perc_score, ps_svm_score \\\n",
    "        in zip(signatures, psdt_scores_by_signature, psrf_scores_by_signature, dt_scores_by_signature,\n",
    "               rf_scores_by_signature, perc_scores_by_signature, svm_scores_by_signature, \n",
    "               ps_perc_scores_by_signature, ps_svm_scores_by_signature):\n",
    "    results.append({\n",
    "        \"signature\": signature,\n",
    "        \"psdt_score\": psdt_score,\n",
    "        \"psrf_score\": psrf_score,\n",
    "        \"dt_score\": dt_score,\n",
    "        \"rf_score\": rf_score,\n",
    "        \"perc_score\": perc_score,\n",
    "        \"svm_score\": svm_score,\n",
    "        \"ps_perc_score\": ps_perc_score,\n",
    "        \"ps_svm_score\": ps_svm_score\n",
    "    })\n",
    "\n",
    "results = pd.DataFrame(results)\n",
    "results"
   ]
  },
  {
   "cell_type": "code",
   "execution_count": 9,
   "metadata": {},
   "outputs": [
    {
     "name": "stdout",
     "output_type": "stream",
     "text": [
      "H(5, 1) x H(5, 1)\n",
      "Avg PSDT Score: 95.0 +/- 2.8, Avg DT Score: 88.6 +/- 4.3\n",
      "PSDT and DT are significantly different\n",
      "Avg PSRF Score: 95.3 +/- 2.9, Avg RF Score: 90.0 +/- 3.6\n",
      "PSRF and RF are significantly different\n",
      "Avg Perceptron Score: 95.1 +/- 2.9, Avg SVM Score: 50.5 +/- 8.3\n",
      "Avg PS Perceptron Score: 31.9 +/- 8.0, Avg PS SVM Score: 9.1 +/- 1.6\n",
      "\n",
      "S(5, 1) x S(5, 1)\n",
      "Avg PSDT Score: 51.4 +/- 3.3, Avg DT Score: 47.9 +/- 2.4\n",
      "Avg PSRF Score: 52.4 +/- 4.0, Avg RF Score: 50.1 +/- 2.2\n",
      "Avg Perceptron Score: 38.0 +/- 5.7, Avg SVM Score: 71.0 +/- 2.7\n",
      "Avg PS Perceptron Score: 19.7 +/- 5.0, Avg PS SVM Score: 9.3 +/- 1.5\n",
      "\n",
      "H(5, 1) x S(5, 1)\n",
      "Avg PSDT Score: 95.0 +/- 2.8, Avg DT Score: 88.8 +/- 4.4\n",
      "PSDT and DT are significantly different\n",
      "Avg PSRF Score: 95.3 +/- 2.9, Avg RF Score: 87.5 +/- 3.8\n",
      "PSRF and RF are significantly different\n",
      "Avg Perceptron Score: 95.7 +/- 2.4, Avg SVM Score: 50.5 +/- 8.3\n",
      "Avg PS Perceptron Score: 24.6 +/- 3.0, Avg PS SVM Score: 9.3 +/- 1.5\n",
      "\n",
      "H(2, 1) x H(2, 1) x H(2, 1) x H(2, 1) x H(2, 1)\n",
      "Avg PSDT Score: 67.6 +/- 9.0, Avg DT Score: 67.5 +/- 7.6\n",
      "Avg PSRF Score: 72.0 +/- 8.0, Avg RF Score: 68.6 +/- 7.0\n",
      "Avg Perceptron Score: 59.4 +/- 11.4, Avg SVM Score: 64.3 +/- 10.1\n",
      "Avg PS Perceptron Score: 17.4 +/- 5.1, Avg PS SVM Score: 9.2 +/- 1.6\n",
      "\n",
      "S(2, 1) x S(2, 1) x S(2, 1) x S(2, 1) x S(2, 1)\n",
      "Avg PSDT Score: 44.4 +/- 6.9, Avg DT Score: 42.7 +/- 6.8\n",
      "Avg PSRF Score: 47.8 +/- 7.1, Avg RF Score: 47.0 +/- 6.9\n",
      "Avg Perceptron Score: 35.2 +/- 8.8, Avg SVM Score: 52.8 +/- 7.9\n",
      "Avg PS Perceptron Score: 19.7 +/- 1.9, Avg PS SVM Score: 9.3 +/- 1.5\n",
      "\n",
      "H(2, 1) x H(2, 1) x E(2) x S(2, 1) x S(2, 1)\n",
      "Avg PSDT Score: 71.0 +/- 7.6, Avg DT Score: 68.4 +/- 7.7\n",
      "PSDT and DT are significantly different\n",
      "Avg PSRF Score: 71.9 +/- 8.0, Avg RF Score: 69.0 +/- 8.1\n",
      "Avg Perceptron Score: 67.5 +/- 10.1, Avg SVM Score: 65.8 +/- 9.7\n",
      "Avg PS Perceptron Score: 22.0 +/- 6.9, Avg PS SVM Score: 9.1 +/- 1.7\n",
      "\n"
     ]
    }
   ],
   "source": [
    "for signature, (i, row) in zip(signatures, results.iterrows()):\n",
    "    psdt_scores = row[\"psdt_score\"]\n",
    "    psrf_scores = row[\"psrf_score\"]\n",
    "    dt_scores = row[\"dt_score\"]\n",
    "    rf_scores = row[\"rf_score\"]\n",
    "    perc_scores = row[\"perc_score\"]\n",
    "    svm_scores = row[\"svm_score\"]\n",
    "    ps_perc_scores = row[\"ps_perc_score\"]\n",
    "    ps_svm_scores = row[\"ps_svm_score\"]\n",
    "    s = []\n",
    "    for component in signature:\n",
    "        if component[1] < 0:\n",
    "            s.append(\"H(\" + f\"{component[0]}, {-component[1]}\" + \")\")\n",
    "        elif component[1] == 0:\n",
    "            s.append(\"E(\" + f\"{component[0]}\" + \")\")\n",
    "        else:\n",
    "            s.append(\"S(\" + f\"{component[0]}, {component[1]}\" + \")\")\n",
    "    print(\" x \".join(s))\n",
    "    print(f\"Avg PSDT Score: {np.mean(psdt_scores) * 100:.1f} +/- {np.std(psdt_scores) / np.sqrt(len(psdt_scores)) * 1.96 * 100 :.1f}\", end=\", \")\n",
    "    print(f\"Avg DT Score: {np.mean(dt_scores) * 100:.1f} +/- {np.std(dt_scores) / np.sqrt(len(dt_scores)) * 1.96 * 100 :.1f}\")\n",
    "    \n",
    "    t, p = stats.ttest_rel(psdt_scores, dt_scores)\n",
    "    if p < .05:\n",
    "        print(\"PSDT and DT are significantly different\")\n",
    "    \n",
    "    print(f\"Avg PSRF Score: {np.mean(psrf_scores) * 100:.1f} +/- {np.std(psrf_scores) / np.sqrt(len(psrf_scores)) * 1.96 * 100 :.1f}\", end=\", \")\n",
    "    print(f\"Avg RF Score: {np.mean(rf_scores) * 100:.1f} +/- {np.std(rf_scores) / np.sqrt(len(rf_scores)) * 1.96 * 100 :.1f}\")\n",
    "\n",
    "    t, p = stats.ttest_rel(psrf_scores, rf_scores)\n",
    "    if p < .05:\n",
    "        print(\"PSRF and RF are significantly different\")\n",
    "\n",
    "    print(f\"Avg Perceptron Score: {np.mean(perc_scores) * 100:.1f} +/- {np.std(perc_scores) / np.sqrt(len(perc_scores)) * 1.96 * 100 :.1f}\", end=\", \")\n",
    "    print(f\"Avg SVM Score: {np.mean(svm_scores) * 100:.1f} +/- {np.std(svm_scores) / np.sqrt(len(svm_scores)) * 1.96 * 100 :.1f}\")\n",
    "    print(f\"Avg PS Perceptron Score: {np.mean(ps_perc_scores) * 100:.1f} +/- {np.std(ps_perc_scores) / np.sqrt(len(ps_perc_scores)) * 1.96 * 100 :.1f}\", end=\", \")\n",
    "    print(f\"Avg PS SVM Score: {np.mean(ps_svm_scores) * 100:.1f} +/- {np.std(ps_svm_scores) / np.sqrt(len(ps_svm_scores)) * 1.96 * 100 :.1f}\")\n",
    "    \n",
    "    print(\"\")"
   ]
  },
  {
   "cell_type": "code",
   "execution_count": null,
   "metadata": {},
   "outputs": [],
   "source": []
  }
 ],
 "metadata": {
  "kernelspec": {
   "display_name": "psdt",
   "language": "python",
   "name": "python3"
  },
  "language_info": {
   "codemirror_mode": {
    "name": "ipython",
    "version": 3
   },
   "file_extension": ".py",
   "mimetype": "text/x-python",
   "name": "python",
   "nbconvert_exporter": "python",
   "pygments_lexer": "ipython3",
   "version": "3.11.9"
  }
 },
 "nbformat": 4,
 "nbformat_minor": 2
}
